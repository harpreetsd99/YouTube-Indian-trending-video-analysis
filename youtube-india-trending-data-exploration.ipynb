{
 "cells": [
  {
   "cell_type": "markdown",
   "metadata": {
    "_cell_guid": "f9a2b71f-3452-4357-aefe-ccd5abf5cf6d",
    "_uuid": "1e7c18e3ae5770d737d9da52221d854a791e051e"
   },
   "source": [
    "# YouTube India Data Exploration\n",
    "### Data Exploration and Visualization With Python\n",
    "***\n",
    "\n"
   ]
  },
  {
   "cell_type": "markdown",
   "metadata": {
    "_cell_guid": "5bd5450d-2e32-4c46-aed1-184cd1fd927e",
    "_uuid": "46752ee0b531542e2ee00e0984026ce08547404f"
   },
   "source": [
    "<img src='https://upload.wikimedia.org/wikipedia/commons/e/e1/Logo_of_YouTube_%282015-2017%29.svg'>"
   ]
  },
  {
   "cell_type": "markdown",
   "metadata": {},
   "source": [
    "## Introduction\n",
    "1) YouTube is the most popular and most used video platfrom in the world today. YouTube has [a list of **trending videos**](https://www.youtube.com/feed/trending) that is updated constantly.\n",
    "\n",
    "2)  The dataset that we will use is obtained from Kaggle [here](https://storage.googleapis.com/kaggle-data-sets/4549%2F466349%2Fcompressed%2FINvideos.csv.zip?GoogleAccessId=gcp-kaggle-com@kaggle-161607.iam.gserviceaccount.com&Expires=1593512245&Signature=ak09RWd7mUl62VKZeb2WX5sSJQb0Kp%2BJW58ZAiW3GM61I0aH8rOXV2QTSYUrJuxzgRN0u6r0WfgR5kfIoJyJicydvD0vutKMzNM%2B1fqKZWxe6xbt7caxtzG0iLrL3h%2FthktiieMQrisSsZGaH%2BEw26%2Fxj3mhZa3k0YCC3FKymxbiqB6Yl6oCbM19gCgEOVjipGiXZmHWtpIG75O7FcI%2Byiju9LXC7ojGwcEuJ9lrCkj1er%2BVrW0DQwGlwEL11fqs3yE%2BIrFW1lhtV4ikytHv0PpGvPRy0%2BfNpCtQzZhUzwTDuFGv7MPwAcpk%2B%2FlFoy4hXr9bJRMcYkkHoluqCiq3%2Bg%3D%3D). It contains data about trending videos for many countries. Here we will analyze Indian trending videos.\n",
    "\n",
    "3) Here we will analyze a dataset that was collected over <font color=green>**213 days**</font> and it contains <font color=green>**16 Variables**</font> &  <font color=green>**more than 37,000</font> trending videos**. \n",
    "\n",
    "4) This data is \"between the **<font color=green>14 November 2017</font> and <font color=green>14 June 2018</font>**\".\n",
    "\n",
    "5) The **purpose** of the analysis of this data is to get insights into YouTube trending videos, to see what is common between these videos. Those insights might also be used by people who want to increase popularity of their videos on YouTube."
   ]
  },
  {
   "cell_type": "markdown",
   "metadata": {},
   "source": [
    "## After the analysis we would be able to answer following questions\n",
    "\n",
    "* **How many views** do our trending videos have? Do most of them have a large number of views?\n",
    "\n",
    "\n",
    "* The same questions above, but applied to **likes and comment count** instead of views.\n",
    "\n",
    "\n",
    "* How many trending videos contain a **fully-capitalized word** in their titles?\n",
    "\n",
    "\n",
    "* What are the **lengths of trending video titles**? Is this length related to the video becoming trendy?\n",
    "\n",
    "\n",
    "* How are views, likes, dislikes, comment count, title length, and other **attributes correlate with (relate to) each other**? How are they connected?\n",
    "\n",
    "\n",
    "* What are the **most common tags** in trending video?\n",
    "\n",
    "\n",
    "* Which YouTube **channels have the largest number of trending videos**?\n",
    "\n",
    "\n",
    "* Which video **category (e.g. Entertainment, Gaming, Comedy, etc.) has the largest number of trending videos**?\n",
    "\n",
    "\n",
    "* When were trending videos published? at **which times of the day**?\n",
    "\n"
   ]
  },
  {
   "cell_type": "markdown",
   "metadata": {
    "_cell_guid": "075d4522-3274-40c2-828b-36b673e8935c",
    "_uuid": "3c625c678819bc4c3167bf60488d68e729f5fda0"
   },
   "source": [
    "## Table of Contents\n",
    "\n",
    "* [1. Importing dataset and data preprocessing](#importing_dataset_and_data_preprocessing) <a id=\"1\"></a> <br>\n",
    " * [1.1. Importing essential libraries](#importing_essential_libraries)<a id=\"1.1\"></a> <br>\n",
    " * [1.2. Importing datasets](#importing_datasets)<a id=\"1.2\"></a> <br>\n",
    " * [1.3. Let's summarize the datasets](#lets_summarize_the_dataset)<a id=\"1.3\"></a> <br>\n",
    " * [1.4. Unique values of the dataset](#unique_value_the_dataset)<a id=\"1.4\"></a> <br>\n",
    " * [1.5. Data preprocessing and feature engineering](#data_preprocessing_and_feature_engineering)<a id=\"1.5\"></a> <br>\n",
    "   * [1.5.1. Dataset collection years](#dataset_collection_years)<a id=\"1.5.1\"></a> <br>   \n",
    "   * [1.5.2. Removing Column 'Description'](#description-removing)<a id=\"1.5.2\"></a> <br>\n",
    "   * [1.5.3. Datetime format of Trending date and Publish time](#datetime_format_of_trending_date_and_publish_time)<a id=\"1.5.3\"></a> <br>\n",
    "   * [1.5.4. Assignment of the film category](#assignment_of_the_film_category)<a id=\"1.5.4\"></a> <br>\n",
    "   * [1.5.5. Addition of column 'non-reactors'](#addition_of_column_non_reactors)<a id=\"1.5.5\"></a> <br>\n",
    "   * [1.5.6. Addition of column 'Days before trend'](#time_to_trend)<a id=\"1.5.6\"></a> <br>\n",
    "   * [1.5.7. Addition of column 'Views per day'](#views_per_day)<a id=\"1.5.7\"></a> <br>\n",
    "   * [1.5.8. Description on non-numerical columns](#description_on_non_numerical_columns)<a id=\"1.5.8\"></a> <br>\n",
    "   * [1.5.9. Number of words with all upper case in title](#number_of_words_with_all_upper_case_in_title)<a id=\"1.5.10\"></a> <br>\n",
    "   * [1.5.10. Distribution of basic parameters](#distribution_of_basic_parameters)<a id=\"1.5.11\"></a> <br>\n",
    "   * [1.5.11. What about duplicates?](#what_about_duplicates)<a id=\"1.5.12\"></a> <br>\n",
    "   * [1.5.12. Missing Value for Category Columns](#missing_value)<a id=\"1.5.13\"></a> <br>\n",
    "   * [1.5.13. Outputing the file in CSV Format](#output_file)<a id=\"1.5.14\"></a> <br>\n",
    "<br>\n",
    "* [2. Data Visualization and Analysis](#data_visualization)<a id=\"2\"></a> <br>\n",
    " * [2.1. Best time to publish video](#best_time_to_publish_video)<a id=\"2.1\"></a> <br>\n",
    " * [2.2. Describtion of numerical columns](#describtion_of_numerical_columns)<a id=\"2.2\"></a> <br>\n",
    " * [2.3. Trending video titles contain capitalized word](#titles_capitalized_word)<a id=\"2.3\"></a> <br>\n",
    " * [2.4. Trending video titles Lengths](#title_lengths)<a id=\"2.4\"></a> <br>\n",
    " * [2.5. Correlation between dataset variables](#correlation)<a id=\"2.5\"></a> <br>\n",
    " * [2.6. It got viral](#it_got_viral)<a id=\"2.6\"></a> <br>\n",
    " * [2.7. Most influential creators](#most_influential_creators)<a id=\"2.7\"></a> <br>\n",
    " * [2.8. Variety of topics](#variety_of_topics)<a id=\"2.8\"></a> <br>\n",
    " * [2.9. Average time interval](#avg_time_interval)<a id=\"2.9\"></a> <br>\n",
    " * [2.10. Late bloomers](#late_bloomers)<a id=\"2.10\"></a> <br>\n",
    " * [2.11. Non-Reactor Viewers](#non_reactor_viewers)<a id=\"2.11\"></a> <br>\n",
    " * [2.12. Tags wordcloud](#tags_wordcloud)<a id=\"2.12\"></a> <br>\n",
    " * [2.13. Videos have both comments and ratings disabled](#comments_and_ratings_disabled)<a id=\"2.13\"></a> <br>\n",
    " \n",
    "  <br>\n",
    "* [3. Conclusions](#Conclusions)<a id=\"3\"></a> <br>"
   ]
  },
  {
   "cell_type": "markdown",
   "metadata": {
    "_cell_guid": "a6cf4878-7d6c-4d60-9ab6-daa6102d48ac",
    "_uuid": "21ad4084136bfa8419f01051971f7da0d47b28ed"
   },
   "source": [
    "# 1. Importing dataset and data preprocessing                                                               \n",
    "<a id=\"importing_dataset_and_data_preprocessing\"></a> "
   ]
  },
  {
   "cell_type": "markdown",
   "metadata": {},
   "source": [
    " [Back](#1)"
   ]
  },
  {
   "cell_type": "markdown",
   "metadata": {
    "_cell_guid": "a291dd18-d247-4a5a-a5cd-fb1bfea20bf3",
    "_uuid": "2e39c72435537be1fa82fc85560a2bd74e6ea6de"
   },
   "source": [
    "## 1.1. Importing essential libraries\n",
    "<a id=\"importing_essential_libraries\"></a> \n",
    "First, we import some Python packages that will help us analyzing the data, especially **`Pandas` and `Numpy` for data analysis** and **`matplotlib` , `Seaborn` and `Plotly` for visualization**."
   ]
  },
  {
   "cell_type": "code",
   "execution_count": 1,
   "metadata": {},
   "outputs": [],
   "source": [
    "# !pip install plotly"
   ]
  },
  {
   "cell_type": "code",
   "execution_count": 2,
   "metadata": {
    "_cell_guid": "6d109b9a-c8e5-445f-a0e0-943dc852a6d8",
    "_uuid": "2181057768174d863673707a4ff7d32edb66ab2d"
   },
   "outputs": [
    {
     "data": {
      "text/html": [
       "        <script type=\"text/javascript\">\n",
       "        window.PlotlyConfig = {MathJaxConfig: 'local'};\n",
       "        if (window.MathJax) {MathJax.Hub.Config({SVG: {font: \"STIX-Web\"}});}\n",
       "        if (typeof require !== 'undefined') {\n",
       "        require.undef(\"plotly\");\n",
       "        requirejs.config({\n",
       "            paths: {\n",
       "                'plotly': ['https://cdn.plot.ly/plotly-latest.min']\n",
       "            }\n",
       "        });\n",
       "        require(['plotly'], function(Plotly) {\n",
       "            window._Plotly = Plotly;\n",
       "        });\n",
       "        }\n",
       "        </script>\n",
       "        "
      ]
     },
     "metadata": {},
     "output_type": "display_data"
    },
    {
     "name": "stdout",
     "output_type": "stream",
     "text": [
      "Python: 3.7.6\n",
      "Pandas: 0.25.3\n",
      "Numpy: 1.17.4\n",
      "Seaborn: 0.9.1.dev0\n",
      "Matplotlib: 3.2.0rc2\n",
      "Plotly: 4.5.2\n"
     ]
    }
   ],
   "source": [
    "import sys \n",
    "import numpy as np\n",
    "import pandas as pd\n",
    "from scipy.optimize import curve_fit\n",
    "import seaborn as sns\n",
    "\n",
    "%matplotlib inline\n",
    "import matplotlib\n",
    "import matplotlib.pyplot as plt\n",
    "import matplotlib.colors as colors\n",
    "\n",
    "import plotly\n",
    "import plotly.offline as py\n",
    "py.init_notebook_mode(connected=True)\n",
    "import plotly.graph_objs as go\n",
    "import plotly.tools as tls\n",
    "import plotly.figure_factory as ff\n",
    "\n",
    "print('Python: {}'.format(sys.version[0:5]))\n",
    "# for Statistical analysis\n",
    "print('Pandas: {}'.format(pd.__version__))\n",
    "print('Numpy: {}'.format(np.__version__))\n",
    "# for Data Visualization \n",
    "print('Seaborn: {}'.format(sns.__version__))\n",
    "print('Matplotlib: {}'.format(matplotlib.__version__))\n",
    "print('Plotly: {}'.format(plotly.__version__))"
   ]
  },
  {
   "cell_type": "markdown",
   "metadata": {},
   "source": [
    " [Back](#1.1)"
   ]
  },
  {
   "cell_type": "markdown",
   "metadata": {
    "_cell_guid": "ddfdc496-84a5-495f-ac18-257ccf5d9950",
    "_uuid": "6fb6ed97f916dfb4c50551cc8c3590ac048014ce"
   },
   "source": [
    "## 1.2. Importing dataset\n",
    "<a id=\"importing_datasets\"></a>\n",
    "Then we read the dataset file which is in csv format."
   ]
  },
  {
   "cell_type": "code",
   "execution_count": 3,
   "metadata": {
    "_cell_guid": "418db61a-b689-4178-b98d-ca1059b8c53f",
    "_uuid": "56d7a3e9384798eea3fddae84a113a876916dc9f"
   },
   "outputs": [],
   "source": [
    "in_videos = pd.read_csv(r'C:\\Users\\PARTH\\Desktop\\project_files\\INvideos.csv')\n",
    "in_videos_categories = pd.read_json(r'C:\\Users\\PARTH\\Desktop\\project_files\\IN_category_id.json')"
   ]
  },
  {
   "cell_type": "markdown",
   "metadata": {},
   "source": [
    "Let's take a look at the variable descriptions:\n",
    "\n",
    "|    | Variable | Description |\n",
    "| :- | :- | :- |\n",
    "| 1. | video_id | provides unique id for each video  |\n",
    "| 2. | trending_date | Date on which the video became trending   |\n",
    "| 3. | title | Provides the title of the video  |\n",
    "| 4. | channel_title | Name of the channel from  which the video was published  |\n",
    "| 5. | category_id | id for the category of video  |\n",
    "| 6. | publish_time | Time on which the video was published  |\n",
    "| 7. | tags | Tags that were used with the videos  |\n",
    "| 8. | views | Provides number of views on a video  |\n",
    "| 9. | likes | Provides number of likes on a video  |\n",
    "| 10. | dislikes | Provides number of dislikes on a video  |\n",
    "| 11. | comment_count | Provides number of comments on a video  |\n",
    "| 12. | thumbnail_link |Link to the thumbnail of the video  |\n",
    "| 13. | comments_disabled | Indicates whether comments of the videos were disable or not    |\n",
    "| 14. | ratings_disabled | Indicates whether ratings of the videos were disable or not  |\n",
    "| 15. | video_error_or_removed | Indicates whether the video was removed coz of any error or not  |\n",
    "| 16. | description | Provides description of the published video  |"
   ]
  },
  {
   "cell_type": "markdown",
   "metadata": {},
   "source": [
    " [Back](#1.2)"
   ]
  },
  {
   "cell_type": "markdown",
   "metadata": {
    "_cell_guid": "8a91b294-1208-49e1-9cfa-6176c7cd9501",
    "_uuid": "6984a78c2c21d77e16aa19c53936d54e4c564b1c"
   },
   "source": [
    "## 1.3. Let's Observe the dataset\n",
    "<a id=\"lets_summarize_the_dataset\"></a>\n",
    "Let's get a feel of our dataset by displaying its first few rows."
   ]
  },
  {
   "cell_type": "code",
   "execution_count": 4,
   "metadata": {
    "_cell_guid": "500af2ad-1eae-44f0-9eb7-3604db6f3234",
    "_uuid": "9888e5c91a5c1e2b29c48929bdfe826f4ae6b21b"
   },
   "outputs": [
    {
     "data": {
      "text/html": [
       "<div>\n",
       "<style scoped>\n",
       "    .dataframe tbody tr th:only-of-type {\n",
       "        vertical-align: middle;\n",
       "    }\n",
       "\n",
       "    .dataframe tbody tr th {\n",
       "        vertical-align: top;\n",
       "    }\n",
       "\n",
       "    .dataframe thead th {\n",
       "        text-align: right;\n",
       "    }\n",
       "</style>\n",
       "<table border=\"1\" class=\"dataframe\">\n",
       "  <thead>\n",
       "    <tr style=\"text-align: right;\">\n",
       "      <th></th>\n",
       "      <th>video_id</th>\n",
       "      <th>trending_date</th>\n",
       "      <th>title</th>\n",
       "      <th>channel_title</th>\n",
       "      <th>category_id</th>\n",
       "      <th>publish_time</th>\n",
       "      <th>tags</th>\n",
       "      <th>views</th>\n",
       "      <th>likes</th>\n",
       "      <th>dislikes</th>\n",
       "      <th>comment_count</th>\n",
       "      <th>thumbnail_link</th>\n",
       "      <th>comments_disabled</th>\n",
       "      <th>ratings_disabled</th>\n",
       "      <th>video_error_or_removed</th>\n",
       "      <th>description</th>\n",
       "    </tr>\n",
       "  </thead>\n",
       "  <tbody>\n",
       "    <tr>\n",
       "      <th>0</th>\n",
       "      <td>kzwfHumJyYc</td>\n",
       "      <td>17.14.11</td>\n",
       "      <td>Sharry Mann: Cute Munda ( Song Teaser) | Parmi...</td>\n",
       "      <td>Lokdhun Punjabi</td>\n",
       "      <td>1</td>\n",
       "      <td>2017-11-12T12:20:39.000Z</td>\n",
       "      <td>sharry mann|\"sharry mann new song\"|\"sharry man...</td>\n",
       "      <td>1096327</td>\n",
       "      <td>33966</td>\n",
       "      <td>798</td>\n",
       "      <td>882</td>\n",
       "      <td>https://i.ytimg.com/vi/kzwfHumJyYc/default.jpg</td>\n",
       "      <td>False</td>\n",
       "      <td>False</td>\n",
       "      <td>False</td>\n",
       "      <td>Presenting Sharry Mann latest Punjabi Song  Cu...</td>\n",
       "    </tr>\n",
       "    <tr>\n",
       "      <th>1</th>\n",
       "      <td>10L1hZ9qa58</td>\n",
       "      <td>17.14.11</td>\n",
       "      <td>Stylish Star Allu Arjun @ ChaySam Wedding Rece...</td>\n",
       "      <td>TFPC</td>\n",
       "      <td>24</td>\n",
       "      <td>2017-11-12T15:48:08.000Z</td>\n",
       "      <td>Stylish Star Allu Arjun @ ChaySam Wedding Rece...</td>\n",
       "      <td>473988</td>\n",
       "      <td>2011</td>\n",
       "      <td>243</td>\n",
       "      <td>149</td>\n",
       "      <td>https://i.ytimg.com/vi/10L1hZ9qa58/default.jpg</td>\n",
       "      <td>False</td>\n",
       "      <td>False</td>\n",
       "      <td>False</td>\n",
       "      <td>Watch Stylish Star Allu Arjun @ ChaySam Weddin...</td>\n",
       "    </tr>\n",
       "    <tr>\n",
       "      <th>2</th>\n",
       "      <td>N1vE8iiEg64</td>\n",
       "      <td>17.14.11</td>\n",
       "      <td>Eruma Saani | Tamil vs English</td>\n",
       "      <td>Eruma Saani</td>\n",
       "      <td>23</td>\n",
       "      <td>2017-11-12T07:08:48.000Z</td>\n",
       "      <td>Eruma Saani|\"Tamil Comedy Videos\"|\"Films\"|\"Mov...</td>\n",
       "      <td>1242680</td>\n",
       "      <td>70353</td>\n",
       "      <td>1624</td>\n",
       "      <td>2684</td>\n",
       "      <td>https://i.ytimg.com/vi/N1vE8iiEg64/default.jpg</td>\n",
       "      <td>False</td>\n",
       "      <td>False</td>\n",
       "      <td>False</td>\n",
       "      <td>This video showcases the difference between pe...</td>\n",
       "    </tr>\n",
       "    <tr>\n",
       "      <th>3</th>\n",
       "      <td>kJzGH0PVQHQ</td>\n",
       "      <td>17.14.11</td>\n",
       "      <td>why Samantha became EMOTIONAL @ Samantha naga ...</td>\n",
       "      <td>Filmylooks</td>\n",
       "      <td>24</td>\n",
       "      <td>2017-11-13T01:14:16.000Z</td>\n",
       "      <td>Filmylooks|\"latest news\"|\"telugu movies\"|\"telu...</td>\n",
       "      <td>464015</td>\n",
       "      <td>492</td>\n",
       "      <td>293</td>\n",
       "      <td>66</td>\n",
       "      <td>https://i.ytimg.com/vi/kJzGH0PVQHQ/default.jpg</td>\n",
       "      <td>False</td>\n",
       "      <td>False</td>\n",
       "      <td>False</td>\n",
       "      <td>why Samantha became EMOTIONAL @ Samantha naga ...</td>\n",
       "    </tr>\n",
       "    <tr>\n",
       "      <th>4</th>\n",
       "      <td>il_pSa5l98w</td>\n",
       "      <td>17.14.11</td>\n",
       "      <td>MCA (Middle Class Abbayi) TEASER - Nani,Sai Pa...</td>\n",
       "      <td>Dil Raju</td>\n",
       "      <td>24</td>\n",
       "      <td>2017-11-10T04:29:50.000Z</td>\n",
       "      <td>Nenu Local|\"Nenu Local Telugu Movie\"|\"Nani\"|\"S...</td>\n",
       "      <td>6106669</td>\n",
       "      <td>98612</td>\n",
       "      <td>4185</td>\n",
       "      <td>4763</td>\n",
       "      <td>https://i.ytimg.com/vi/il_pSa5l98w/default.jpg</td>\n",
       "      <td>False</td>\n",
       "      <td>False</td>\n",
       "      <td>False</td>\n",
       "      <td>Watch MCA- Middle Class Abbayi First Look Teas...</td>\n",
       "    </tr>\n",
       "  </tbody>\n",
       "</table>\n",
       "</div>"
      ],
      "text/plain": [
       "      video_id trending_date  \\\n",
       "0  kzwfHumJyYc      17.14.11   \n",
       "1  10L1hZ9qa58      17.14.11   \n",
       "2  N1vE8iiEg64      17.14.11   \n",
       "3  kJzGH0PVQHQ      17.14.11   \n",
       "4  il_pSa5l98w      17.14.11   \n",
       "\n",
       "                                               title    channel_title  \\\n",
       "0  Sharry Mann: Cute Munda ( Song Teaser) | Parmi...  Lokdhun Punjabi   \n",
       "1  Stylish Star Allu Arjun @ ChaySam Wedding Rece...             TFPC   \n",
       "2                     Eruma Saani | Tamil vs English      Eruma Saani   \n",
       "3  why Samantha became EMOTIONAL @ Samantha naga ...       Filmylooks   \n",
       "4  MCA (Middle Class Abbayi) TEASER - Nani,Sai Pa...         Dil Raju   \n",
       "\n",
       "   category_id              publish_time  \\\n",
       "0            1  2017-11-12T12:20:39.000Z   \n",
       "1           24  2017-11-12T15:48:08.000Z   \n",
       "2           23  2017-11-12T07:08:48.000Z   \n",
       "3           24  2017-11-13T01:14:16.000Z   \n",
       "4           24  2017-11-10T04:29:50.000Z   \n",
       "\n",
       "                                                tags    views  likes  \\\n",
       "0  sharry mann|\"sharry mann new song\"|\"sharry man...  1096327  33966   \n",
       "1  Stylish Star Allu Arjun @ ChaySam Wedding Rece...   473988   2011   \n",
       "2  Eruma Saani|\"Tamil Comedy Videos\"|\"Films\"|\"Mov...  1242680  70353   \n",
       "3  Filmylooks|\"latest news\"|\"telugu movies\"|\"telu...   464015    492   \n",
       "4  Nenu Local|\"Nenu Local Telugu Movie\"|\"Nani\"|\"S...  6106669  98612   \n",
       "\n",
       "   dislikes  comment_count                                  thumbnail_link  \\\n",
       "0       798            882  https://i.ytimg.com/vi/kzwfHumJyYc/default.jpg   \n",
       "1       243            149  https://i.ytimg.com/vi/10L1hZ9qa58/default.jpg   \n",
       "2      1624           2684  https://i.ytimg.com/vi/N1vE8iiEg64/default.jpg   \n",
       "3       293             66  https://i.ytimg.com/vi/kJzGH0PVQHQ/default.jpg   \n",
       "4      4185           4763  https://i.ytimg.com/vi/il_pSa5l98w/default.jpg   \n",
       "\n",
       "   comments_disabled  ratings_disabled  video_error_or_removed  \\\n",
       "0              False             False                   False   \n",
       "1              False             False                   False   \n",
       "2              False             False                   False   \n",
       "3              False             False                   False   \n",
       "4              False             False                   False   \n",
       "\n",
       "                                         description  \n",
       "0  Presenting Sharry Mann latest Punjabi Song  Cu...  \n",
       "1  Watch Stylish Star Allu Arjun @ ChaySam Weddin...  \n",
       "2  This video showcases the difference between pe...  \n",
       "3  why Samantha became EMOTIONAL @ Samantha naga ...  \n",
       "4  Watch MCA- Middle Class Abbayi First Look Teas...  "
      ]
     },
     "execution_count": 4,
     "metadata": {},
     "output_type": "execute_result"
    }
   ],
   "source": [
    "in_videos.head()"
   ]
  },
  {
   "cell_type": "code",
   "execution_count": 5,
   "metadata": {},
   "outputs": [
    {
     "data": {
      "text/plain": [
       "'The data set has 37351 rows of data with 16 features.'"
      ]
     },
     "execution_count": 5,
     "metadata": {},
     "output_type": "execute_result"
    }
   ],
   "source": [
    "f\"The data set has {in_videos.shape[0]} rows of data with {in_videos.shape[1]} features.\""
   ]
  },
  {
   "cell_type": "code",
   "execution_count": 6,
   "metadata": {},
   "outputs": [
    {
     "data": {
      "text/plain": [
       "Index(['video_id', 'trending_date', 'title', 'channel_title', 'category_id',\n",
       "       'publish_time', 'tags', 'views', 'likes', 'dislikes', 'comment_count',\n",
       "       'thumbnail_link', 'comments_disabled', 'ratings_disabled',\n",
       "       'video_error_or_removed', 'description'],\n",
       "      dtype='object')"
      ]
     },
     "execution_count": 6,
     "metadata": {},
     "output_type": "execute_result"
    }
   ],
   "source": [
    "in_videos.columns"
   ]
  },
  {
   "cell_type": "markdown",
   "metadata": {},
   "source": [
    "Now, let's see some information about our dataset"
   ]
  },
  {
   "cell_type": "code",
   "execution_count": 7,
   "metadata": {
    "_cell_guid": "4bd4dfbc-21fd-4d94-93cb-1e0409ad134c",
    "_uuid": "45e18f639f3a43278a9e4176818d7afc3b3a621d"
   },
   "outputs": [
    {
     "name": "stdout",
     "output_type": "stream",
     "text": [
      "<class 'pandas.core.frame.DataFrame'>\n",
      "RangeIndex: 37351 entries, 0 to 37350\n",
      "Data columns (total 16 columns):\n",
      "video_id                  37351 non-null object\n",
      "trending_date             37351 non-null object\n",
      "title                     37351 non-null object\n",
      "channel_title             37351 non-null object\n",
      "category_id               37351 non-null int64\n",
      "publish_time              37351 non-null object\n",
      "tags                      37351 non-null object\n",
      "views                     37351 non-null int64\n",
      "likes                     37351 non-null int64\n",
      "dislikes                  37351 non-null int64\n",
      "comment_count             37351 non-null int64\n",
      "thumbnail_link            37351 non-null object\n",
      "comments_disabled         37351 non-null bool\n",
      "ratings_disabled          37351 non-null bool\n",
      "video_error_or_removed    37351 non-null bool\n",
      "description               36790 non-null object\n",
      "dtypes: bool(3), int64(5), object(8)\n",
      "memory usage: 3.8+ MB\n"
     ]
    }
   ],
   "source": [
    "in_videos.info()"
   ]
  },
  {
   "cell_type": "markdown",
   "metadata": {},
   "source": [
    "We can see that there are **`37351`** entries in the dataset. We can see also that all columns in the dataset are complete (i.e. they have **`37351`** non-null entries) except **`description`** column which has some **`null`** values; it only has **`36790`** non-null values."
   ]
  },
  {
   "cell_type": "markdown",
   "metadata": {},
   "source": [
    " [Back](#1.3)"
   ]
  },
  {
   "cell_type": "markdown",
   "metadata": {},
   "source": [
    "## 1.4. Unique values of the dataset\n",
    "<a id=\"unique_value_the_dataset\"></a>"
   ]
  },
  {
   "cell_type": "code",
   "execution_count": 8,
   "metadata": {},
   "outputs": [
    {
     "data": {
      "text/html": [
       "<div>\n",
       "<style scoped>\n",
       "    .dataframe tbody tr th:only-of-type {\n",
       "        vertical-align: middle;\n",
       "    }\n",
       "\n",
       "    .dataframe tbody tr th {\n",
       "        vertical-align: top;\n",
       "    }\n",
       "\n",
       "    .dataframe thead th {\n",
       "        text-align: right;\n",
       "    }\n",
       "</style>\n",
       "<table border=\"1\" class=\"dataframe\">\n",
       "  <thead>\n",
       "    <tr style=\"text-align: right;\">\n",
       "      <th></th>\n",
       "      <th>name</th>\n",
       "      <th>dtype</th>\n",
       "      <th>unique</th>\n",
       "    </tr>\n",
       "  </thead>\n",
       "  <tbody>\n",
       "    <tr>\n",
       "      <th>0</th>\n",
       "      <td>video_id</td>\n",
       "      <td>object</td>\n",
       "      <td>[kzwfHumJyYc, 10L1hZ9qa58, N1vE8iiEg64, kJzGH0...</td>\n",
       "    </tr>\n",
       "    <tr>\n",
       "      <th>1</th>\n",
       "      <td>trending_date</td>\n",
       "      <td>object</td>\n",
       "      <td>[17.14.11, 17.15.11, 17.16.11, 17.17.11, 17.18...</td>\n",
       "    </tr>\n",
       "    <tr>\n",
       "      <th>2</th>\n",
       "      <td>title</td>\n",
       "      <td>object</td>\n",
       "      <td>[Sharry Mann: Cute Munda ( Song Teaser) | Parm...</td>\n",
       "    </tr>\n",
       "    <tr>\n",
       "      <th>3</th>\n",
       "      <td>channel_title</td>\n",
       "      <td>object</td>\n",
       "      <td>[Lokdhun Punjabi, TFPC, Eruma Saani, Filmylook...</td>\n",
       "    </tr>\n",
       "    <tr>\n",
       "      <th>4</th>\n",
       "      <td>category_id</td>\n",
       "      <td>int64</td>\n",
       "      <td>[1, 24, 23, 10, 25, 22, 19, 28, 27, 26, 43, 17...</td>\n",
       "    </tr>\n",
       "    <tr>\n",
       "      <th>5</th>\n",
       "      <td>publish_time</td>\n",
       "      <td>object</td>\n",
       "      <td>[2017-11-12T12:20:39.000Z, 2017-11-12T15:48:08...</td>\n",
       "    </tr>\n",
       "    <tr>\n",
       "      <th>6</th>\n",
       "      <td>tags</td>\n",
       "      <td>object</td>\n",
       "      <td>[sharry mann|\"sharry mann new song\"|\"sharry ma...</td>\n",
       "    </tr>\n",
       "    <tr>\n",
       "      <th>7</th>\n",
       "      <td>views</td>\n",
       "      <td>int64</td>\n",
       "      <td>[1096327, 473988, 1242680, 464015, 6106669, 57...</td>\n",
       "    </tr>\n",
       "    <tr>\n",
       "      <th>8</th>\n",
       "      <td>likes</td>\n",
       "      <td>int64</td>\n",
       "      <td>[33966, 2011, 70353, 492, 98612, 127477, 13273...</td>\n",
       "    </tr>\n",
       "    <tr>\n",
       "      <th>9</th>\n",
       "      <td>dislikes</td>\n",
       "      <td>int64</td>\n",
       "      <td>[798, 243, 1624, 293, 4185, 7134, 8812, 53, 15...</td>\n",
       "    </tr>\n",
       "    <tr>\n",
       "      <th>10</th>\n",
       "      <td>comment_count</td>\n",
       "      <td>int64</td>\n",
       "      <td>[882, 149, 2684, 66, 4763, 8063, 10847, 23, 24...</td>\n",
       "    </tr>\n",
       "    <tr>\n",
       "      <th>11</th>\n",
       "      <td>thumbnail_link</td>\n",
       "      <td>object</td>\n",
       "      <td>[https://i.ytimg.com/vi/kzwfHumJyYc/default.jp...</td>\n",
       "    </tr>\n",
       "    <tr>\n",
       "      <th>12</th>\n",
       "      <td>comments_disabled</td>\n",
       "      <td>bool</td>\n",
       "      <td>[False, True]</td>\n",
       "    </tr>\n",
       "    <tr>\n",
       "      <th>13</th>\n",
       "      <td>ratings_disabled</td>\n",
       "      <td>bool</td>\n",
       "      <td>[False, True]</td>\n",
       "    </tr>\n",
       "    <tr>\n",
       "      <th>14</th>\n",
       "      <td>video_error_or_removed</td>\n",
       "      <td>bool</td>\n",
       "      <td>[False, True]</td>\n",
       "    </tr>\n",
       "    <tr>\n",
       "      <th>15</th>\n",
       "      <td>description</td>\n",
       "      <td>object</td>\n",
       "      <td>[Presenting Sharry Mann latest Punjabi Song  C...</td>\n",
       "    </tr>\n",
       "  </tbody>\n",
       "</table>\n",
       "</div>"
      ],
      "text/plain": [
       "                      name   dtype  \\\n",
       "0                 video_id  object   \n",
       "1            trending_date  object   \n",
       "2                    title  object   \n",
       "3            channel_title  object   \n",
       "4              category_id   int64   \n",
       "5             publish_time  object   \n",
       "6                     tags  object   \n",
       "7                    views   int64   \n",
       "8                    likes   int64   \n",
       "9                 dislikes   int64   \n",
       "10           comment_count   int64   \n",
       "11          thumbnail_link  object   \n",
       "12       comments_disabled    bool   \n",
       "13        ratings_disabled    bool   \n",
       "14  video_error_or_removed    bool   \n",
       "15             description  object   \n",
       "\n",
       "                                               unique  \n",
       "0   [kzwfHumJyYc, 10L1hZ9qa58, N1vE8iiEg64, kJzGH0...  \n",
       "1   [17.14.11, 17.15.11, 17.16.11, 17.17.11, 17.18...  \n",
       "2   [Sharry Mann: Cute Munda ( Song Teaser) | Parm...  \n",
       "3   [Lokdhun Punjabi, TFPC, Eruma Saani, Filmylook...  \n",
       "4   [1, 24, 23, 10, 25, 22, 19, 28, 27, 26, 43, 17...  \n",
       "5   [2017-11-12T12:20:39.000Z, 2017-11-12T15:48:08...  \n",
       "6   [sharry mann|\"sharry mann new song\"|\"sharry ma...  \n",
       "7   [1096327, 473988, 1242680, 464015, 6106669, 57...  \n",
       "8   [33966, 2011, 70353, 492, 98612, 127477, 13273...  \n",
       "9   [798, 243, 1624, 293, 4185, 7134, 8812, 53, 15...  \n",
       "10  [882, 149, 2684, 66, 4763, 8063, 10847, 23, 24...  \n",
       "11  [https://i.ytimg.com/vi/kzwfHumJyYc/default.jp...  \n",
       "12                                      [False, True]  \n",
       "13                                      [False, True]  \n",
       "14                                      [False, True]  \n",
       "15  [Presenting Sharry Mann latest Punjabi Song  C...  "
      ]
     },
     "execution_count": 8,
     "metadata": {},
     "output_type": "execute_result"
    }
   ],
   "source": [
    "t = pd.DataFrame([[i,in_videos[i].dtype,in_videos[i].unique()] for i in in_videos.columns])\n",
    "t.columns = ['name','dtype','unique']\n",
    "t"
   ]
  },
  {
   "cell_type": "markdown",
   "metadata": {},
   "source": [
    " [Back](#1.4)"
   ]
  },
  {
   "cell_type": "markdown",
   "metadata": {
    "_cell_guid": "a2c5ada5-edcc-4b6e-922b-3e5406bfa6ad",
    "_uuid": "dde7465a4deca0336adc24c4451b66a5e00203e6"
   },
   "source": [
    "## 1.5. Data preprocessing and feature engineering\n",
    "<a id=\"data_preprocessing_and_feature_engineering\"></a>"
   ]
  },
  {
   "cell_type": "markdown",
   "metadata": {},
   "source": [
    " [Back](#1.5)"
   ]
  },
  {
   "cell_type": "markdown",
   "metadata": {},
   "source": [
    "### 1.5.1. Dataset collection years\n",
    "<a id=\"dataset_collection_years\"></a>\n",
    "Let's see in which years the dataset was collected"
   ]
  },
  {
   "cell_type": "code",
   "execution_count": 9,
   "metadata": {},
   "outputs": [
    {
     "data": {
      "image/png": "[encoded data removed]",
      "text/plain": [
       "<Figure size 432x288 with 1 Axes>"
      ]
     },
     "metadata": {
      "needs_background": "light"
     },
     "output_type": "display_data"
    }
   ],
   "source": [
    "cdf = in_videos[\"trending_date\"].apply(lambda x: '20' + x[:2]).value_counts() \\\n",
    "            .to_frame().reset_index() \\\n",
    "            .rename(columns={\"index\": \"year\", \"trending_date\": \"No_of_videos\"})\n",
    "\n",
    "fig, ax = plt.subplots()\n",
    "_ = sns.barplot(x=\"year\", y=\"No_of_videos\", data=cdf, \n",
    "                palette=sns.color_palette(['#ff764a', '#ffa600'], n_colors=7), ax=ax)\n",
    "_ = ax.set(xlabel=\"Year\", ylabel=\"No. of videos\")"
   ]
  },
  {
   "cell_type": "code",
   "execution_count": 10,
   "metadata": {},
   "outputs": [
    {
     "data": {
      "text/plain": [
       "2018    0.75749\n",
       "2017    0.24251\n",
       "Name: trending_date, dtype: float64"
      ]
     },
     "execution_count": 10,
     "metadata": {},
     "output_type": "execute_result"
    }
   ],
   "source": [
    "in_videos[\"trending_date\"].apply(lambda x: '20' + x[:2]).value_counts(normalize=True)"
   ]
  },
  {
   "cell_type": "markdown",
   "metadata": {},
   "source": [
    "We can see that the dataset was collected in **2017** and **2018** with **`76%`** of it in 2018 and **`24%`** in 2017."
   ]
  },
  {
   "cell_type": "markdown",
   "metadata": {},
   "source": [
    " [Back](#1.5.1)"
   ]
  },
  {
   "cell_type": "markdown",
   "metadata": {},
   "source": [
    "### 1.5.2. Removing Column 'Description'\n",
    "<a id=\"description-removing\"></a>\n",
    "Summary and Titles are creating some issues with shifting the whole row into some next cell in the final csv output file. We are ignoring rows of data of that nature."
   ]
  },
  {
   "cell_type": "code",
   "execution_count": 11,
   "metadata": {},
   "outputs": [],
   "source": [
    "in_videos = in_videos.drop(['description'], axis = 1)\n"
   ]
  },
  {
   "cell_type": "markdown",
   "metadata": {},
   "source": [
    " [Back](#1.5.2)"
   ]
  },
  {
   "cell_type": "markdown",
   "metadata": {
    "_cell_guid": "239471c6-5228-46e9-ae46-e1bef98ed131",
    "_uuid": "c4b5b1ff8eb9c80592f3f931b2ae33c98dac3fb3"
   },
   "source": [
    "### 1.5.3. Datetime format of Trending date and Publish time\n",
    "<a id=\"datetime_format_of_trending_date_and_publish_time\"></a>"
   ]
  },
  {
   "cell_type": "markdown",
   "metadata": {
    "_cell_guid": "2e3b6a33-d494-435b-982d-ba4b067f245e",
    "_uuid": "45b435f6d19e3bc790cdb2b0527bbba54310d45f"
   },
   "source": [
    "<b>NOTE:</b> Firstly we will transform ```trending_date``` as well as ```publish_time``` from string to datetime format. This will allow us to easily perform arithmetic operations and compare these values. ```publish_time``` column will be divided into three separate ones ```publish_date```, ```publish_time``` and  ```publish_hour``` ."
   ]
  },
  {
   "cell_type": "code",
   "execution_count": 12,
   "metadata": {
    "_cell_guid": "6dd2adfc-aed2-49f2-bb88-624166e3f598",
    "_uuid": "e2d3578bb245a67e2842d334844124dc528a0d43"
   },
   "outputs": [],
   "source": [
    "################################### Use only once (Fails after 1st Attempt) ##################################\n",
    "# Transforming Trending date column to datetime format\n",
    "in_videos['trending_date'] = pd.to_datetime(in_videos['trending_date'], format='%y.%d.%m').dt.date\n",
    "\n",
    "# Transforming Trending date column to datetime format and splitting into two separate ones\n",
    "publish_time = pd.to_datetime(in_videos['publish_time'], format='%Y-%m-%dT%H:%M:%S.%fZ')\n",
    "in_videos['publish_date'] = publish_time.dt.date\n",
    "in_videos['publish_time'] = publish_time.dt.time\n",
    "in_videos['publish_hour'] = publish_time.dt.hour"
   ]
  },
  {
   "cell_type": "code",
   "execution_count": 13,
   "metadata": {
    "_cell_guid": "c83ecaee-e2a1-420a-acb4-2d268401be78",
    "_uuid": "4fb70165490ed0f42f96c39a30c9c29902083371",
    "scrolled": true
   },
   "outputs": [
    {
     "data": {
      "text/html": [
       "<div>\n",
       "<style scoped>\n",
       "    .dataframe tbody tr th:only-of-type {\n",
       "        vertical-align: middle;\n",
       "    }\n",
       "\n",
       "    .dataframe tbody tr th {\n",
       "        vertical-align: top;\n",
       "    }\n",
       "\n",
       "    .dataframe thead th {\n",
       "        text-align: right;\n",
       "    }\n",
       "</style>\n",
       "<table border=\"1\" class=\"dataframe\">\n",
       "  <thead>\n",
       "    <tr style=\"text-align: right;\">\n",
       "      <th></th>\n",
       "      <th>video_id</th>\n",
       "      <th>trending_date</th>\n",
       "      <th>title</th>\n",
       "      <th>channel_title</th>\n",
       "      <th>category_id</th>\n",
       "      <th>publish_time</th>\n",
       "      <th>tags</th>\n",
       "      <th>views</th>\n",
       "      <th>likes</th>\n",
       "      <th>dislikes</th>\n",
       "      <th>comment_count</th>\n",
       "      <th>thumbnail_link</th>\n",
       "      <th>comments_disabled</th>\n",
       "      <th>ratings_disabled</th>\n",
       "      <th>video_error_or_removed</th>\n",
       "      <th>publish_date</th>\n",
       "      <th>publish_hour</th>\n",
       "    </tr>\n",
       "  </thead>\n",
       "  <tbody>\n",
       "    <tr>\n",
       "      <th>0</th>\n",
       "      <td>kzwfHumJyYc</td>\n",
       "      <td>2017-11-14</td>\n",
       "      <td>Sharry Mann: Cute Munda ( Song Teaser) | Parmi...</td>\n",
       "      <td>Lokdhun Punjabi</td>\n",
       "      <td>1</td>\n",
       "      <td>12:20:39</td>\n",
       "      <td>sharry mann|\"sharry mann new song\"|\"sharry man...</td>\n",
       "      <td>1096327</td>\n",
       "      <td>33966</td>\n",
       "      <td>798</td>\n",
       "      <td>882</td>\n",
       "      <td>https://i.ytimg.com/vi/kzwfHumJyYc/default.jpg</td>\n",
       "      <td>False</td>\n",
       "      <td>False</td>\n",
       "      <td>False</td>\n",
       "      <td>2017-11-12</td>\n",
       "      <td>12</td>\n",
       "    </tr>\n",
       "    <tr>\n",
       "      <th>1</th>\n",
       "      <td>10L1hZ9qa58</td>\n",
       "      <td>2017-11-14</td>\n",
       "      <td>Stylish Star Allu Arjun @ ChaySam Wedding Rece...</td>\n",
       "      <td>TFPC</td>\n",
       "      <td>24</td>\n",
       "      <td>15:48:08</td>\n",
       "      <td>Stylish Star Allu Arjun @ ChaySam Wedding Rece...</td>\n",
       "      <td>473988</td>\n",
       "      <td>2011</td>\n",
       "      <td>243</td>\n",
       "      <td>149</td>\n",
       "      <td>https://i.ytimg.com/vi/10L1hZ9qa58/default.jpg</td>\n",
       "      <td>False</td>\n",
       "      <td>False</td>\n",
       "      <td>False</td>\n",
       "      <td>2017-11-12</td>\n",
       "      <td>15</td>\n",
       "    </tr>\n",
       "    <tr>\n",
       "      <th>2</th>\n",
       "      <td>N1vE8iiEg64</td>\n",
       "      <td>2017-11-14</td>\n",
       "      <td>Eruma Saani | Tamil vs English</td>\n",
       "      <td>Eruma Saani</td>\n",
       "      <td>23</td>\n",
       "      <td>07:08:48</td>\n",
       "      <td>Eruma Saani|\"Tamil Comedy Videos\"|\"Films\"|\"Mov...</td>\n",
       "      <td>1242680</td>\n",
       "      <td>70353</td>\n",
       "      <td>1624</td>\n",
       "      <td>2684</td>\n",
       "      <td>https://i.ytimg.com/vi/N1vE8iiEg64/default.jpg</td>\n",
       "      <td>False</td>\n",
       "      <td>False</td>\n",
       "      <td>False</td>\n",
       "      <td>2017-11-12</td>\n",
       "      <td>7</td>\n",
       "    </tr>\n",
       "    <tr>\n",
       "      <th>3</th>\n",
       "      <td>kJzGH0PVQHQ</td>\n",
       "      <td>2017-11-14</td>\n",
       "      <td>why Samantha became EMOTIONAL @ Samantha naga ...</td>\n",
       "      <td>Filmylooks</td>\n",
       "      <td>24</td>\n",
       "      <td>01:14:16</td>\n",
       "      <td>Filmylooks|\"latest news\"|\"telugu movies\"|\"telu...</td>\n",
       "      <td>464015</td>\n",
       "      <td>492</td>\n",
       "      <td>293</td>\n",
       "      <td>66</td>\n",
       "      <td>https://i.ytimg.com/vi/kJzGH0PVQHQ/default.jpg</td>\n",
       "      <td>False</td>\n",
       "      <td>False</td>\n",
       "      <td>False</td>\n",
       "      <td>2017-11-13</td>\n",
       "      <td>1</td>\n",
       "    </tr>\n",
       "    <tr>\n",
       "      <th>4</th>\n",
       "      <td>il_pSa5l98w</td>\n",
       "      <td>2017-11-14</td>\n",
       "      <td>MCA (Middle Class Abbayi) TEASER - Nani,Sai Pa...</td>\n",
       "      <td>Dil Raju</td>\n",
       "      <td>24</td>\n",
       "      <td>04:29:50</td>\n",
       "      <td>Nenu Local|\"Nenu Local Telugu Movie\"|\"Nani\"|\"S...</td>\n",
       "      <td>6106669</td>\n",
       "      <td>98612</td>\n",
       "      <td>4185</td>\n",
       "      <td>4763</td>\n",
       "      <td>https://i.ytimg.com/vi/il_pSa5l98w/default.jpg</td>\n",
       "      <td>False</td>\n",
       "      <td>False</td>\n",
       "      <td>False</td>\n",
       "      <td>2017-11-10</td>\n",
       "      <td>4</td>\n",
       "    </tr>\n",
       "  </tbody>\n",
       "</table>\n",
       "</div>"
      ],
      "text/plain": [
       "      video_id trending_date  \\\n",
       "0  kzwfHumJyYc    2017-11-14   \n",
       "1  10L1hZ9qa58    2017-11-14   \n",
       "2  N1vE8iiEg64    2017-11-14   \n",
       "3  kJzGH0PVQHQ    2017-11-14   \n",
       "4  il_pSa5l98w    2017-11-14   \n",
       "\n",
       "                                               title    channel_title  \\\n",
       "0  Sharry Mann: Cute Munda ( Song Teaser) | Parmi...  Lokdhun Punjabi   \n",
       "1  Stylish Star Allu Arjun @ ChaySam Wedding Rece...             TFPC   \n",
       "2                     Eruma Saani | Tamil vs English      Eruma Saani   \n",
       "3  why Samantha became EMOTIONAL @ Samantha naga ...       Filmylooks   \n",
       "4  MCA (Middle Class Abbayi) TEASER - Nani,Sai Pa...         Dil Raju   \n",
       "\n",
       "   category_id publish_time  \\\n",
       "0            1     12:20:39   \n",
       "1           24     15:48:08   \n",
       "2           23     07:08:48   \n",
       "3           24     01:14:16   \n",
       "4           24     04:29:50   \n",
       "\n",
       "                                                tags    views  likes  \\\n",
       "0  sharry mann|\"sharry mann new song\"|\"sharry man...  1096327  33966   \n",
       "1  Stylish Star Allu Arjun @ ChaySam Wedding Rece...   473988   2011   \n",
       "2  Eruma Saani|\"Tamil Comedy Videos\"|\"Films\"|\"Mov...  1242680  70353   \n",
       "3  Filmylooks|\"latest news\"|\"telugu movies\"|\"telu...   464015    492   \n",
       "4  Nenu Local|\"Nenu Local Telugu Movie\"|\"Nani\"|\"S...  6106669  98612   \n",
       "\n",
       "   dislikes  comment_count                                  thumbnail_link  \\\n",
       "0       798            882  https://i.ytimg.com/vi/kzwfHumJyYc/default.jpg   \n",
       "1       243            149  https://i.ytimg.com/vi/10L1hZ9qa58/default.jpg   \n",
       "2      1624           2684  https://i.ytimg.com/vi/N1vE8iiEg64/default.jpg   \n",
       "3       293             66  https://i.ytimg.com/vi/kJzGH0PVQHQ/default.jpg   \n",
       "4      4185           4763  https://i.ytimg.com/vi/il_pSa5l98w/default.jpg   \n",
       "\n",
       "   comments_disabled  ratings_disabled  video_error_or_removed publish_date  \\\n",
       "0              False             False                   False   2017-11-12   \n",
       "1              False             False                   False   2017-11-12   \n",
       "2              False             False                   False   2017-11-12   \n",
       "3              False             False                   False   2017-11-13   \n",
       "4              False             False                   False   2017-11-10   \n",
       "\n",
       "   publish_hour  \n",
       "0            12  \n",
       "1            15  \n",
       "2             7  \n",
       "3             1  \n",
       "4             4  "
      ]
     },
     "execution_count": 13,
     "metadata": {},
     "output_type": "execute_result"
    }
   ],
   "source": [
    "in_videos.head()"
   ]
  },
  {
   "cell_type": "markdown",
   "metadata": {},
   "source": [
    " [Back](#1.5.3)"
   ]
  },
  {
   "cell_type": "markdown",
   "metadata": {
    "_cell_guid": "2a295bcc-1836-4024-adea-f4b6623952fb",
    "_uuid": "5b916f9c46dddef54b882056421aceacb9807871"
   },
   "source": [
    "### 1.5.4. Addition of column 'category'\n",
    "<a id=\"assignment_of_the_film_category\"></a>"
   ]
  },
  {
   "cell_type": "markdown",
   "metadata": {
    "_cell_guid": "bec3379c-2e5d-4988-8537-1b420d952f3b",
    "_uuid": "62052eaadedd5fd806afe7e3521454051d004976"
   },
   "source": [
    "<b>NOTE:</b> Next we will connect the ```category``` with the ```category_id``` they belong to. We will associate the information in two files: ```INvideos.csv``` and ```IN_category_id.json``` ."
   ]
  },
  {
   "cell_type": "code",
   "execution_count": 14,
   "metadata": {
    "_cell_guid": "2d5d5c88-2890-4524-9549-1ca80e913285",
    "_uuid": "ae8f29516ae62eb0936ab03d27edc28a7e9e7647"
   },
   "outputs": [
    {
     "data": {
      "text/html": [
       "<div>\n",
       "<style scoped>\n",
       "    .dataframe tbody tr th:only-of-type {\n",
       "        vertical-align: middle;\n",
       "    }\n",
       "\n",
       "    .dataframe tbody tr th {\n",
       "        vertical-align: top;\n",
       "    }\n",
       "\n",
       "    .dataframe thead th {\n",
       "        text-align: right;\n",
       "    }\n",
       "</style>\n",
       "<table border=\"1\" class=\"dataframe\">\n",
       "  <thead>\n",
       "    <tr style=\"text-align: right;\">\n",
       "      <th></th>\n",
       "      <th>video_id</th>\n",
       "      <th>trending_date</th>\n",
       "      <th>title</th>\n",
       "      <th>channel_title</th>\n",
       "      <th>category</th>\n",
       "      <th>category_id</th>\n",
       "      <th>publish_time</th>\n",
       "      <th>tags</th>\n",
       "      <th>views</th>\n",
       "      <th>likes</th>\n",
       "      <th>dislikes</th>\n",
       "      <th>comment_count</th>\n",
       "      <th>thumbnail_link</th>\n",
       "      <th>comments_disabled</th>\n",
       "      <th>ratings_disabled</th>\n",
       "      <th>video_error_or_removed</th>\n",
       "      <th>publish_date</th>\n",
       "      <th>publish_hour</th>\n",
       "    </tr>\n",
       "  </thead>\n",
       "  <tbody>\n",
       "    <tr>\n",
       "      <th>37348</th>\n",
       "      <td>mV6aztP58f8</td>\n",
       "      <td>2018-06-14</td>\n",
       "      <td>Bhramanam I Episode 87 - 12 June 2018 I Mazhav...</td>\n",
       "      <td>Mazhavil Manorama</td>\n",
       "      <td>Entertainment</td>\n",
       "      <td>24</td>\n",
       "      <td>05:00:02</td>\n",
       "      <td>mazhavil manorama|\"bhramanam full episode\"|\"gt...</td>\n",
       "      <td>386319</td>\n",
       "      <td>1216</td>\n",
       "      <td>453</td>\n",
       "      <td>697</td>\n",
       "      <td>https://i.ytimg.com/vi/mV6aztP58f8/default.jpg</td>\n",
       "      <td>False</td>\n",
       "      <td>False</td>\n",
       "      <td>False</td>\n",
       "      <td>2018-06-13</td>\n",
       "      <td>5</td>\n",
       "    </tr>\n",
       "    <tr>\n",
       "      <th>37349</th>\n",
       "      <td>qxqDNP1bDEw</td>\n",
       "      <td>2018-06-14</td>\n",
       "      <td>Nua Bohu | Full Ep 285 | 13th June 2018 | Odia...</td>\n",
       "      <td>Tarang TV</td>\n",
       "      <td>Entertainment</td>\n",
       "      <td>24</td>\n",
       "      <td>15:07:49</td>\n",
       "      <td>tarang|\"tarang tv\"|\"tarang tv online\"|\"tarang ...</td>\n",
       "      <td>130263</td>\n",
       "      <td>698</td>\n",
       "      <td>115</td>\n",
       "      <td>65</td>\n",
       "      <td>https://i.ytimg.com/vi/qxqDNP1bDEw/default.jpg</td>\n",
       "      <td>False</td>\n",
       "      <td>False</td>\n",
       "      <td>False</td>\n",
       "      <td>2018-06-13</td>\n",
       "      <td>15</td>\n",
       "    </tr>\n",
       "    <tr>\n",
       "      <th>37350</th>\n",
       "      <td>wERgpPK44w0</td>\n",
       "      <td>2018-06-14</td>\n",
       "      <td>Ee Nagaraniki Emaindi Trailer | Tharun Bhascke...</td>\n",
       "      <td>Suresh Productions</td>\n",
       "      <td>Entertainment</td>\n",
       "      <td>24</td>\n",
       "      <td>04:29:54</td>\n",
       "      <td>Ee Nagaraniki Emaindi|\"Ee Nagaraniki Emaindi T...</td>\n",
       "      <td>1278249</td>\n",
       "      <td>22466</td>\n",
       "      <td>1609</td>\n",
       "      <td>1205</td>\n",
       "      <td>https://i.ytimg.com/vi/wERgpPK44w0/default.jpg</td>\n",
       "      <td>False</td>\n",
       "      <td>False</td>\n",
       "      <td>False</td>\n",
       "      <td>2018-06-10</td>\n",
       "      <td>4</td>\n",
       "    </tr>\n",
       "  </tbody>\n",
       "</table>\n",
       "</div>"
      ],
      "text/plain": [
       "          video_id trending_date  \\\n",
       "37348  mV6aztP58f8    2018-06-14   \n",
       "37349  qxqDNP1bDEw    2018-06-14   \n",
       "37350  wERgpPK44w0    2018-06-14   \n",
       "\n",
       "                                                   title       channel_title  \\\n",
       "37348  Bhramanam I Episode 87 - 12 June 2018 I Mazhav...   Mazhavil Manorama   \n",
       "37349  Nua Bohu | Full Ep 285 | 13th June 2018 | Odia...           Tarang TV   \n",
       "37350  Ee Nagaraniki Emaindi Trailer | Tharun Bhascke...  Suresh Productions   \n",
       "\n",
       "            category  category_id publish_time  \\\n",
       "37348  Entertainment           24     05:00:02   \n",
       "37349  Entertainment           24     15:07:49   \n",
       "37350  Entertainment           24     04:29:54   \n",
       "\n",
       "                                                    tags    views  likes  \\\n",
       "37348  mazhavil manorama|\"bhramanam full episode\"|\"gt...   386319   1216   \n",
       "37349  tarang|\"tarang tv\"|\"tarang tv online\"|\"tarang ...   130263    698   \n",
       "37350  Ee Nagaraniki Emaindi|\"Ee Nagaraniki Emaindi T...  1278249  22466   \n",
       "\n",
       "       dislikes  comment_count  \\\n",
       "37348       453            697   \n",
       "37349       115             65   \n",
       "37350      1609           1205   \n",
       "\n",
       "                                       thumbnail_link  comments_disabled  \\\n",
       "37348  https://i.ytimg.com/vi/mV6aztP58f8/default.jpg              False   \n",
       "37349  https://i.ytimg.com/vi/qxqDNP1bDEw/default.jpg              False   \n",
       "37350  https://i.ytimg.com/vi/wERgpPK44w0/default.jpg              False   \n",
       "\n",
       "       ratings_disabled  video_error_or_removed publish_date  publish_hour  \n",
       "37348             False                   False   2018-06-13             5  \n",
       "37349             False                   False   2018-06-13            15  \n",
       "37350             False                   False   2018-06-10             4  "
      ]
     },
     "execution_count": 14,
     "metadata": {},
     "output_type": "execute_result"
    }
   ],
   "source": [
    "# We'll use a very nice python featur - dictionary comprehension, to extract most important data from IN_category_id.json\n",
    "categories = {category['id']: category['snippet']['title'] for category in in_videos_categories['items']}\n",
    "\n",
    "# Now we will create new column that will represent name of category\n",
    "in_videos.insert(4, 'category', in_videos['category_id'].astype(str).map(categories))\n",
    "in_videos.tail(3)"
   ]
  },
  {
   "cell_type": "markdown",
   "metadata": {},
   "source": [
    " [Back](#1.5.4)"
   ]
  },
  {
   "cell_type": "markdown",
   "metadata": {},
   "source": [
    "### 1.5.5. Addition of column 'non-reactors'\n",
    "<a id=\"addition_of_column_non_reactors\"></a>\n",
    "Addeing a new column of non reactors (i.e. who just viewed the video but not either liked or disliked it.)"
   ]
  },
  {
   "cell_type": "code",
   "execution_count": 15,
   "metadata": {},
   "outputs": [
    {
     "data": {
      "text/html": [
       "<div>\n",
       "<style scoped>\n",
       "    .dataframe tbody tr th:only-of-type {\n",
       "        vertical-align: middle;\n",
       "    }\n",
       "\n",
       "    .dataframe tbody tr th {\n",
       "        vertical-align: top;\n",
       "    }\n",
       "\n",
       "    .dataframe thead th {\n",
       "        text-align: right;\n",
       "    }\n",
       "</style>\n",
       "<table border=\"1\" class=\"dataframe\">\n",
       "  <thead>\n",
       "    <tr style=\"text-align: right;\">\n",
       "      <th></th>\n",
       "      <th>video_id</th>\n",
       "      <th>trending_date</th>\n",
       "      <th>title</th>\n",
       "      <th>channel_title</th>\n",
       "      <th>category</th>\n",
       "      <th>category_id</th>\n",
       "      <th>publish_time</th>\n",
       "      <th>tags</th>\n",
       "      <th>views</th>\n",
       "      <th>likes</th>\n",
       "      <th>dislikes</th>\n",
       "      <th>comment_count</th>\n",
       "      <th>thumbnail_link</th>\n",
       "      <th>comments_disabled</th>\n",
       "      <th>ratings_disabled</th>\n",
       "      <th>video_error_or_removed</th>\n",
       "      <th>publish_date</th>\n",
       "      <th>publish_hour</th>\n",
       "      <th>non-reactors</th>\n",
       "    </tr>\n",
       "  </thead>\n",
       "  <tbody>\n",
       "    <tr>\n",
       "      <th>0</th>\n",
       "      <td>kzwfHumJyYc</td>\n",
       "      <td>2017-11-14</td>\n",
       "      <td>Sharry Mann: Cute Munda ( Song Teaser) | Parmi...</td>\n",
       "      <td>Lokdhun Punjabi</td>\n",
       "      <td>Film &amp; Animation</td>\n",
       "      <td>1</td>\n",
       "      <td>12:20:39</td>\n",
       "      <td>sharry mann|\"sharry mann new song\"|\"sharry man...</td>\n",
       "      <td>1096327</td>\n",
       "      <td>33966</td>\n",
       "      <td>798</td>\n",
       "      <td>882</td>\n",
       "      <td>https://i.ytimg.com/vi/kzwfHumJyYc/default.jpg</td>\n",
       "      <td>False</td>\n",
       "      <td>False</td>\n",
       "      <td>False</td>\n",
       "      <td>2017-11-12</td>\n",
       "      <td>12</td>\n",
       "      <td>1061563</td>\n",
       "    </tr>\n",
       "    <tr>\n",
       "      <th>1</th>\n",
       "      <td>10L1hZ9qa58</td>\n",
       "      <td>2017-11-14</td>\n",
       "      <td>Stylish Star Allu Arjun @ ChaySam Wedding Rece...</td>\n",
       "      <td>TFPC</td>\n",
       "      <td>Entertainment</td>\n",
       "      <td>24</td>\n",
       "      <td>15:48:08</td>\n",
       "      <td>Stylish Star Allu Arjun @ ChaySam Wedding Rece...</td>\n",
       "      <td>473988</td>\n",
       "      <td>2011</td>\n",
       "      <td>243</td>\n",
       "      <td>149</td>\n",
       "      <td>https://i.ytimg.com/vi/10L1hZ9qa58/default.jpg</td>\n",
       "      <td>False</td>\n",
       "      <td>False</td>\n",
       "      <td>False</td>\n",
       "      <td>2017-11-12</td>\n",
       "      <td>15</td>\n",
       "      <td>471734</td>\n",
       "    </tr>\n",
       "    <tr>\n",
       "      <th>2</th>\n",
       "      <td>N1vE8iiEg64</td>\n",
       "      <td>2017-11-14</td>\n",
       "      <td>Eruma Saani | Tamil vs English</td>\n",
       "      <td>Eruma Saani</td>\n",
       "      <td>Comedy</td>\n",
       "      <td>23</td>\n",
       "      <td>07:08:48</td>\n",
       "      <td>Eruma Saani|\"Tamil Comedy Videos\"|\"Films\"|\"Mov...</td>\n",
       "      <td>1242680</td>\n",
       "      <td>70353</td>\n",
       "      <td>1624</td>\n",
       "      <td>2684</td>\n",
       "      <td>https://i.ytimg.com/vi/N1vE8iiEg64/default.jpg</td>\n",
       "      <td>False</td>\n",
       "      <td>False</td>\n",
       "      <td>False</td>\n",
       "      <td>2017-11-12</td>\n",
       "      <td>7</td>\n",
       "      <td>1170703</td>\n",
       "    </tr>\n",
       "    <tr>\n",
       "      <th>3</th>\n",
       "      <td>kJzGH0PVQHQ</td>\n",
       "      <td>2017-11-14</td>\n",
       "      <td>why Samantha became EMOTIONAL @ Samantha naga ...</td>\n",
       "      <td>Filmylooks</td>\n",
       "      <td>Entertainment</td>\n",
       "      <td>24</td>\n",
       "      <td>01:14:16</td>\n",
       "      <td>Filmylooks|\"latest news\"|\"telugu movies\"|\"telu...</td>\n",
       "      <td>464015</td>\n",
       "      <td>492</td>\n",
       "      <td>293</td>\n",
       "      <td>66</td>\n",
       "      <td>https://i.ytimg.com/vi/kJzGH0PVQHQ/default.jpg</td>\n",
       "      <td>False</td>\n",
       "      <td>False</td>\n",
       "      <td>False</td>\n",
       "      <td>2017-11-13</td>\n",
       "      <td>1</td>\n",
       "      <td>463230</td>\n",
       "    </tr>\n",
       "    <tr>\n",
       "      <th>4</th>\n",
       "      <td>il_pSa5l98w</td>\n",
       "      <td>2017-11-14</td>\n",
       "      <td>MCA (Middle Class Abbayi) TEASER - Nani,Sai Pa...</td>\n",
       "      <td>Dil Raju</td>\n",
       "      <td>Entertainment</td>\n",
       "      <td>24</td>\n",
       "      <td>04:29:50</td>\n",
       "      <td>Nenu Local|\"Nenu Local Telugu Movie\"|\"Nani\"|\"S...</td>\n",
       "      <td>6106669</td>\n",
       "      <td>98612</td>\n",
       "      <td>4185</td>\n",
       "      <td>4763</td>\n",
       "      <td>https://i.ytimg.com/vi/il_pSa5l98w/default.jpg</td>\n",
       "      <td>False</td>\n",
       "      <td>False</td>\n",
       "      <td>False</td>\n",
       "      <td>2017-11-10</td>\n",
       "      <td>4</td>\n",
       "      <td>6003872</td>\n",
       "    </tr>\n",
       "  </tbody>\n",
       "</table>\n",
       "</div>"
      ],
      "text/plain": [
       "      video_id trending_date  \\\n",
       "0  kzwfHumJyYc    2017-11-14   \n",
       "1  10L1hZ9qa58    2017-11-14   \n",
       "2  N1vE8iiEg64    2017-11-14   \n",
       "3  kJzGH0PVQHQ    2017-11-14   \n",
       "4  il_pSa5l98w    2017-11-14   \n",
       "\n",
       "                                               title    channel_title  \\\n",
       "0  Sharry Mann: Cute Munda ( Song Teaser) | Parmi...  Lokdhun Punjabi   \n",
       "1  Stylish Star Allu Arjun @ ChaySam Wedding Rece...             TFPC   \n",
       "2                     Eruma Saani | Tamil vs English      Eruma Saani   \n",
       "3  why Samantha became EMOTIONAL @ Samantha naga ...       Filmylooks   \n",
       "4  MCA (Middle Class Abbayi) TEASER - Nani,Sai Pa...         Dil Raju   \n",
       "\n",
       "           category  category_id publish_time  \\\n",
       "0  Film & Animation            1     12:20:39   \n",
       "1     Entertainment           24     15:48:08   \n",
       "2            Comedy           23     07:08:48   \n",
       "3     Entertainment           24     01:14:16   \n",
       "4     Entertainment           24     04:29:50   \n",
       "\n",
       "                                                tags    views  likes  \\\n",
       "0  sharry mann|\"sharry mann new song\"|\"sharry man...  1096327  33966   \n",
       "1  Stylish Star Allu Arjun @ ChaySam Wedding Rece...   473988   2011   \n",
       "2  Eruma Saani|\"Tamil Comedy Videos\"|\"Films\"|\"Mov...  1242680  70353   \n",
       "3  Filmylooks|\"latest news\"|\"telugu movies\"|\"telu...   464015    492   \n",
       "4  Nenu Local|\"Nenu Local Telugu Movie\"|\"Nani\"|\"S...  6106669  98612   \n",
       "\n",
       "   dislikes  comment_count                                  thumbnail_link  \\\n",
       "0       798            882  https://i.ytimg.com/vi/kzwfHumJyYc/default.jpg   \n",
       "1       243            149  https://i.ytimg.com/vi/10L1hZ9qa58/default.jpg   \n",
       "2      1624           2684  https://i.ytimg.com/vi/N1vE8iiEg64/default.jpg   \n",
       "3       293             66  https://i.ytimg.com/vi/kJzGH0PVQHQ/default.jpg   \n",
       "4      4185           4763  https://i.ytimg.com/vi/il_pSa5l98w/default.jpg   \n",
       "\n",
       "   comments_disabled  ratings_disabled  video_error_or_removed publish_date  \\\n",
       "0              False             False                   False   2017-11-12   \n",
       "1              False             False                   False   2017-11-12   \n",
       "2              False             False                   False   2017-11-12   \n",
       "3              False             False                   False   2017-11-13   \n",
       "4              False             False                   False   2017-11-10   \n",
       "\n",
       "   publish_hour  non-reactors  \n",
       "0            12       1061563  \n",
       "1            15        471734  \n",
       "2             7       1170703  \n",
       "3             1        463230  \n",
       "4             4       6003872  "
      ]
     },
     "execution_count": 15,
     "metadata": {},
     "output_type": "execute_result"
    }
   ],
   "source": [
    "in_videos['non-reactors'] = in_videos.apply(lambda row: row.views - (row.likes + row.dislikes) , axis=1)\n",
    "\n",
    "in_videos.head()"
   ]
  },
  {
   "cell_type": "markdown",
   "metadata": {},
   "source": [
    " [Back](#1.5.5)"
   ]
  },
  {
   "cell_type": "markdown",
   "metadata": {
    "_cell_guid": "5bb67e92-463f-49df-abb9-61d50b5d6adc",
    "_uuid": "aff774c371a25898c23d453bff47cfb74d8ab4a8"
   },
   "source": [
    "### 1.5.6. Addition of column 'Days before trend'\n",
    "<a id=\"time_to_trend\"></a>"
   ]
  },
  {
   "cell_type": "markdown",
   "metadata": {
    "_cell_guid": "754c7802-104a-4052-9737-0cf0af10a3f3",
    "_uuid": "cbea685edab8137dca2db0aa0ccd849dfc4aed93"
   },
   "source": [
    "<b>NOTE:</b> Lastly we will create new feature ```days_before_trend``` representing the time (in days) between publication and the day when it became trending."
   ]
  },
  {
   "cell_type": "code",
   "execution_count": 16,
   "metadata": {
    "_cell_guid": "1dbd784c-d4ec-4f60-8ed1-598cbe461ad2",
    "_uuid": "1221a0448f69dc0e34f3c245fae5737c8952c004",
    "scrolled": true
   },
   "outputs": [
    {
     "data": {
      "text/html": [
       "<div>\n",
       "<style scoped>\n",
       "    .dataframe tbody tr th:only-of-type {\n",
       "        vertical-align: middle;\n",
       "    }\n",
       "\n",
       "    .dataframe tbody tr th {\n",
       "        vertical-align: top;\n",
       "    }\n",
       "\n",
       "    .dataframe thead th {\n",
       "        text-align: right;\n",
       "    }\n",
       "</style>\n",
       "<table border=\"1\" class=\"dataframe\">\n",
       "  <thead>\n",
       "    <tr style=\"text-align: right;\">\n",
       "      <th></th>\n",
       "      <th>video_id</th>\n",
       "      <th>trending_date</th>\n",
       "      <th>title</th>\n",
       "      <th>channel_title</th>\n",
       "      <th>category</th>\n",
       "      <th>category_id</th>\n",
       "      <th>publish_time</th>\n",
       "      <th>tags</th>\n",
       "      <th>views</th>\n",
       "      <th>likes</th>\n",
       "      <th>dislikes</th>\n",
       "      <th>comment_count</th>\n",
       "      <th>thumbnail_link</th>\n",
       "      <th>comments_disabled</th>\n",
       "      <th>ratings_disabled</th>\n",
       "      <th>video_error_or_removed</th>\n",
       "      <th>publish_date</th>\n",
       "      <th>publish_hour</th>\n",
       "      <th>non-reactors</th>\n",
       "      <th>days_before_trend</th>\n",
       "    </tr>\n",
       "  </thead>\n",
       "  <tbody>\n",
       "    <tr>\n",
       "      <th>37348</th>\n",
       "      <td>mV6aztP58f8</td>\n",
       "      <td>2018-06-14</td>\n",
       "      <td>Bhramanam I Episode 87 - 12 June 2018 I Mazhav...</td>\n",
       "      <td>Mazhavil Manorama</td>\n",
       "      <td>Entertainment</td>\n",
       "      <td>24</td>\n",
       "      <td>05:00:02</td>\n",
       "      <td>mazhavil manorama|\"bhramanam full episode\"|\"gt...</td>\n",
       "      <td>386319</td>\n",
       "      <td>1216</td>\n",
       "      <td>453</td>\n",
       "      <td>697</td>\n",
       "      <td>https://i.ytimg.com/vi/mV6aztP58f8/default.jpg</td>\n",
       "      <td>False</td>\n",
       "      <td>False</td>\n",
       "      <td>False</td>\n",
       "      <td>2018-06-13</td>\n",
       "      <td>5</td>\n",
       "      <td>384650</td>\n",
       "      <td>1</td>\n",
       "    </tr>\n",
       "    <tr>\n",
       "      <th>37349</th>\n",
       "      <td>qxqDNP1bDEw</td>\n",
       "      <td>2018-06-14</td>\n",
       "      <td>Nua Bohu | Full Ep 285 | 13th June 2018 | Odia...</td>\n",
       "      <td>Tarang TV</td>\n",
       "      <td>Entertainment</td>\n",
       "      <td>24</td>\n",
       "      <td>15:07:49</td>\n",
       "      <td>tarang|\"tarang tv\"|\"tarang tv online\"|\"tarang ...</td>\n",
       "      <td>130263</td>\n",
       "      <td>698</td>\n",
       "      <td>115</td>\n",
       "      <td>65</td>\n",
       "      <td>https://i.ytimg.com/vi/qxqDNP1bDEw/default.jpg</td>\n",
       "      <td>False</td>\n",
       "      <td>False</td>\n",
       "      <td>False</td>\n",
       "      <td>2018-06-13</td>\n",
       "      <td>15</td>\n",
       "      <td>129450</td>\n",
       "      <td>1</td>\n",
       "    </tr>\n",
       "    <tr>\n",
       "      <th>37350</th>\n",
       "      <td>wERgpPK44w0</td>\n",
       "      <td>2018-06-14</td>\n",
       "      <td>Ee Nagaraniki Emaindi Trailer | Tharun Bhascke...</td>\n",
       "      <td>Suresh Productions</td>\n",
       "      <td>Entertainment</td>\n",
       "      <td>24</td>\n",
       "      <td>04:29:54</td>\n",
       "      <td>Ee Nagaraniki Emaindi|\"Ee Nagaraniki Emaindi T...</td>\n",
       "      <td>1278249</td>\n",
       "      <td>22466</td>\n",
       "      <td>1609</td>\n",
       "      <td>1205</td>\n",
       "      <td>https://i.ytimg.com/vi/wERgpPK44w0/default.jpg</td>\n",
       "      <td>False</td>\n",
       "      <td>False</td>\n",
       "      <td>False</td>\n",
       "      <td>2018-06-10</td>\n",
       "      <td>4</td>\n",
       "      <td>1254174</td>\n",
       "      <td>4</td>\n",
       "    </tr>\n",
       "  </tbody>\n",
       "</table>\n",
       "</div>"
      ],
      "text/plain": [
       "          video_id trending_date  \\\n",
       "37348  mV6aztP58f8    2018-06-14   \n",
       "37349  qxqDNP1bDEw    2018-06-14   \n",
       "37350  wERgpPK44w0    2018-06-14   \n",
       "\n",
       "                                                   title       channel_title  \\\n",
       "37348  Bhramanam I Episode 87 - 12 June 2018 I Mazhav...   Mazhavil Manorama   \n",
       "37349  Nua Bohu | Full Ep 285 | 13th June 2018 | Odia...           Tarang TV   \n",
       "37350  Ee Nagaraniki Emaindi Trailer | Tharun Bhascke...  Suresh Productions   \n",
       "\n",
       "            category  category_id publish_time  \\\n",
       "37348  Entertainment           24     05:00:02   \n",
       "37349  Entertainment           24     15:07:49   \n",
       "37350  Entertainment           24     04:29:54   \n",
       "\n",
       "                                                    tags    views  likes  \\\n",
       "37348  mazhavil manorama|\"bhramanam full episode\"|\"gt...   386319   1216   \n",
       "37349  tarang|\"tarang tv\"|\"tarang tv online\"|\"tarang ...   130263    698   \n",
       "37350  Ee Nagaraniki Emaindi|\"Ee Nagaraniki Emaindi T...  1278249  22466   \n",
       "\n",
       "       dislikes  comment_count  \\\n",
       "37348       453            697   \n",
       "37349       115             65   \n",
       "37350      1609           1205   \n",
       "\n",
       "                                       thumbnail_link  comments_disabled  \\\n",
       "37348  https://i.ytimg.com/vi/mV6aztP58f8/default.jpg              False   \n",
       "37349  https://i.ytimg.com/vi/qxqDNP1bDEw/default.jpg              False   \n",
       "37350  https://i.ytimg.com/vi/wERgpPK44w0/default.jpg              False   \n",
       "\n",
       "       ratings_disabled  video_error_or_removed publish_date  publish_hour  \\\n",
       "37348             False                   False   2018-06-13             5   \n",
       "37349             False                   False   2018-06-13            15   \n",
       "37350             False                   False   2018-06-10             4   \n",
       "\n",
       "       non-reactors  days_before_trend  \n",
       "37348        384650                  1  \n",
       "37349        129450                  1  \n",
       "37350       1254174                  4  "
      ]
     },
     "execution_count": 16,
     "metadata": {},
     "output_type": "execute_result"
    }
   ],
   "source": [
    "in_videos[\"days_before_trend\"] = (in_videos.trending_date - in_videos.publish_date) / np.timedelta64(1, 'D')\n",
    "in_videos[\"days_before_trend\"] = in_videos[\"days_before_trend\"].astype(int)\n",
    "in_videos.tail(3)"
   ]
  },
  {
   "cell_type": "markdown",
   "metadata": {},
   "source": [
    "Added a column days_befor_trend for which the data is obtained by substracting/deducting the publish_date from the trending_date and the result obtained will be added to the column ```days_befor_trend```.  Basically, it is a count of days the video took to get trending."
   ]
  },
  {
   "cell_type": "markdown",
   "metadata": {},
   "source": [
    " [Back](#1.5.6)"
   ]
  },
  {
   "cell_type": "markdown",
   "metadata": {},
   "source": [
    "### 1.5.7. Addition of column 'Views per day'\n",
    "<a id=\"views_per_day\"></a>"
   ]
  },
  {
   "cell_type": "code",
   "execution_count": 17,
   "metadata": {},
   "outputs": [
    {
     "data": {
      "text/html": [
       "<div>\n",
       "<style scoped>\n",
       "    .dataframe tbody tr th:only-of-type {\n",
       "        vertical-align: middle;\n",
       "    }\n",
       "\n",
       "    .dataframe tbody tr th {\n",
       "        vertical-align: top;\n",
       "    }\n",
       "\n",
       "    .dataframe thead th {\n",
       "        text-align: right;\n",
       "    }\n",
       "</style>\n",
       "<table border=\"1\" class=\"dataframe\">\n",
       "  <thead>\n",
       "    <tr style=\"text-align: right;\">\n",
       "      <th></th>\n",
       "      <th>video_id</th>\n",
       "      <th>trending_date</th>\n",
       "      <th>title</th>\n",
       "      <th>channel_title</th>\n",
       "      <th>category</th>\n",
       "      <th>category_id</th>\n",
       "      <th>publish_time</th>\n",
       "      <th>tags</th>\n",
       "      <th>views</th>\n",
       "      <th>likes</th>\n",
       "      <th>...</th>\n",
       "      <th>comment_count</th>\n",
       "      <th>thumbnail_link</th>\n",
       "      <th>comments_disabled</th>\n",
       "      <th>ratings_disabled</th>\n",
       "      <th>video_error_or_removed</th>\n",
       "      <th>publish_date</th>\n",
       "      <th>publish_hour</th>\n",
       "      <th>non-reactors</th>\n",
       "      <th>days_before_trend</th>\n",
       "      <th>views_per_day</th>\n",
       "    </tr>\n",
       "  </thead>\n",
       "  <tbody>\n",
       "    <tr>\n",
       "      <th>37348</th>\n",
       "      <td>mV6aztP58f8</td>\n",
       "      <td>2018-06-14</td>\n",
       "      <td>Bhramanam I Episode 87 - 12 June 2018 I Mazhav...</td>\n",
       "      <td>Mazhavil Manorama</td>\n",
       "      <td>Entertainment</td>\n",
       "      <td>24</td>\n",
       "      <td>05:00:02</td>\n",
       "      <td>mazhavil manorama|\"bhramanam full episode\"|\"gt...</td>\n",
       "      <td>386319</td>\n",
       "      <td>1216</td>\n",
       "      <td>...</td>\n",
       "      <td>697</td>\n",
       "      <td>https://i.ytimg.com/vi/mV6aztP58f8/default.jpg</td>\n",
       "      <td>False</td>\n",
       "      <td>False</td>\n",
       "      <td>False</td>\n",
       "      <td>2018-06-13</td>\n",
       "      <td>5</td>\n",
       "      <td>384650</td>\n",
       "      <td>1</td>\n",
       "      <td>386319.00</td>\n",
       "    </tr>\n",
       "    <tr>\n",
       "      <th>37349</th>\n",
       "      <td>qxqDNP1bDEw</td>\n",
       "      <td>2018-06-14</td>\n",
       "      <td>Nua Bohu | Full Ep 285 | 13th June 2018 | Odia...</td>\n",
       "      <td>Tarang TV</td>\n",
       "      <td>Entertainment</td>\n",
       "      <td>24</td>\n",
       "      <td>15:07:49</td>\n",
       "      <td>tarang|\"tarang tv\"|\"tarang tv online\"|\"tarang ...</td>\n",
       "      <td>130263</td>\n",
       "      <td>698</td>\n",
       "      <td>...</td>\n",
       "      <td>65</td>\n",
       "      <td>https://i.ytimg.com/vi/qxqDNP1bDEw/default.jpg</td>\n",
       "      <td>False</td>\n",
       "      <td>False</td>\n",
       "      <td>False</td>\n",
       "      <td>2018-06-13</td>\n",
       "      <td>15</td>\n",
       "      <td>129450</td>\n",
       "      <td>1</td>\n",
       "      <td>130263.00</td>\n",
       "    </tr>\n",
       "    <tr>\n",
       "      <th>37350</th>\n",
       "      <td>wERgpPK44w0</td>\n",
       "      <td>2018-06-14</td>\n",
       "      <td>Ee Nagaraniki Emaindi Trailer | Tharun Bhascke...</td>\n",
       "      <td>Suresh Productions</td>\n",
       "      <td>Entertainment</td>\n",
       "      <td>24</td>\n",
       "      <td>04:29:54</td>\n",
       "      <td>Ee Nagaraniki Emaindi|\"Ee Nagaraniki Emaindi T...</td>\n",
       "      <td>1278249</td>\n",
       "      <td>22466</td>\n",
       "      <td>...</td>\n",
       "      <td>1205</td>\n",
       "      <td>https://i.ytimg.com/vi/wERgpPK44w0/default.jpg</td>\n",
       "      <td>False</td>\n",
       "      <td>False</td>\n",
       "      <td>False</td>\n",
       "      <td>2018-06-10</td>\n",
       "      <td>4</td>\n",
       "      <td>1254174</td>\n",
       "      <td>4</td>\n",
       "      <td>319562.25</td>\n",
       "    </tr>\n",
       "  </tbody>\n",
       "</table>\n",
       "<p>3 rows × 21 columns</p>\n",
       "</div>"
      ],
      "text/plain": [
       "          video_id trending_date  \\\n",
       "37348  mV6aztP58f8    2018-06-14   \n",
       "37349  qxqDNP1bDEw    2018-06-14   \n",
       "37350  wERgpPK44w0    2018-06-14   \n",
       "\n",
       "                                                   title       channel_title  \\\n",
       "37348  Bhramanam I Episode 87 - 12 June 2018 I Mazhav...   Mazhavil Manorama   \n",
       "37349  Nua Bohu | Full Ep 285 | 13th June 2018 | Odia...           Tarang TV   \n",
       "37350  Ee Nagaraniki Emaindi Trailer | Tharun Bhascke...  Suresh Productions   \n",
       "\n",
       "            category  category_id publish_time  \\\n",
       "37348  Entertainment           24     05:00:02   \n",
       "37349  Entertainment           24     15:07:49   \n",
       "37350  Entertainment           24     04:29:54   \n",
       "\n",
       "                                                    tags    views  likes  ...  \\\n",
       "37348  mazhavil manorama|\"bhramanam full episode\"|\"gt...   386319   1216  ...   \n",
       "37349  tarang|\"tarang tv\"|\"tarang tv online\"|\"tarang ...   130263    698  ...   \n",
       "37350  Ee Nagaraniki Emaindi|\"Ee Nagaraniki Emaindi T...  1278249  22466  ...   \n",
       "\n",
       "       comment_count                                  thumbnail_link  \\\n",
       "37348            697  https://i.ytimg.com/vi/mV6aztP58f8/default.jpg   \n",
       "37349             65  https://i.ytimg.com/vi/qxqDNP1bDEw/default.jpg   \n",
       "37350           1205  https://i.ytimg.com/vi/wERgpPK44w0/default.jpg   \n",
       "\n",
       "      comments_disabled  ratings_disabled  video_error_or_removed  \\\n",
       "37348             False             False                   False   \n",
       "37349             False             False                   False   \n",
       "37350             False             False                   False   \n",
       "\n",
       "       publish_date publish_hour  non-reactors  days_before_trend  \\\n",
       "37348    2018-06-13            5        384650                  1   \n",
       "37349    2018-06-13           15        129450                  1   \n",
       "37350    2018-06-10            4       1254174                  4   \n",
       "\n",
       "       views_per_day  \n",
       "37348      386319.00  \n",
       "37349      130263.00  \n",
       "37350      319562.25  \n",
       "\n",
       "[3 rows x 21 columns]"
      ]
     },
     "execution_count": 17,
     "metadata": {},
     "output_type": "execute_result"
    }
   ],
   "source": [
    "in_videos.loc[(in_videos['days_before_trend'] < 1), 'days_before_trend'] = 1\n",
    "in_videos[\"views_per_day\"] = in_videos[\"views\"].astype(int) / in_videos[\"days_before_trend\"]\n",
    "in_videos[\"views_per_day\"] = in_videos[\"views_per_day\"]\n",
    "in_videos.tail(3)"
   ]
  },
  {
   "cell_type": "markdown",
   "metadata": {},
   "source": [
    " [Back](#1.5.7)"
   ]
  },
  {
   "cell_type": "markdown",
   "metadata": {},
   "source": [
    "### 1.5.8. Description on non-numerical columns\n",
    "<a id=\"description_on_non_numerical_columns\"></a>\n",
    "After we described numerical columns previously, we now describe non-numerical columns."
   ]
  },
  {
   "cell_type": "code",
   "execution_count": 18,
   "metadata": {},
   "outputs": [
    {
     "data": {
      "text/html": [
       "<div>\n",
       "<style scoped>\n",
       "    .dataframe tbody tr th:only-of-type {\n",
       "        vertical-align: middle;\n",
       "    }\n",
       "\n",
       "    .dataframe tbody tr th {\n",
       "        vertical-align: top;\n",
       "    }\n",
       "\n",
       "    .dataframe thead th {\n",
       "        text-align: right;\n",
       "    }\n",
       "</style>\n",
       "<table border=\"1\" class=\"dataframe\">\n",
       "  <thead>\n",
       "    <tr style=\"text-align: right;\">\n",
       "      <th></th>\n",
       "      <th>count</th>\n",
       "      <th>unique</th>\n",
       "      <th>top</th>\n",
       "      <th>freq</th>\n",
       "    </tr>\n",
       "  </thead>\n",
       "  <tbody>\n",
       "    <tr>\n",
       "      <th>video_id</th>\n",
       "      <td>37351</td>\n",
       "      <td>16307</td>\n",
       "      <td>#NAME?</td>\n",
       "      <td>511</td>\n",
       "    </tr>\n",
       "    <tr>\n",
       "      <th>trending_date</th>\n",
       "      <td>37351</td>\n",
       "      <td>205</td>\n",
       "      <td>2018-01-24</td>\n",
       "      <td>200</td>\n",
       "    </tr>\n",
       "    <tr>\n",
       "      <th>title</th>\n",
       "      <td>37351</td>\n",
       "      <td>16721</td>\n",
       "      <td>Mission: Impossible - Fallout (2018) - Officia...</td>\n",
       "      <td>19</td>\n",
       "    </tr>\n",
       "    <tr>\n",
       "      <th>channel_title</th>\n",
       "      <td>37351</td>\n",
       "      <td>1426</td>\n",
       "      <td>VikatanTV</td>\n",
       "      <td>284</td>\n",
       "    </tr>\n",
       "    <tr>\n",
       "      <th>category</th>\n",
       "      <td>37246</td>\n",
       "      <td>16</td>\n",
       "      <td>Entertainment</td>\n",
       "      <td>16712</td>\n",
       "    </tr>\n",
       "    <tr>\n",
       "      <th>publish_time</th>\n",
       "      <td>37351</td>\n",
       "      <td>12594</td>\n",
       "      <td>04:30:00</td>\n",
       "      <td>333</td>\n",
       "    </tr>\n",
       "    <tr>\n",
       "      <th>tags</th>\n",
       "      <td>37351</td>\n",
       "      <td>12578</td>\n",
       "      <td>[none]</td>\n",
       "      <td>1381</td>\n",
       "    </tr>\n",
       "    <tr>\n",
       "      <th>thumbnail_link</th>\n",
       "      <td>37351</td>\n",
       "      <td>16523</td>\n",
       "      <td>https://i.ytimg.com/vi/rRr1qiJRsXk/default.jpg</td>\n",
       "      <td>16</td>\n",
       "    </tr>\n",
       "    <tr>\n",
       "      <th>publish_date</th>\n",
       "      <td>37351</td>\n",
       "      <td>219</td>\n",
       "      <td>2018-05-17</td>\n",
       "      <td>325</td>\n",
       "    </tr>\n",
       "  </tbody>\n",
       "</table>\n",
       "</div>"
      ],
      "text/plain": [
       "                count unique  \\\n",
       "video_id        37351  16307   \n",
       "trending_date   37351    205   \n",
       "title           37351  16721   \n",
       "channel_title   37351   1426   \n",
       "category        37246     16   \n",
       "publish_time    37351  12594   \n",
       "tags            37351  12578   \n",
       "thumbnail_link  37351  16523   \n",
       "publish_date    37351    219   \n",
       "\n",
       "                                                              top   freq  \n",
       "video_id                                                   #NAME?    511  \n",
       "trending_date                                          2018-01-24    200  \n",
       "title           Mission: Impossible - Fallout (2018) - Officia...     19  \n",
       "channel_title                                           VikatanTV    284  \n",
       "category                                            Entertainment  16712  \n",
       "publish_time                                             04:30:00    333  \n",
       "tags                                                       [none]   1381  \n",
       "thumbnail_link     https://i.ytimg.com/vi/rRr1qiJRsXk/default.jpg     16  \n",
       "publish_date                                           2018-05-17    325  "
      ]
     },
     "execution_count": 18,
     "metadata": {},
     "output_type": "execute_result"
    }
   ],
   "source": [
    "# dataset summary statistics - Categorical variables.\n",
    "# T means Transpose.\n",
    "in_videos.describe(include = ['O']).T"
   ]
  },
  {
   "cell_type": "markdown",
   "metadata": {},
   "source": [
    "* From the table above, we can see that there are **`205`** unique dates, which means that our dataset contains collected data about trending videos over **`205`** days.\n",
    "\n",
    "\n",
    "* From **`video_id`** count, we can see that there are **`37351`** videos (which is expected because our dataset contains **`37351`** entries), but we can see also that there are only **`16307`** unique videos which means that some videos appeared on the trending videos list **on more than one day**.\n",
    "\n",
    "\n",
    "* The table also tells us that the top frequent title is **`Mission: Impossible - Fallout (2018) - Official Trailer - Paramount Pictures`** and that it appeared **`19`** times on the trending videos list.\n",
    "\n",
    "\n",
    "* There is something strange in the description table above: Because there are **`16307`** unique video IDs, we expect to have **`16307`** unique video titles also, because we assume that each ID is linked to a corresponding title. \n",
    "\n",
    "\n",
    "* One possible interpretation is that a trending video had some title when it appeared on the trending list, then it appeared again on another day but with a modified title.\n",
    "\n",
    "\n",
    "* For **`publish_time`** column, the unique values are less than **`16307`**, but there is nothing strange here, because two different videos may be published at the same time."
   ]
  },
  {
   "cell_type": "markdown",
   "metadata": {},
   "source": [
    " [Back](#1.5.8)"
   ]
  },
  {
   "cell_type": "markdown",
   "metadata": {
    "_cell_guid": "48991080-daf4-43f0-90ee-407f92cd1eda",
    "_uuid": "6d89ce1d9c3359163a666943638b21e4f58555ca"
   },
   "source": [
    "### 1.5.9. Number of words with all upper case in title (For Visualization Section)\n",
    "<a id=\"number_of_words_with_all_upper_case_in_title\"></a>"
   ]
  },
  {
   "cell_type": "code",
   "execution_count": 19,
   "metadata": {
    "_cell_guid": "8675f7c2-ed4e-4af3-b350-425f74563ec6",
    "_uuid": "7b5df17a3ac8c7cb1af2ab19c2f934fd412d355a"
   },
   "outputs": [
    {
     "name": "stdout",
     "output_type": "stream",
     "text": [
      "37341    0\n",
      "37342    7\n",
      "37343    0\n",
      "37344    0\n",
      "37345    0\n",
      "37346    0\n",
      "37347    0\n",
      "37348    2\n",
      "37349    0\n",
      "37350    0\n",
      "Name: all_upper_in_title, dtype: int64\n"
     ]
    }
   ],
   "source": [
    "# Helper function\n",
    "in_videos_first = in_videos.copy()\n",
    "\n",
    "def numberOfUpper(string):\n",
    "    i = 0\n",
    "    for word in string.split():\n",
    "        if word.isupper():\n",
    "            i += 1\n",
    "    return(i)\n",
    "\n",
    "in_videos_first[\"all_upper_in_title\"] = in_videos[\"title\"].apply(numberOfUpper)\n",
    "print(in_videos_first[\"all_upper_in_title\"].tail(10))"
   ]
  },
  {
   "cell_type": "markdown",
   "metadata": {},
   "source": [
    " [Back](#1.5.10)"
   ]
  },
  {
   "cell_type": "markdown",
   "metadata": {
    "_cell_guid": "4f167da2-37f8-4e87-b3eb-259c71ba3050",
    "_uuid": "12b6fe7ac18c797948ca6647f34fb8c5637514fe"
   },
   "source": [
    "### 1.5.10. Distribution of basic parameters (For Visualization Section)\n",
    "<a id=\"distribution_of_basic_parameters\"></a>"
   ]
  },
  {
   "cell_type": "code",
   "execution_count": 20,
   "metadata": {
    "_cell_guid": "c85faf3c-d0f6-43d8-a18b-6b9e00effae0",
    "_uuid": "bca356a9853bf1b7e193c4011ec37056d4e8c93f"
   },
   "outputs": [
    {
     "data": {
      "image/png": "[encoded data removed]",
      "text/plain": [
       "<Figure size 864x432 with 4 Axes>"
      ]
     },
     "metadata": {
      "needs_background": "light"
     },
     "output_type": "display_data"
    }
   ],
   "source": [
    "in_videos_first['likes_log'] = np.log(in_videos['likes'] + 1)\n",
    "in_videos_first['views_log'] = np.log(in_videos['views'] + 1)\n",
    "in_videos_first['dislikes_log'] = np.log(in_videos['dislikes'] + 1)\n",
    "in_videos_first['comment_log'] = np.log(in_videos['comment_count'] + 1)\n",
    "\n",
    "plt.figure(figsize = (12,6))\n",
    "\n",
    "plt.subplot(221)\n",
    "g1 = sns.distplot(in_videos_first['views_log'],color='blue')\n",
    "g1.set_title(\"VIEWS LOG DISTRIBUITION\", fontsize=16)\n",
    "\n",
    "plt.subplot(222)\n",
    "g4 = sns.distplot(in_videos_first['comment_log'],color='black')\n",
    "g4.set_title(\"COMMENTS LOG DISTRIBUITION\", fontsize=16)\n",
    "\n",
    "plt.subplot(223)\n",
    "g3 = sns.distplot(in_videos_first['dislikes_log'], color='r')\n",
    "g3.set_title(\"DISLIKES LOG DISTRIBUITION\", fontsize=16)\n",
    "\n",
    "plt.subplot(224)\n",
    "g2 = sns.distplot(in_videos_first['likes_log'],color='green')\n",
    "g2.set_title('LIKES LOG DISTRIBUITION', fontsize=16)\n",
    "\n",
    "plt.subplots_adjust(wspace = 0.2, hspace = 0.4,top = 0.9)\n",
    "\n",
    "plt.show()"
   ]
  },
  {
   "cell_type": "markdown",
   "metadata": {},
   "source": [
    " [Back](#1.5.11)"
   ]
  },
  {
   "cell_type": "markdown",
   "metadata": {
    "_cell_guid": "68694a5a-d689-4ca5-a69c-377b4d1bdd18",
    "_uuid": "fd7ac445abb7ea1251ffdb33d50c83f4c038a511"
   },
   "source": [
    "### 1.5.11. What about duplicates? (For Visualization Section)\n",
    "<a id=\"what_about_duplicates\"></a>"
   ]
  },
  {
   "cell_type": "markdown",
   "metadata": {
    "_cell_guid": "149506aa-d139-4ac8-a108-16ed1cd95c61",
    "_uuid": "5828ac28f5bad9ec2741225f3ddb55aa4addc1a3"
   },
   "source": [
    "<b>NOTE:</b> Because many of the films have been trending you several times, we will create a separate datasets in which we will get rid of repetitions. Still, we leave the original dataset, because there is a lot of interesting information in it."
   ]
  },
  {
   "cell_type": "code",
   "execution_count": 21,
   "metadata": {
    "_cell_guid": "f0ea26df-9670-46b2-8dca-90aa577b921c",
    "_uuid": "947dadd8ef7a3a9e1d1a16a196d8b11700aa5510"
   },
   "outputs": [
    {
     "name": "stdout",
     "output_type": "stream",
     "text": [
      "       video_id trending_date  \\\n",
      "11  Prb_osSVE0M    2017-11-14   \n",
      "21  1kuJkA9usqg    2017-11-14   \n",
      "\n",
      "                                                title channel_title  \\\n",
      "11  Renu Desai Gives Rating For Pawan kalyan As Hu...    ABN Telugu   \n",
      "21                  Deivamagal Episode 1387, 13/11/17     VikatanTV   \n",
      "\n",
      "           category  category_id publish_time  \\\n",
      "11  News & Politics           25     09:51:59   \n",
      "21    Entertainment           24     15:00:01   \n",
      "\n",
      "                                                 tags   views  likes  ...  \\\n",
      "11  Resnu desai|\"actress renu desai\"|\"pawan kalyan...  156085    716  ...   \n",
      "21  deivamagal|\"deiva magal\"|\"deiva magal serial\"|...  387221   2159  ...   \n",
      "\n",
      "    comment_count                                  thumbnail_link  \\\n",
      "11              0  https://i.ytimg.com/vi/Prb_osSVE0M/default.jpg   \n",
      "21            711  https://i.ytimg.com/vi/1kuJkA9usqg/default.jpg   \n",
      "\n",
      "   comments_disabled  ratings_disabled  video_error_or_removed  publish_date  \\\n",
      "11              True             False                   False    2017-11-13   \n",
      "21             False             False                   False    2017-11-13   \n",
      "\n",
      "   publish_hour  non-reactors  days_before_trend  views_per_day  \n",
      "11            9        155316                  1       156085.0  \n",
      "21           15        383848                  1       387221.0  \n",
      "\n",
      "[2 rows x 21 columns]\n"
     ]
    }
   ],
   "source": [
    "in_videos_last = in_videos.drop_duplicates(subset=['video_id'], keep='last', inplace=False)\n",
    "in_videos_first = in_videos.drop_duplicates(subset=['video_id'], keep='first', inplace=False)\n",
    "print(in_videos_last.head(2))"
   ]
  },
  {
   "cell_type": "markdown",
   "metadata": {},
   "source": [
    "As a part of Data Preprocessing and Data Cleaning, here we have deleted the duplicate data. So, now we will be having relevant data which would further help in better analysis."
   ]
  },
  {
   "cell_type": "code",
   "execution_count": 22,
   "metadata": {
    "_cell_guid": "954a745a-6409-40bf-9170-13737c6fec7e",
    "_uuid": "f8ca812b161f6016ddf105ddfbcc76076f4be2ae",
    "scrolled": false
   },
   "outputs": [
    {
     "name": "stdout",
     "output_type": "stream",
     "text": [
      "in_videos dataset contains 37351 videos\n",
      "in_videos_first dataset contains 16307 videos\n",
      "in_videos_last dataset contains 16307 videos\n"
     ]
    }
   ],
   "source": [
    "print(\"in_videos dataset contains {} videos\".format(in_videos.shape[0]))\n",
    "print(\"in_videos_first dataset contains {} videos\".format(in_videos_first.shape[0]))\n",
    "print(\"in_videos_last dataset contains {} videos\".format(in_videos_last.shape[0]))"
   ]
  },
  {
   "cell_type": "markdown",
   "metadata": {},
   "source": [
    " [Back](#1.5.12)"
   ]
  },
  {
   "cell_type": "markdown",
   "metadata": {},
   "source": [
    "### 1.5.12. Missing Value for Category Columns\n",
    "<a id=\"missing_value\"></a>"
   ]
  },
  {
   "cell_type": "code",
   "execution_count": 23,
   "metadata": {},
   "outputs": [
    {
     "data": {
      "text/plain": [
       "video_id                    0\n",
       "trending_date               0\n",
       "title                       0\n",
       "channel_title               0\n",
       "category                  105\n",
       "category_id                 0\n",
       "publish_time                0\n",
       "tags                        0\n",
       "views                       0\n",
       "likes                       0\n",
       "dislikes                    0\n",
       "comment_count               0\n",
       "thumbnail_link              0\n",
       "comments_disabled           0\n",
       "ratings_disabled            0\n",
       "video_error_or_removed      0\n",
       "publish_date                0\n",
       "publish_hour                0\n",
       "non-reactors                0\n",
       "days_before_trend           0\n",
       "views_per_day               0\n",
       "dtype: int64"
      ]
     },
     "execution_count": 23,
     "metadata": {},
     "output_type": "execute_result"
    }
   ],
   "source": [
    "in_videos.isnull().sum()"
   ]
  },
  {
   "cell_type": "code",
   "execution_count": 24,
   "metadata": {},
   "outputs": [
    {
     "data": {
      "text/html": [
       "<div>\n",
       "<style scoped>\n",
       "    .dataframe tbody tr th:only-of-type {\n",
       "        vertical-align: middle;\n",
       "    }\n",
       "\n",
       "    .dataframe tbody tr th {\n",
       "        vertical-align: top;\n",
       "    }\n",
       "\n",
       "    .dataframe thead th {\n",
       "        text-align: right;\n",
       "    }\n",
       "</style>\n",
       "<table border=\"1\" class=\"dataframe\">\n",
       "  <thead>\n",
       "    <tr style=\"text-align: right;\">\n",
       "      <th></th>\n",
       "      <th>video_id</th>\n",
       "      <th>trending_date</th>\n",
       "      <th>title</th>\n",
       "      <th>channel_title</th>\n",
       "      <th>category</th>\n",
       "      <th>category_id</th>\n",
       "      <th>publish_time</th>\n",
       "      <th>tags</th>\n",
       "      <th>views</th>\n",
       "      <th>likes</th>\n",
       "      <th>...</th>\n",
       "      <th>comment_count</th>\n",
       "      <th>thumbnail_link</th>\n",
       "      <th>comments_disabled</th>\n",
       "      <th>ratings_disabled</th>\n",
       "      <th>video_error_or_removed</th>\n",
       "      <th>publish_date</th>\n",
       "      <th>publish_hour</th>\n",
       "      <th>non-reactors</th>\n",
       "      <th>days_before_trend</th>\n",
       "      <th>views_per_day</th>\n",
       "    </tr>\n",
       "  </thead>\n",
       "  <tbody>\n",
       "    <tr>\n",
       "      <th>139</th>\n",
       "      <td>xzEbOteUiRY</td>\n",
       "      <td>2017-11-14</td>\n",
       "      <td>ਅੰਮ੍ਰਿਤਸਰ” ਵਿੱਚ ਦੀਵਾਨ ਲਗਾਉਣਾ ਸਾਡਾ ਮਕਸਦ ਨਹੀਂ, ਸ...</td>\n",
       "      <td>Emm Pee</td>\n",
       "      <td>NaN</td>\n",
       "      <td>29</td>\n",
       "      <td>22:34:25</td>\n",
       "      <td>Parmeshar|\"Dwar\"|\"Trust\"|\"Sikh\"|\"Channel\"|\"Kha...</td>\n",
       "      <td>51575</td>\n",
       "      <td>0</td>\n",
       "      <td>...</td>\n",
       "      <td>0</td>\n",
       "      <td>https://i.ytimg.com/vi/xzEbOteUiRY/default.jpg</td>\n",
       "      <td>True</td>\n",
       "      <td>True</td>\n",
       "      <td>False</td>\n",
       "      <td>2017-11-12</td>\n",
       "      <td>22</td>\n",
       "      <td>51575</td>\n",
       "      <td>2</td>\n",
       "      <td>25787.500000</td>\n",
       "    </tr>\n",
       "    <tr>\n",
       "      <th>197</th>\n",
       "      <td>OZU2E50G4KI</td>\n",
       "      <td>2017-11-14</td>\n",
       "      <td>ANUGRAH TV- 12-11-2017 Sunday Holy Communion M...</td>\n",
       "      <td>Ankur Narula Ministries</td>\n",
       "      <td>NaN</td>\n",
       "      <td>29</td>\n",
       "      <td>12:07:04</td>\n",
       "      <td>[none]</td>\n",
       "      <td>17726</td>\n",
       "      <td>887</td>\n",
       "      <td>...</td>\n",
       "      <td>96</td>\n",
       "      <td>https://i.ytimg.com/vi/OZU2E50G4KI/default.jpg</td>\n",
       "      <td>False</td>\n",
       "      <td>False</td>\n",
       "      <td>False</td>\n",
       "      <td>2017-11-12</td>\n",
       "      <td>12</td>\n",
       "      <td>16818</td>\n",
       "      <td>2</td>\n",
       "      <td>8863.000000</td>\n",
       "    </tr>\n",
       "    <tr>\n",
       "      <th>391</th>\n",
       "      <td>xzEbOteUiRY</td>\n",
       "      <td>2017-11-15</td>\n",
       "      <td>ਅੰਮ੍ਰਿਤਸਰ” ਵਿੱਚ ਦੀਵਾਨ ਲਗਾਉਣਾ ਸਾਡਾ ਮਕਸਦ ਨਹੀਂ, ਸ...</td>\n",
       "      <td>Emm Pee</td>\n",
       "      <td>NaN</td>\n",
       "      <td>29</td>\n",
       "      <td>22:34:25</td>\n",
       "      <td>Parmeshar|\"Dwar\"|\"Trust\"|\"Sikh\"|\"Channel\"|\"Kha...</td>\n",
       "      <td>73442</td>\n",
       "      <td>0</td>\n",
       "      <td>...</td>\n",
       "      <td>0</td>\n",
       "      <td>https://i.ytimg.com/vi/xzEbOteUiRY/default.jpg</td>\n",
       "      <td>True</td>\n",
       "      <td>True</td>\n",
       "      <td>False</td>\n",
       "      <td>2017-11-12</td>\n",
       "      <td>22</td>\n",
       "      <td>73442</td>\n",
       "      <td>3</td>\n",
       "      <td>24480.666667</td>\n",
       "    </tr>\n",
       "    <tr>\n",
       "      <th>629</th>\n",
       "      <td>io82HGyOf9s</td>\n",
       "      <td>2017-11-17</td>\n",
       "      <td>Stop Speak Support</td>\n",
       "      <td>Supercell</td>\n",
       "      <td>NaN</td>\n",
       "      <td>29</td>\n",
       "      <td>12:14:39</td>\n",
       "      <td>[none]</td>\n",
       "      <td>164658</td>\n",
       "      <td>2670</td>\n",
       "      <td>...</td>\n",
       "      <td>425</td>\n",
       "      <td>https://i.ytimg.com/vi/io82HGyOf9s/default.jpg</td>\n",
       "      <td>False</td>\n",
       "      <td>False</td>\n",
       "      <td>False</td>\n",
       "      <td>2017-11-16</td>\n",
       "      <td>12</td>\n",
       "      <td>161602</td>\n",
       "      <td>1</td>\n",
       "      <td>164658.000000</td>\n",
       "    </tr>\n",
       "    <tr>\n",
       "      <th>707</th>\n",
       "      <td>z4aeaw3BH8Y</td>\n",
       "      <td>2017-11-17</td>\n",
       "      <td>इसी जन्म में अगले जन्म का  इंश्योरेंस - Story ...</td>\n",
       "      <td>Sri Sri Ravi Shankar</td>\n",
       "      <td>NaN</td>\n",
       "      <td>29</td>\n",
       "      <td>16:13:49</td>\n",
       "      <td>art of living|\"sri sri ravi shankar\"|\"sri sri ...</td>\n",
       "      <td>10282</td>\n",
       "      <td>952</td>\n",
       "      <td>...</td>\n",
       "      <td>18</td>\n",
       "      <td>https://i.ytimg.com/vi/z4aeaw3BH8Y/default.jpg</td>\n",
       "      <td>False</td>\n",
       "      <td>False</td>\n",
       "      <td>False</td>\n",
       "      <td>2017-11-16</td>\n",
       "      <td>16</td>\n",
       "      <td>9327</td>\n",
       "      <td>1</td>\n",
       "      <td>10282.000000</td>\n",
       "    </tr>\n",
       "  </tbody>\n",
       "</table>\n",
       "<p>5 rows × 21 columns</p>\n",
       "</div>"
      ],
      "text/plain": [
       "        video_id trending_date  \\\n",
       "139  xzEbOteUiRY    2017-11-14   \n",
       "197  OZU2E50G4KI    2017-11-14   \n",
       "391  xzEbOteUiRY    2017-11-15   \n",
       "629  io82HGyOf9s    2017-11-17   \n",
       "707  z4aeaw3BH8Y    2017-11-17   \n",
       "\n",
       "                                                 title  \\\n",
       "139  ਅੰਮ੍ਰਿਤਸਰ” ਵਿੱਚ ਦੀਵਾਨ ਲਗਾਉਣਾ ਸਾਡਾ ਮਕਸਦ ਨਹੀਂ, ਸ...   \n",
       "197  ANUGRAH TV- 12-11-2017 Sunday Holy Communion M...   \n",
       "391  ਅੰਮ੍ਰਿਤਸਰ” ਵਿੱਚ ਦੀਵਾਨ ਲਗਾਉਣਾ ਸਾਡਾ ਮਕਸਦ ਨਹੀਂ, ਸ...   \n",
       "629                                 Stop Speak Support   \n",
       "707  इसी जन्म में अगले जन्म का  इंश्योरेंस - Story ...   \n",
       "\n",
       "               channel_title category  category_id publish_time  \\\n",
       "139                  Emm Pee      NaN           29     22:34:25   \n",
       "197  Ankur Narula Ministries      NaN           29     12:07:04   \n",
       "391                  Emm Pee      NaN           29     22:34:25   \n",
       "629                Supercell      NaN           29     12:14:39   \n",
       "707     Sri Sri Ravi Shankar      NaN           29     16:13:49   \n",
       "\n",
       "                                                  tags   views  likes  ...  \\\n",
       "139  Parmeshar|\"Dwar\"|\"Trust\"|\"Sikh\"|\"Channel\"|\"Kha...   51575      0  ...   \n",
       "197                                             [none]   17726    887  ...   \n",
       "391  Parmeshar|\"Dwar\"|\"Trust\"|\"Sikh\"|\"Channel\"|\"Kha...   73442      0  ...   \n",
       "629                                             [none]  164658   2670  ...   \n",
       "707  art of living|\"sri sri ravi shankar\"|\"sri sri ...   10282    952  ...   \n",
       "\n",
       "     comment_count                                  thumbnail_link  \\\n",
       "139              0  https://i.ytimg.com/vi/xzEbOteUiRY/default.jpg   \n",
       "197             96  https://i.ytimg.com/vi/OZU2E50G4KI/default.jpg   \n",
       "391              0  https://i.ytimg.com/vi/xzEbOteUiRY/default.jpg   \n",
       "629            425  https://i.ytimg.com/vi/io82HGyOf9s/default.jpg   \n",
       "707             18  https://i.ytimg.com/vi/z4aeaw3BH8Y/default.jpg   \n",
       "\n",
       "    comments_disabled  ratings_disabled  video_error_or_removed  publish_date  \\\n",
       "139              True              True                   False    2017-11-12   \n",
       "197             False             False                   False    2017-11-12   \n",
       "391              True              True                   False    2017-11-12   \n",
       "629             False             False                   False    2017-11-16   \n",
       "707             False             False                   False    2017-11-16   \n",
       "\n",
       "    publish_hour  non-reactors  days_before_trend  views_per_day  \n",
       "139           22         51575                  2   25787.500000  \n",
       "197           12         16818                  2    8863.000000  \n",
       "391           22         73442                  3   24480.666667  \n",
       "629           12        161602                  1  164658.000000  \n",
       "707           16          9327                  1   10282.000000  \n",
       "\n",
       "[5 rows x 21 columns]"
      ]
     },
     "execution_count": 24,
     "metadata": {},
     "output_type": "execute_result"
    }
   ],
   "source": [
    "null_data = in_videos[in_videos[\"category\"].isnull()]\n",
    "null_data.head()"
   ]
  },
  {
   "cell_type": "code",
   "execution_count": 25,
   "metadata": {},
   "outputs": [
    {
     "data": {
      "text/html": [
       "<div>\n",
       "<style scoped>\n",
       "    .dataframe tbody tr th:only-of-type {\n",
       "        vertical-align: middle;\n",
       "    }\n",
       "\n",
       "    .dataframe tbody tr th {\n",
       "        vertical-align: top;\n",
       "    }\n",
       "\n",
       "    .dataframe thead th {\n",
       "        text-align: right;\n",
       "    }\n",
       "</style>\n",
       "<table border=\"1\" class=\"dataframe\">\n",
       "  <thead>\n",
       "    <tr style=\"text-align: right;\">\n",
       "      <th></th>\n",
       "      <th>video_id</th>\n",
       "      <th>trending_date</th>\n",
       "      <th>title</th>\n",
       "      <th>channel_title</th>\n",
       "      <th>category</th>\n",
       "      <th>category_id</th>\n",
       "      <th>publish_time</th>\n",
       "      <th>tags</th>\n",
       "      <th>views</th>\n",
       "      <th>likes</th>\n",
       "      <th>...</th>\n",
       "      <th>comment_count</th>\n",
       "      <th>thumbnail_link</th>\n",
       "      <th>comments_disabled</th>\n",
       "      <th>ratings_disabled</th>\n",
       "      <th>video_error_or_removed</th>\n",
       "      <th>publish_date</th>\n",
       "      <th>publish_hour</th>\n",
       "      <th>non-reactors</th>\n",
       "      <th>days_before_trend</th>\n",
       "      <th>views_per_day</th>\n",
       "    </tr>\n",
       "  </thead>\n",
       "  <tbody>\n",
       "    <tr>\n",
       "      <th>35266</th>\n",
       "      <td>6JNRoDQOZoc</td>\n",
       "      <td>2018-06-03</td>\n",
       "      <td>LIVE NOW | JUNE: MONTHLY DIWAN | 2 JUNE 2018 |...</td>\n",
       "      <td>Emm Pee</td>\n",
       "      <td>Nonprofits &amp; Activism</td>\n",
       "      <td>29</td>\n",
       "      <td>18:18:28</td>\n",
       "      <td>Parmeshar|\"Dwar\"|\"Trust\"|\"Sikh\"|\"Channel\"|\"Kha...</td>\n",
       "      <td>57686</td>\n",
       "      <td>3278</td>\n",
       "      <td>...</td>\n",
       "      <td>0</td>\n",
       "      <td>https://i.ytimg.com/vi/6JNRoDQOZoc/default.jpg</td>\n",
       "      <td>True</td>\n",
       "      <td>False</td>\n",
       "      <td>False</td>\n",
       "      <td>2018-06-02</td>\n",
       "      <td>18</td>\n",
       "      <td>54252</td>\n",
       "      <td>1</td>\n",
       "      <td>57686.0</td>\n",
       "    </tr>\n",
       "    <tr>\n",
       "      <th>35472</th>\n",
       "      <td>6JNRoDQOZoc</td>\n",
       "      <td>2018-06-04</td>\n",
       "      <td>LIVE NOW | JUNE: MONTHLY DIWAN | 2 JUNE 2018 |...</td>\n",
       "      <td>Emm Pee</td>\n",
       "      <td>Nonprofits &amp; Activism</td>\n",
       "      <td>29</td>\n",
       "      <td>18:18:28</td>\n",
       "      <td>Parmeshar|\"Dwar\"|\"Trust\"|\"Sikh\"|\"Channel\"|\"Kha...</td>\n",
       "      <td>87287</td>\n",
       "      <td>3594</td>\n",
       "      <td>...</td>\n",
       "      <td>0</td>\n",
       "      <td>https://i.ytimg.com/vi/6JNRoDQOZoc/default.jpg</td>\n",
       "      <td>True</td>\n",
       "      <td>False</td>\n",
       "      <td>False</td>\n",
       "      <td>2018-06-02</td>\n",
       "      <td>18</td>\n",
       "      <td>83499</td>\n",
       "      <td>2</td>\n",
       "      <td>43643.5</td>\n",
       "    </tr>\n",
       "  </tbody>\n",
       "</table>\n",
       "<p>2 rows × 21 columns</p>\n",
       "</div>"
      ],
      "text/plain": [
       "          video_id trending_date  \\\n",
       "35266  6JNRoDQOZoc    2018-06-03   \n",
       "35472  6JNRoDQOZoc    2018-06-04   \n",
       "\n",
       "                                                   title channel_title  \\\n",
       "35266  LIVE NOW | JUNE: MONTHLY DIWAN | 2 JUNE 2018 |...       Emm Pee   \n",
       "35472  LIVE NOW | JUNE: MONTHLY DIWAN | 2 JUNE 2018 |...       Emm Pee   \n",
       "\n",
       "                    category  category_id publish_time  \\\n",
       "35266  Nonprofits & Activism           29     18:18:28   \n",
       "35472  Nonprofits & Activism           29     18:18:28   \n",
       "\n",
       "                                                    tags  views  likes  ...  \\\n",
       "35266  Parmeshar|\"Dwar\"|\"Trust\"|\"Sikh\"|\"Channel\"|\"Kha...  57686   3278  ...   \n",
       "35472  Parmeshar|\"Dwar\"|\"Trust\"|\"Sikh\"|\"Channel\"|\"Kha...  87287   3594  ...   \n",
       "\n",
       "       comment_count                                  thumbnail_link  \\\n",
       "35266              0  https://i.ytimg.com/vi/6JNRoDQOZoc/default.jpg   \n",
       "35472              0  https://i.ytimg.com/vi/6JNRoDQOZoc/default.jpg   \n",
       "\n",
       "      comments_disabled  ratings_disabled  video_error_or_removed  \\\n",
       "35266              True             False                   False   \n",
       "35472              True             False                   False   \n",
       "\n",
       "       publish_date publish_hour  non-reactors  days_before_trend  \\\n",
       "35266    2018-06-02           18         54252                  1   \n",
       "35472    2018-06-02           18         83499                  2   \n",
       "\n",
       "       views_per_day  \n",
       "35266        57686.0  \n",
       "35472        43643.5  \n",
       "\n",
       "[2 rows x 21 columns]"
      ]
     },
     "execution_count": 25,
     "metadata": {},
     "output_type": "execute_result"
    }
   ],
   "source": [
    "in_videos[\"category\"].fillna(\"Nonprofits & Activism\", inplace = True) \n",
    "in_videos[in_videos[\"category_id\"]  == 29]\n",
    "in_videos[in_videos[\"category_id\"]  == 29].tail(2)"
   ]
  },
  {
   "cell_type": "code",
   "execution_count": 26,
   "metadata": {},
   "outputs": [
    {
     "data": {
      "text/plain": [
       "video_id                  0\n",
       "trending_date             0\n",
       "title                     0\n",
       "channel_title             0\n",
       "category                  0\n",
       "category_id               0\n",
       "publish_time              0\n",
       "tags                      0\n",
       "views                     0\n",
       "likes                     0\n",
       "dislikes                  0\n",
       "comment_count             0\n",
       "thumbnail_link            0\n",
       "comments_disabled         0\n",
       "ratings_disabled          0\n",
       "video_error_or_removed    0\n",
       "publish_date              0\n",
       "publish_hour              0\n",
       "non-reactors              0\n",
       "days_before_trend         0\n",
       "views_per_day             0\n",
       "dtype: int64"
      ]
     },
     "execution_count": 26,
     "metadata": {},
     "output_type": "execute_result"
    }
   ],
   "source": [
    "in_videos.isnull().sum()"
   ]
  },
  {
   "cell_type": "markdown",
   "metadata": {},
   "source": [
    " [Back](#1.5.13)"
   ]
  },
  {
   "cell_type": "markdown",
   "metadata": {},
   "source": [
    "### 1.5.13. Outputing the file in CSV Format \n",
    "<a id=\"output_file\"></a>"
   ]
  },
  {
   "cell_type": "markdown",
   "metadata": {},
   "source": [
    "<b>NOTE:</b> Producing output as processed file after preprocessing step in the pipeline as .csv file. The next step will take preprocessed csv file as input for model to train. "
   ]
  },
  {
   "cell_type": "code",
   "execution_count": 27,
   "metadata": {},
   "outputs": [],
   "source": [
    "in_videos.to_csv('preprocessedIndia.csv',index=False)"
   ]
  },
  {
   "cell_type": "markdown",
   "metadata": {},
   "source": [
    " [Back](#1.5.13)"
   ]
  },
  {
   "cell_type": "markdown",
   "metadata": {
    "_cell_guid": "4c77ebbe-5765-43f9-82f5-e732aa661ed4",
    "_uuid": "b6b8e3f7fd62a1d738d19caa552427f1fdf33a65"
   },
   "source": [
    "# 2. Data Visualization and Analysis\n",
    "<a id=\"data_visualization\"></a>"
   ]
  },
  {
   "cell_type": "markdown",
   "metadata": {},
   "source": [
    " [Back](#2)"
   ]
  },
  {
   "cell_type": "markdown",
   "metadata": {
    "_cell_guid": "862a92ce-31bd-410f-9c23-804c3d2dbbf7",
    "_uuid": "208eed3e1d127dc0fdbd79e78470eb80d060f931"
   },
   "source": [
    "## 2.1. Best time to publish video\n",
    "<a id=\"best_time_to_publish_video\"></a>"
   ]
  },
  {
   "cell_type": "code",
   "execution_count": 28,
   "metadata": {
    "_cell_guid": "3bf399cf-52f9-4705-ac7b-ebfe803c5ed6",
    "_kg_hide-input": false,
    "_uuid": "8cf1cdef28eb23c9ef94428b886eba1e970d8fed"
   },
   "outputs": [
    {
     "data": {
      "image/png": "[encoded data removed]",
      "text/plain": [
       "<Figure size 1440x720 with 1 Axes>"
      ]
     },
     "metadata": {
      "needs_background": "light"
     },
     "output_type": "display_data"
    }
   ],
   "source": [
    "# Initialization of the list storing counters for subsequent publication hours\n",
    "publish_h = [0] * 24\n",
    "\n",
    "for index, row in in_videos_first.iterrows():\n",
    "    publish_h[row[\"publish_hour\"]] += 1\n",
    "    \n",
    "values = publish_h\n",
    "ind = np.arange(len(values))\n",
    "\n",
    "\n",
    "# Creating new plot\n",
    "fig = plt.figure(figsize=(20,10))\n",
    "ax = fig.add_subplot(111)\n",
    "ax.yaxis.grid()\n",
    "ax.xaxis.grid()\n",
    "bars = ax.bar(ind, values)\n",
    "\n",
    "# Sampling of Colormap\n",
    "for i, b in enumerate(bars):\n",
    "    b.set_color(plt.cm.viridis((values[i] - min(values))/(max(values)- min(values))))\n",
    "    \n",
    "plt.ylabel('Number of videos that got trending', fontsize=20)\n",
    "plt.xlabel('Time of publishing', fontsize=20)\n",
    "plt.title('Best time to publish video', fontsize=35, fontweight='bold')\n",
    "plt.xticks(np.arange(0, len(ind), len(ind)/6), [0, 4, 8, 12, 16, 20])\n",
    "\n",
    "plt.show()"
   ]
  },
  {
   "cell_type": "markdown",
   "metadata": {},
   "source": [
    "According to the above graph, we can say that **`12pm to 4pm`** can be considered as the best time to publish a video, around 1000+ videos went trending which were published between this time span. Among these, videos which were published at **```2pm```** has the highest number of trending."
   ]
  },
  {
   "cell_type": "markdown",
   "metadata": {},
   "source": [
    " [Back](#2.1)"
   ]
  },
  {
   "cell_type": "markdown",
   "metadata": {},
   "source": [
    "## 2.2. Description of numerical columns\n",
    "<a id=\"describtion_of_numerical_columns\"></a>\n",
    "Now, let's see some statistical information about the numerical columns of our dataset"
   ]
  },
  {
   "cell_type": "code",
   "execution_count": 29,
   "metadata": {},
   "outputs": [
    {
     "data": {
      "text/html": [
       "<div>\n",
       "<style scoped>\n",
       "    .dataframe tbody tr th:only-of-type {\n",
       "        vertical-align: middle;\n",
       "    }\n",
       "\n",
       "    .dataframe tbody tr th {\n",
       "        vertical-align: top;\n",
       "    }\n",
       "\n",
       "    .dataframe thead th {\n",
       "        text-align: right;\n",
       "    }\n",
       "</style>\n",
       "<table border=\"1\" class=\"dataframe\">\n",
       "  <thead>\n",
       "    <tr style=\"text-align: right;\">\n",
       "      <th></th>\n",
       "      <th>category_id</th>\n",
       "      <th>views</th>\n",
       "      <th>likes</th>\n",
       "      <th>dislikes</th>\n",
       "      <th>comment_count</th>\n",
       "      <th>publish_hour</th>\n",
       "      <th>non-reactors</th>\n",
       "      <th>days_before_trend</th>\n",
       "      <th>views_per_day</th>\n",
       "    </tr>\n",
       "  </thead>\n",
       "  <tbody>\n",
       "    <tr>\n",
       "      <th>count</th>\n",
       "      <td>37351.00</td>\n",
       "      <td>37351.00</td>\n",
       "      <td>37351.00</td>\n",
       "      <td>37351.00</td>\n",
       "      <td>37351.00</td>\n",
       "      <td>37351.00</td>\n",
       "      <td>37351.00</td>\n",
       "      <td>37351.00</td>\n",
       "      <td>37351.00</td>\n",
       "    </tr>\n",
       "    <tr>\n",
       "      <th>mean</th>\n",
       "      <td>21.58</td>\n",
       "      <td>1060490.24</td>\n",
       "      <td>27083.42</td>\n",
       "      <td>1665.10</td>\n",
       "      <td>2677.07</td>\n",
       "      <td>10.61</td>\n",
       "      <td>1031741.71</td>\n",
       "      <td>2.10</td>\n",
       "      <td>449729.90</td>\n",
       "    </tr>\n",
       "    <tr>\n",
       "      <th>std</th>\n",
       "      <td>6.56</td>\n",
       "      <td>3184973.76</td>\n",
       "      <td>97146.30</td>\n",
       "      <td>16076.39</td>\n",
       "      <td>14868.51</td>\n",
       "      <td>5.22</td>\n",
       "      <td>3094124.83</td>\n",
       "      <td>2.05</td>\n",
       "      <td>1071996.93</td>\n",
       "    </tr>\n",
       "    <tr>\n",
       "      <th>min</th>\n",
       "      <td>1.00</td>\n",
       "      <td>4024.00</td>\n",
       "      <td>0.00</td>\n",
       "      <td>0.00</td>\n",
       "      <td>0.00</td>\n",
       "      <td>0.00</td>\n",
       "      <td>3963.00</td>\n",
       "      <td>1.00</td>\n",
       "      <td>173.04</td>\n",
       "    </tr>\n",
       "    <tr>\n",
       "      <th>25%</th>\n",
       "      <td>23.00</td>\n",
       "      <td>123914.00</td>\n",
       "      <td>864.50</td>\n",
       "      <td>108.00</td>\n",
       "      <td>81.00</td>\n",
       "      <td>6.00</td>\n",
       "      <td>121152.50</td>\n",
       "      <td>1.00</td>\n",
       "      <td>77118.50</td>\n",
       "    </tr>\n",
       "    <tr>\n",
       "      <th>50%</th>\n",
       "      <td>24.00</td>\n",
       "      <td>304576.00</td>\n",
       "      <td>3069.00</td>\n",
       "      <td>326.00</td>\n",
       "      <td>329.00</td>\n",
       "      <td>11.00</td>\n",
       "      <td>298486.00</td>\n",
       "      <td>2.00</td>\n",
       "      <td>172345.00</td>\n",
       "    </tr>\n",
       "    <tr>\n",
       "      <th>75%</th>\n",
       "      <td>24.00</td>\n",
       "      <td>799317.50</td>\n",
       "      <td>13774.50</td>\n",
       "      <td>1019.50</td>\n",
       "      <td>1285.00</td>\n",
       "      <td>14.00</td>\n",
       "      <td>779235.00</td>\n",
       "      <td>3.00</td>\n",
       "      <td>396921.25</td>\n",
       "    </tr>\n",
       "    <tr>\n",
       "      <th>max</th>\n",
       "      <td>43.00</td>\n",
       "      <td>125432237.00</td>\n",
       "      <td>2912710.00</td>\n",
       "      <td>1545017.00</td>\n",
       "      <td>827755.00</td>\n",
       "      <td>23.00</td>\n",
       "      <td>120974510.00</td>\n",
       "      <td>221.00</td>\n",
       "      <td>37736281.00</td>\n",
       "    </tr>\n",
       "  </tbody>\n",
       "</table>\n",
       "</div>"
      ],
      "text/plain": [
       "       category_id        views      likes   dislikes  comment_count  \\\n",
       "count     37351.00     37351.00   37351.00   37351.00       37351.00   \n",
       "mean         21.58   1060490.24   27083.42    1665.10        2677.07   \n",
       "std           6.56   3184973.76   97146.30   16076.39       14868.51   \n",
       "min           1.00      4024.00       0.00       0.00           0.00   \n",
       "25%          23.00    123914.00     864.50     108.00          81.00   \n",
       "50%          24.00    304576.00    3069.00     326.00         329.00   \n",
       "75%          24.00    799317.50   13774.50    1019.50        1285.00   \n",
       "max          43.00 125432237.00 2912710.00 1545017.00      827755.00   \n",
       "\n",
       "       publish_hour  non-reactors  days_before_trend  views_per_day  \n",
       "count      37351.00      37351.00           37351.00       37351.00  \n",
       "mean          10.61    1031741.71               2.10      449729.90  \n",
       "std            5.22    3094124.83               2.05     1071996.93  \n",
       "min            0.00       3963.00               1.00         173.04  \n",
       "25%            6.00     121152.50               1.00       77118.50  \n",
       "50%           11.00     298486.00               2.00      172345.00  \n",
       "75%           14.00     779235.00               3.00      396921.25  \n",
       "max           23.00  120974510.00             221.00    37736281.00  "
      ]
     },
     "execution_count": 29,
     "metadata": {},
     "output_type": "execute_result"
    }
   ],
   "source": [
    "pd.set_option('display.float_format', lambda x: '%.2f' % x)\n",
    "in_videos.describe()\n"
   ]
  },
  {
   "cell_type": "markdown",
   "metadata": {},
   "source": [
    "We note from the table above that \n",
    "- The average number of views of a trending video is **`10,60,490`**. \n",
    "\n",
    " \n",
    "- The median value for the number of views is **`3,04,576`**, which means that half the trending videos have views that are less than that number, and the other half have views larger than that number.\n",
    "\n",
    "\n",
    "- The average number of likes of a trending video is **`27,083`**, while the average number of dislikes is **`1,665`**. \n",
    "\n",
    "\n",
    "- The Average comment count is **`2,677`** while the median is **`329`**."
   ]
  },
  {
   "cell_type": "markdown",
   "metadata": {},
   "source": [
    " [Back](#2.2)"
   ]
  },
  {
   "cell_type": "markdown",
   "metadata": {
    "_cell_guid": "8dad2506-94ae-4ea6-a6f5-44a1c128cfa6",
    "_uuid": "a308395a3fc499b17367d0af06e628de37a63f36"
   },
   "source": [
    "## 2.3. Trending video titles contain capitalized word\n",
    "<a id=\"titles_capitalized_word\"></a>"
   ]
  },
  {
   "cell_type": "markdown",
   "metadata": {
    "_cell_guid": "8dad2506-94ae-4ea6-a6f5-44a1c128cfa6",
    "_uuid": "a308395a3fc499b17367d0af06e628de37a63f36"
   },
   "source": [
    "Now we want to see how many trending video titles contain at least a capitalized word (e.g. HOW). To do that, we will add a new variable (column) to the dataset whose value is True if the video title has at least a capitalized word in it, and False otherwise"
   ]
  },
  {
   "cell_type": "code",
   "execution_count": 30,
   "metadata": {},
   "outputs": [
    {
     "data": {
      "image/png": "[encoded data removed]",
      "text/plain": [
       "<Figure size 432x288 with 1 Axes>"
      ]
     },
     "metadata": {},
     "output_type": "display_data"
    }
   ],
   "source": [
    "# Helper function\n",
    "def numberOfUpper(string):\n",
    "    for word in string.split():\n",
    "        if word.isupper():\n",
    "            return True\n",
    "    return False\n",
    "\n",
    "in_videos[\"contains_capitalized\"] = in_videos[\"title\"].apply(numberOfUpper)\n",
    "\n",
    "value_counts = in_videos[\"contains_capitalized\"].value_counts().to_dict()\n",
    "fig, ax = plt.subplots()\n",
    "_ = ax.pie([value_counts[False], value_counts[True]], labels=['No', 'Yes'], \n",
    "           colors=['#003f5c', '#ffa600'], textprops={'color': '#040204'}, startangle=45)\n",
    "_ = ax.axis('equal')\n",
    "_ = ax.set_title('Title Contains Capitalized Word?')"
   ]
  },
  {
   "cell_type": "code",
   "execution_count": 31,
   "metadata": {},
   "outputs": [
    {
     "data": {
      "text/plain": [
       "False   0.60\n",
       "True    0.40\n",
       "Name: contains_capitalized, dtype: float64"
      ]
     },
     "execution_count": 31,
     "metadata": {},
     "output_type": "execute_result"
    }
   ],
   "source": [
    "in_videos[\"contains_capitalized\"].value_counts(normalize=True)"
   ]
  },
  {
   "cell_type": "markdown",
   "metadata": {
    "_cell_guid": "8dad2506-94ae-4ea6-a6f5-44a1c128cfa6",
    "_uuid": "a308395a3fc499b17367d0af06e628de37a63f36"
   },
   "source": [
    "We can see that **40%** of trending video titles contain at least a capitalized word. We will later use this added new column contains_capitalized in analyzing correlation between variables."
   ]
  },
  {
   "cell_type": "markdown",
   "metadata": {},
   "source": [
    " [Back](#2.3)"
   ]
  },
  {
   "cell_type": "markdown",
   "metadata": {
    "_cell_guid": "8dad2506-94ae-4ea6-a6f5-44a1c128cfa6",
    "_uuid": "a308395a3fc499b17367d0af06e628de37a63f36"
   },
   "source": [
    "## 2.4. Trending video titles Lengths\n",
    "<a id=\"title_lengths\"></a>"
   ]
  },
  {
   "cell_type": "markdown",
   "metadata": {
    "_cell_guid": "8dad2506-94ae-4ea6-a6f5-44a1c128cfa6",
    "_uuid": "a308395a3fc499b17367d0af06e628de37a63f36"
   },
   "source": [
    "Let's add another column to our dataset to represent the length of each video title, then plot the histogram of title length to get an idea about the lengths of trnding video titles"
   ]
  },
  {
   "cell_type": "code",
   "execution_count": 32,
   "metadata": {},
   "outputs": [
    {
     "data": {
      "image/png": "[encoded data removed]",
      "text/plain": [
       "<Figure size 432x288 with 1 Axes>"
      ]
     },
     "metadata": {
      "needs_background": "light"
     },
     "output_type": "display_data"
    }
   ],
   "source": [
    "in_videos[\"title_length\"] = in_videos[\"title\"].apply(lambda x: len(x))\n",
    "\n",
    "fig, ax = plt.subplots()\n",
    "_ = sns.distplot(in_videos[\"title_length\"], kde=False, rug=False, \n",
    "                  hist_kws={'alpha': 1}, ax=ax)\n",
    "_ = ax.set(xlabel=\"Title Length\", ylabel=\"No. of videos\", xticks=range(0, 110, 10))"
   ]
  },
  {
   "cell_type": "markdown",
   "metadata": {
    "_cell_guid": "8dad2506-94ae-4ea6-a6f5-44a1c128cfa6",
    "_uuid": "a308395a3fc499b17367d0af06e628de37a63f36"
   },
   "source": [
    "We can see that title-length distribution resembles a normal distribution, where most videos have title lengths between **90 and 100** character approximately.\n",
    "\n",
    "Now let's draw a scatter plot between title length and number of views to see the relationship between these two variables"
   ]
  },
  {
   "cell_type": "code",
   "execution_count": 33,
   "metadata": {
    "scrolled": true
   },
   "outputs": [
    {
     "data": {
      "image/png": "[encoded data removed]",
      "text/plain": [
       "<Figure size 432x288 with 1 Axes>"
      ]
     },
     "metadata": {
      "needs_background": "light"
     },
     "output_type": "display_data"
    }
   ],
   "source": [
    "fig, ax = plt.subplots()\n",
    "_ = ax.scatter(x=in_videos['views'], y=in_videos['title_length'], edgecolors=\"#000000\", linewidths=0.5)\n",
    "_ = ax.set(xlabel=\"Views\", ylabel=\"Title Length\")"
   ]
  },
  {
   "cell_type": "markdown",
   "metadata": {
    "_cell_guid": "8dad2506-94ae-4ea6-a6f5-44a1c128cfa6",
    "_uuid": "a308395a3fc499b17367d0af06e628de37a63f36"
   },
   "source": [
    "By looking at the scatter plot, we can say that there is no relationship between the title length and the number of views. However, we notice an interesting thing: videos that have **40,00,000** views and more have title length between **55 and 60** characters approximately."
   ]
  },
  {
   "cell_type": "markdown",
   "metadata": {},
   "source": [
    " [Back](#2.4)"
   ]
  },
  {
   "cell_type": "markdown",
   "metadata": {},
   "source": [
    "## 2.5. Correlation between dataset variables\n",
    "<a id=\"correlation\"></a>\n",
    "Now let's see how the dataset variables are correlated with each other: for example, we would like to see how views and likes are correlated, meaning do views and likes increase and decrease together (positive correlation)? Does one of them increase when the other decrease and vice versa (negative correlation)? Or are they not correlated?\n",
    "\n",
    "Correlation is represented as a value between -1 and +1 where +1 denotes the highest positive correlation, -1 denotes the highest negative correlation, and 0 denotes that there is no correlation.\n",
    "\n",
    "Let's see the correlation table between our dataset variables (numerical and boolean variables only)"
   ]
  },
  {
   "cell_type": "code",
   "execution_count": 34,
   "metadata": {},
   "outputs": [
    {
     "data": {
      "text/html": [
       "<div>\n",
       "<style scoped>\n",
       "    .dataframe tbody tr th:only-of-type {\n",
       "        vertical-align: middle;\n",
       "    }\n",
       "\n",
       "    .dataframe tbody tr th {\n",
       "        vertical-align: top;\n",
       "    }\n",
       "\n",
       "    .dataframe thead th {\n",
       "        text-align: right;\n",
       "    }\n",
       "</style>\n",
       "<table border=\"1\" class=\"dataframe\">\n",
       "  <thead>\n",
       "    <tr style=\"text-align: right;\">\n",
       "      <th></th>\n",
       "      <th>category_id</th>\n",
       "      <th>views</th>\n",
       "      <th>likes</th>\n",
       "      <th>dislikes</th>\n",
       "      <th>comment_count</th>\n",
       "      <th>comments_disabled</th>\n",
       "      <th>ratings_disabled</th>\n",
       "      <th>video_error_or_removed</th>\n",
       "      <th>publish_hour</th>\n",
       "      <th>non-reactors</th>\n",
       "      <th>days_before_trend</th>\n",
       "      <th>views_per_day</th>\n",
       "      <th>contains_capitalized</th>\n",
       "      <th>title_length</th>\n",
       "    </tr>\n",
       "  </thead>\n",
       "  <tbody>\n",
       "    <tr>\n",
       "      <th>category_id</th>\n",
       "      <td>1.00</td>\n",
       "      <td>-0.18</td>\n",
       "      <td>-0.13</td>\n",
       "      <td>-0.04</td>\n",
       "      <td>-0.04</td>\n",
       "      <td>0.04</td>\n",
       "      <td>0.06</td>\n",
       "      <td>-0.05</td>\n",
       "      <td>0.06</td>\n",
       "      <td>-0.18</td>\n",
       "      <td>-0.08</td>\n",
       "      <td>-0.20</td>\n",
       "      <td>0.02</td>\n",
       "      <td>-0.16</td>\n",
       "    </tr>\n",
       "    <tr>\n",
       "      <th>views</th>\n",
       "      <td>-0.18</td>\n",
       "      <td>1.00</td>\n",
       "      <td>0.85</td>\n",
       "      <td>0.54</td>\n",
       "      <td>0.67</td>\n",
       "      <td>-0.03</td>\n",
       "      <td>-0.03</td>\n",
       "      <td>0.00</td>\n",
       "      <td>-0.01</td>\n",
       "      <td>1.00</td>\n",
       "      <td>0.19</td>\n",
       "      <td>0.81</td>\n",
       "      <td>-0.02</td>\n",
       "      <td>-0.05</td>\n",
       "    </tr>\n",
       "    <tr>\n",
       "      <th>likes</th>\n",
       "      <td>-0.13</td>\n",
       "      <td>0.85</td>\n",
       "      <td>1.00</td>\n",
       "      <td>0.49</td>\n",
       "      <td>0.78</td>\n",
       "      <td>-0.05</td>\n",
       "      <td>-0.04</td>\n",
       "      <td>0.03</td>\n",
       "      <td>0.01</td>\n",
       "      <td>0.84</td>\n",
       "      <td>0.15</td>\n",
       "      <td>0.74</td>\n",
       "      <td>-0.01</td>\n",
       "      <td>-0.17</td>\n",
       "    </tr>\n",
       "    <tr>\n",
       "      <th>dislikes</th>\n",
       "      <td>-0.04</td>\n",
       "      <td>0.54</td>\n",
       "      <td>0.49</td>\n",
       "      <td>1.00</td>\n",
       "      <td>0.71</td>\n",
       "      <td>-0.01</td>\n",
       "      <td>-0.02</td>\n",
       "      <td>0.00</td>\n",
       "      <td>0.01</td>\n",
       "      <td>0.54</td>\n",
       "      <td>0.06</td>\n",
       "      <td>0.43</td>\n",
       "      <td>-0.01</td>\n",
       "      <td>-0.03</td>\n",
       "    </tr>\n",
       "    <tr>\n",
       "      <th>comment_count</th>\n",
       "      <td>-0.04</td>\n",
       "      <td>0.67</td>\n",
       "      <td>0.78</td>\n",
       "      <td>0.71</td>\n",
       "      <td>1.00</td>\n",
       "      <td>-0.03</td>\n",
       "      <td>-0.02</td>\n",
       "      <td>0.02</td>\n",
       "      <td>0.01</td>\n",
       "      <td>0.67</td>\n",
       "      <td>0.08</td>\n",
       "      <td>0.59</td>\n",
       "      <td>0.01</td>\n",
       "      <td>-0.12</td>\n",
       "    </tr>\n",
       "    <tr>\n",
       "      <th>comments_disabled</th>\n",
       "      <td>0.04</td>\n",
       "      <td>-0.03</td>\n",
       "      <td>-0.05</td>\n",
       "      <td>-0.01</td>\n",
       "      <td>-0.03</td>\n",
       "      <td>1.00</td>\n",
       "      <td>0.35</td>\n",
       "      <td>-0.00</td>\n",
       "      <td>-0.03</td>\n",
       "      <td>-0.03</td>\n",
       "      <td>-0.00</td>\n",
       "      <td>-0.04</td>\n",
       "      <td>-0.02</td>\n",
       "      <td>0.09</td>\n",
       "    </tr>\n",
       "    <tr>\n",
       "      <th>ratings_disabled</th>\n",
       "      <td>0.06</td>\n",
       "      <td>-0.03</td>\n",
       "      <td>-0.04</td>\n",
       "      <td>-0.02</td>\n",
       "      <td>-0.02</td>\n",
       "      <td>0.35</td>\n",
       "      <td>1.00</td>\n",
       "      <td>-0.00</td>\n",
       "      <td>-0.04</td>\n",
       "      <td>-0.03</td>\n",
       "      <td>-0.02</td>\n",
       "      <td>-0.04</td>\n",
       "      <td>-0.01</td>\n",
       "      <td>0.05</td>\n",
       "    </tr>\n",
       "    <tr>\n",
       "      <th>video_error_or_removed</th>\n",
       "      <td>-0.05</td>\n",
       "      <td>0.00</td>\n",
       "      <td>0.03</td>\n",
       "      <td>0.00</td>\n",
       "      <td>0.02</td>\n",
       "      <td>-0.00</td>\n",
       "      <td>-0.00</td>\n",
       "      <td>1.00</td>\n",
       "      <td>0.01</td>\n",
       "      <td>0.00</td>\n",
       "      <td>0.01</td>\n",
       "      <td>0.01</td>\n",
       "      <td>-0.01</td>\n",
       "      <td>-0.03</td>\n",
       "    </tr>\n",
       "    <tr>\n",
       "      <th>publish_hour</th>\n",
       "      <td>0.06</td>\n",
       "      <td>-0.01</td>\n",
       "      <td>0.01</td>\n",
       "      <td>0.01</td>\n",
       "      <td>0.01</td>\n",
       "      <td>-0.03</td>\n",
       "      <td>-0.04</td>\n",
       "      <td>0.01</td>\n",
       "      <td>1.00</td>\n",
       "      <td>-0.01</td>\n",
       "      <td>0.08</td>\n",
       "      <td>-0.04</td>\n",
       "      <td>0.03</td>\n",
       "      <td>-0.10</td>\n",
       "    </tr>\n",
       "    <tr>\n",
       "      <th>non-reactors</th>\n",
       "      <td>-0.18</td>\n",
       "      <td>1.00</td>\n",
       "      <td>0.84</td>\n",
       "      <td>0.54</td>\n",
       "      <td>0.67</td>\n",
       "      <td>-0.03</td>\n",
       "      <td>-0.03</td>\n",
       "      <td>0.00</td>\n",
       "      <td>-0.01</td>\n",
       "      <td>1.00</td>\n",
       "      <td>0.19</td>\n",
       "      <td>0.81</td>\n",
       "      <td>-0.02</td>\n",
       "      <td>-0.05</td>\n",
       "    </tr>\n",
       "    <tr>\n",
       "      <th>days_before_trend</th>\n",
       "      <td>-0.08</td>\n",
       "      <td>0.19</td>\n",
       "      <td>0.15</td>\n",
       "      <td>0.06</td>\n",
       "      <td>0.08</td>\n",
       "      <td>-0.00</td>\n",
       "      <td>-0.02</td>\n",
       "      <td>0.01</td>\n",
       "      <td>0.08</td>\n",
       "      <td>0.19</td>\n",
       "      <td>1.00</td>\n",
       "      <td>0.05</td>\n",
       "      <td>-0.01</td>\n",
       "      <td>0.01</td>\n",
       "    </tr>\n",
       "    <tr>\n",
       "      <th>views_per_day</th>\n",
       "      <td>-0.20</td>\n",
       "      <td>0.81</td>\n",
       "      <td>0.74</td>\n",
       "      <td>0.43</td>\n",
       "      <td>0.59</td>\n",
       "      <td>-0.04</td>\n",
       "      <td>-0.04</td>\n",
       "      <td>0.01</td>\n",
       "      <td>-0.04</td>\n",
       "      <td>0.81</td>\n",
       "      <td>0.05</td>\n",
       "      <td>1.00</td>\n",
       "      <td>-0.01</td>\n",
       "      <td>-0.07</td>\n",
       "    </tr>\n",
       "    <tr>\n",
       "      <th>contains_capitalized</th>\n",
       "      <td>0.02</td>\n",
       "      <td>-0.02</td>\n",
       "      <td>-0.01</td>\n",
       "      <td>-0.01</td>\n",
       "      <td>0.01</td>\n",
       "      <td>-0.02</td>\n",
       "      <td>-0.01</td>\n",
       "      <td>-0.01</td>\n",
       "      <td>0.03</td>\n",
       "      <td>-0.02</td>\n",
       "      <td>-0.01</td>\n",
       "      <td>-0.01</td>\n",
       "      <td>1.00</td>\n",
       "      <td>-0.01</td>\n",
       "    </tr>\n",
       "    <tr>\n",
       "      <th>title_length</th>\n",
       "      <td>-0.16</td>\n",
       "      <td>-0.05</td>\n",
       "      <td>-0.17</td>\n",
       "      <td>-0.03</td>\n",
       "      <td>-0.12</td>\n",
       "      <td>0.09</td>\n",
       "      <td>0.05</td>\n",
       "      <td>-0.03</td>\n",
       "      <td>-0.10</td>\n",
       "      <td>-0.05</td>\n",
       "      <td>0.01</td>\n",
       "      <td>-0.07</td>\n",
       "      <td>-0.01</td>\n",
       "      <td>1.00</td>\n",
       "    </tr>\n",
       "  </tbody>\n",
       "</table>\n",
       "</div>"
      ],
      "text/plain": [
       "                        category_id  views  likes  dislikes  comment_count  \\\n",
       "category_id                    1.00  -0.18  -0.13     -0.04          -0.04   \n",
       "views                         -0.18   1.00   0.85      0.54           0.67   \n",
       "likes                         -0.13   0.85   1.00      0.49           0.78   \n",
       "dislikes                      -0.04   0.54   0.49      1.00           0.71   \n",
       "comment_count                 -0.04   0.67   0.78      0.71           1.00   \n",
       "comments_disabled              0.04  -0.03  -0.05     -0.01          -0.03   \n",
       "ratings_disabled               0.06  -0.03  -0.04     -0.02          -0.02   \n",
       "video_error_or_removed        -0.05   0.00   0.03      0.00           0.02   \n",
       "publish_hour                   0.06  -0.01   0.01      0.01           0.01   \n",
       "non-reactors                  -0.18   1.00   0.84      0.54           0.67   \n",
       "days_before_trend             -0.08   0.19   0.15      0.06           0.08   \n",
       "views_per_day                 -0.20   0.81   0.74      0.43           0.59   \n",
       "contains_capitalized           0.02  -0.02  -0.01     -0.01           0.01   \n",
       "title_length                  -0.16  -0.05  -0.17     -0.03          -0.12   \n",
       "\n",
       "                        comments_disabled  ratings_disabled  \\\n",
       "category_id                          0.04              0.06   \n",
       "views                               -0.03             -0.03   \n",
       "likes                               -0.05             -0.04   \n",
       "dislikes                            -0.01             -0.02   \n",
       "comment_count                       -0.03             -0.02   \n",
       "comments_disabled                    1.00              0.35   \n",
       "ratings_disabled                     0.35              1.00   \n",
       "video_error_or_removed              -0.00             -0.00   \n",
       "publish_hour                        -0.03             -0.04   \n",
       "non-reactors                        -0.03             -0.03   \n",
       "days_before_trend                   -0.00             -0.02   \n",
       "views_per_day                       -0.04             -0.04   \n",
       "contains_capitalized                -0.02             -0.01   \n",
       "title_length                         0.09              0.05   \n",
       "\n",
       "                        video_error_or_removed  publish_hour  non-reactors  \\\n",
       "category_id                              -0.05          0.06         -0.18   \n",
       "views                                     0.00         -0.01          1.00   \n",
       "likes                                     0.03          0.01          0.84   \n",
       "dislikes                                  0.00          0.01          0.54   \n",
       "comment_count                             0.02          0.01          0.67   \n",
       "comments_disabled                        -0.00         -0.03         -0.03   \n",
       "ratings_disabled                         -0.00         -0.04         -0.03   \n",
       "video_error_or_removed                    1.00          0.01          0.00   \n",
       "publish_hour                              0.01          1.00         -0.01   \n",
       "non-reactors                              0.00         -0.01          1.00   \n",
       "days_before_trend                         0.01          0.08          0.19   \n",
       "views_per_day                             0.01         -0.04          0.81   \n",
       "contains_capitalized                     -0.01          0.03         -0.02   \n",
       "title_length                             -0.03         -0.10         -0.05   \n",
       "\n",
       "                        days_before_trend  views_per_day  \\\n",
       "category_id                         -0.08          -0.20   \n",
       "views                                0.19           0.81   \n",
       "likes                                0.15           0.74   \n",
       "dislikes                             0.06           0.43   \n",
       "comment_count                        0.08           0.59   \n",
       "comments_disabled                   -0.00          -0.04   \n",
       "ratings_disabled                    -0.02          -0.04   \n",
       "video_error_or_removed               0.01           0.01   \n",
       "publish_hour                         0.08          -0.04   \n",
       "non-reactors                         0.19           0.81   \n",
       "days_before_trend                    1.00           0.05   \n",
       "views_per_day                        0.05           1.00   \n",
       "contains_capitalized                -0.01          -0.01   \n",
       "title_length                         0.01          -0.07   \n",
       "\n",
       "                        contains_capitalized  title_length  \n",
       "category_id                             0.02         -0.16  \n",
       "views                                  -0.02         -0.05  \n",
       "likes                                  -0.01         -0.17  \n",
       "dislikes                               -0.01         -0.03  \n",
       "comment_count                           0.01         -0.12  \n",
       "comments_disabled                      -0.02          0.09  \n",
       "ratings_disabled                       -0.01          0.05  \n",
       "video_error_or_removed                 -0.01         -0.03  \n",
       "publish_hour                            0.03         -0.10  \n",
       "non-reactors                           -0.02         -0.05  \n",
       "days_before_trend                      -0.01          0.01  \n",
       "views_per_day                          -0.01         -0.07  \n",
       "contains_capitalized                    1.00         -0.01  \n",
       "title_length                           -0.01          1.00  "
      ]
     },
     "execution_count": 34,
     "metadata": {},
     "output_type": "execute_result"
    }
   ],
   "source": [
    "in_videos.corr()"
   ]
  },
  {
   "cell_type": "markdown",
   "metadata": {},
   "source": [
    "We see for example that views and likes are highly positively correlated with a correlation value of **0.85**; we see also a high positive correlation **(0.78)** between likes and comment count, and between dislikes and comment count **(0.71)**.\n",
    "\n",
    "There is some positive correlation between views and dislikes, between views and comment count, between likes and dislikes.\n",
    "\n",
    "Now let's visualize the correlation table above using a heatmap"
   ]
  },
  {
   "cell_type": "code",
   "execution_count": 35,
   "metadata": {
    "scrolled": true
   },
   "outputs": [
    {
     "data": {
      "image/png": "[encoded data removed]",
      "text/plain": [
       "<Figure size 720x432 with 2 Axes>"
      ]
     },
     "metadata": {
      "needs_background": "light"
     },
     "output_type": "display_data"
    }
   ],
   "source": [
    "h_labels = [x.replace('_', ' ').title() for x in \n",
    "            list(in_videos.select_dtypes(include=['number', 'bool']).columns.values)]\n",
    "\n",
    "fig, ax = plt.subplots(figsize=(10,6))\n",
    "_ = sns.heatmap(in_videos.corr(), annot=True, xticklabels=h_labels, yticklabels=h_labels, cmap=sns.cubehelix_palette(as_cmap=True), ax=ax)"
   ]
  },
  {
   "cell_type": "markdown",
   "metadata": {
    "_cell_guid": "adfcb4ea-e41d-4215-a6e6-5ac159da3ee6",
    "_uuid": "8d74c7d922cf161d1bd3cac34efc2963c2d7df8b"
   },
   "source": [
    "The correlation map and correlation table above say that views and likes are highly positively correlated. Let's verify that by plotting a scatter plot between views and likes to visualize the relationship between these variables"
   ]
  },
  {
   "cell_type": "code",
   "execution_count": 36,
   "metadata": {},
   "outputs": [
    {
     "data": {
      "image/png": "[encoded data removed]",
      "text/plain": [
       "<Figure size 432x288 with 1 Axes>"
      ]
     },
     "metadata": {
      "needs_background": "light"
     },
     "output_type": "display_data"
    }
   ],
   "source": [
    "fig, ax = plt.subplots()\n",
    "_ = plt.scatter(x=in_videos['views'], y=in_videos['likes'],  edgecolors=\"#000000\", linewidths=0.5)\n",
    "_ = ax.set(xlabel=\"Views\", ylabel=\"Likes\")"
   ]
  },
  {
   "cell_type": "markdown",
   "metadata": {
    "_cell_guid": "adfcb4ea-e41d-4215-a6e6-5ac159da3ee6",
    "_uuid": "8d74c7d922cf161d1bd3cac34efc2963c2d7df8b"
   },
   "source": [
    "We see that views and likes are truly positively correlated: as one increases, the other increases too—mostly.\n",
    "\n",
    "Another verification of the correlation matrix and map is the scatter plot we drew above between views and title length as it shows that there is no correlation between them."
   ]
  },
  {
   "cell_type": "markdown",
   "metadata": {},
   "source": [
    " [Back](#2.5)"
   ]
  },
  {
   "cell_type": "markdown",
   "metadata": {
    "_cell_guid": "adfcb4ea-e41d-4215-a6e6-5ac159da3ee6",
    "_uuid": "8d74c7d922cf161d1bd3cac34efc2963c2d7df8b"
   },
   "source": [
    "## 2.6. It got sensational viral\n",
    "<a id=\"it_got_viral\"></a>\n"
   ]
  },
  {
   "cell_type": "code",
   "execution_count": 37,
   "metadata": {
    "_cell_guid": "243dfd02-bbfc-4467-adb3-6195a4a476b3",
    "_kg_hide-input": true,
    "_uuid": "84285fd09a1dc6fbd78220e03a620d6e36dfd596"
   },
   "outputs": [
    {
     "name": "stderr",
     "output_type": "stream",
     "text": [
      "E:\\setups\\WINDOWS\\winpy\\WPy64-3760\\python-3.7.6.amd64\\lib\\site-packages\\ipykernel_launcher.py:7: FutureWarning:\n",
      "\n",
      "using a dict on a Series for aggregation\n",
      "is deprecated and will be removed in a future version. Use                 named aggregation instead.\n",
      "\n",
      "    >>> grouper.agg(name_1=func_1, name_2=func_2)\n",
      "\n",
      "\n"
     ]
    },
    {
     "data": {
      "text/html": [
       "<table><tr><th>Photo</th><th>Channel Name</th><th style=\"width:250px;\">Title</th><th>Category</th><th>Publish Date</th></tr><tr><td><img src=\"https://i.ytimg.com/vi/rRr1qiJRsXk/default.jpg\"style=\"width:100px;height:100px;\"></td><td>FoxStarHindi</td><td>Sanju | Official Teaser | Ranbir Kapoor | Rajkumar Hirani</td><td>Entertainment</td><td>2018-04-24</td></tr><tr><td><img src=\"https://i.ytimg.com/vi/l7E0kTvARsA/default.jpg\"style=\"width:100px;height:100px;\"></td><td>Rhythm Boyz</td><td>Golak Bugni Bank Te Batua Full Movie (HD) | Harish Verma | Simi Chahal | Superhit Punjabi Movies</td><td>Movies</td><td>2018-05-31</td></tr><tr><td><img src=\"https://i.ytimg.com/vi/1J76wN0TPI4/default.jpg\"style=\"width:100px;height:100px;\"></td><td>FoxStarHindi</td><td>Sanju | Official Trailer | Ranbir Kapoor | Rajkumar Hirani | Releasing on 29th June</td><td>Entertainment</td><td>2018-05-30</td></tr><tr><td><img src=\"https://i.ytimg.com/vi/WDiK14qI3pQ/default.jpg\"style=\"width:100px;height:100px;\"></td><td>ashish chanchlani vines</td><td>Restaurant Sutiyapa | Ashish Chanchlani</td><td>Comedy</td><td>2018-05-30</td></tr><tr><td><img src=\"https://i.ytimg.com/vi/C1Pn5Ln1R4M/default.jpg\"style=\"width:100px;height:100px;\"></td><td>RDC Rajasthani</td><td>कस्टमर केयर वाली छोरिया | राजस्थानी सुपरहिट कॉमेडी रमकुड़ी झमकूड़ी -9  | Ramkudi Jhamkudi Comedy</td><td>Comedy</td><td>2018-06-06</td></tr><tr><td><img src=\"https://i.ytimg.com/vi/y-PQiShdTKA/default.jpg\"style=\"width:100px;height:100px;\"></td><td>Humble Music</td><td>Tochan (Full Video) | SIDHU MOOSEWALA | BYG BYRD | SONIA MAAN | Humble Music</td><td>Music</td><td>2018-05-17</td></tr><tr><td><img src=\"https://i.ytimg.com/vi/yFFL1we4j_Y/default.jpg\"style=\"width:100px;height:100px;\"></td><td>Geet MP3</td><td>Mill Lo Na - Guri Ft. Sukhe (Full Song) Jaani | Satti Dhillon | Latest Punjabi Songs 2018 | Geet MP3</td><td>Music</td><td>2018-02-26</td></tr><tr><td><img src=\"https://i.ytimg.com/vi/bYSRPuDEnTg/default.jpg\"style=\"width:100px;height:100px;\"></td><td>ashish chanchlani vines</td><td>Garmi Ke Side-Effects | Ashish Chanchlani</td><td>Comedy</td><td>2018-04-13</td></tr><tr><td><img src=\"https://i.ytimg.com/vi/u9Mv98Gr5pY/default.jpg\"style=\"width:100px;height:100px;\"></td><td>Sony Pictures Entertainment</td><td>VENOM - Official Trailer (HD)</td><td>Entertainment</td><td>2018-04-24</td></tr><tr><td><img src=\"https://i.ytimg.com/vi/jSxKvP5VaTA/default.jpg\"style=\"width:100px;height:100px;\"></td><td>ETV Dhee</td><td>Dhee 10 |  18th April 2018   | Full Episode | ETV Telugu</td><td>Entertainment</td><td>2018-04-18</td></tr></table>"
      ],
      "text/plain": [
       "<IPython.core.display.HTML object>"
      ]
     },
     "metadata": {},
     "output_type": "display_data"
    }
   ],
   "source": [
    "from IPython.display import HTML, display\n",
    "\n",
    "# We choose the 10 most trending videos\n",
    "selected_columns = ['title', 'channel_title', 'thumbnail_link', 'publish_date', 'category']\n",
    "\n",
    "most_frequent = in_videos.groupby(selected_columns)['video_id'].agg(\n",
    "    {\"code_count\": len}).sort_values(\n",
    "    \"code_count\", ascending=False\n",
    ").head(10).reset_index()\n",
    "\n",
    "# Construction of HTML table with miniature photos assigned to the most popular movies\n",
    "table_content = ''\n",
    "max_title_length = 50\n",
    "\n",
    "for date, row in most_frequent.T.iteritems():\n",
    "    HTML_row = '<tr>'\n",
    "    HTML_row += '<td><img src=\"' + str(row[2]) + '\"style=\"width:100px;height:100px;\"></td>'\n",
    "    HTML_row += '<td>' + str(row[1]) + '</td>'\n",
    "    HTML_row += '<td>' + str(row[0])  + '</td>'\n",
    "    HTML_row += '<td>' + str(row[4]) + '</td>'\n",
    "    HTML_row += '<td>' + str(row[3]) + '</td>'\n",
    "    \n",
    "    table_content += HTML_row + '</tr>'\n",
    "\n",
    "display(HTML(\n",
    "    '<table><tr><th>Photo</th><th>Channel Name</th><th style=\"width:250px;\">Title</th><th>Category</th><th>Publish Date</th></tr>{}</table>'.format(table_content))\n",
    ")"
   ]
  },
  {
   "cell_type": "markdown",
   "metadata": {},
   "source": [
    " [Back](#2.6)"
   ]
  },
  {
   "cell_type": "markdown",
   "metadata": {
    "_cell_guid": "81b5b96d-539d-4ee1-ab4a-a8a618c43109",
    "_uuid": "a355ec13481e17f0a9a6e418cbdcc4e6c3f70afe"
   },
   "source": [
    "## 2.7. Most influential creators (By Channel)\n",
    "<a id=\"most_influential_creators\"></a>"
   ]
  },
  {
   "cell_type": "code",
   "execution_count": 38,
   "metadata": {
    "_cell_guid": "13d2f6b4-e32a-4c30-a839-08b86f377bf7",
    "_kg_hide-input": true,
    "_uuid": "e8fa6cdf2c3390cbdaec3ec8cd00978231bdd971",
    "scrolled": false
   },
   "outputs": [
    {
     "name": "stderr",
     "output_type": "stream",
     "text": [
      "E:\\setups\\WINDOWS\\winpy\\WPy64-3760\\python-3.7.6.amd64\\lib\\site-packages\\ipykernel_launcher.py:5: FutureWarning:\n",
      "\n",
      "using a dict on a Series for aggregation\n",
      "is deprecated and will be removed in a future version. Use                 named aggregation instead.\n",
      "\n",
      "    >>> grouper.agg(name_1=func_1, name_2=func_2)\n",
      "\n",
      "\n",
      "E:\\setups\\WINDOWS\\winpy\\WPy64-3760\\python-3.7.6.amd64\\lib\\site-packages\\plotly\\graph_objs\\_deprecations.py:410: DeprecationWarning:\n",
      "\n",
      "plotly.graph_objs.Margin is deprecated.\n",
      "Please replace it with one of the following more specific types\n",
      "  - plotly.graph_objs.layout.Margin\n",
      "\n",
      "\n"
     ]
    },
    {
     "data": {
      "application/vnd.plotly.v1+json": {
       "config": {
        "linkText": "Export to plot.ly",
        "plotlyServerURL": "https://plot.ly",
        "showLink": false
       },
       "data": [
        {
         "marker": {
          "color": "rgba(55, 128, 191, 0.7)",
          "line": {
           "color": "rgba(55, 128, 191, 1.0)",
           "width": 2
          }
         },
         "name": "Top creators",
         "orientation": "h",
         "type": "bar",
         "x": [
          193,
          196,
          197,
          198,
          212,
          213,
          215,
          220,
          221,
          223,
          231,
          234,
          238,
          238,
          243,
          244,
          253,
          270,
          282,
          284
         ],
         "y": [
          "zeetvtelugu",
          "SunTV Tamil",
          "Speed Records",
          "zeetv",
          "V6 News Telugu",
          "Study IQ education",
          "Technical Guruji",
          "Mazhavil Manorama",
          "T-Series",
          "Tarang TV",
          "Vijay Television",
          "ETV Jabardasth",
          "SET India",
          "mallemalatv",
          "RadaanMedia",
          "SAB TV",
          "ETV Plus India",
          "Flowers Comedy",
          "etvteluguindia",
          "VikatanTV"
         ]
        }
       ],
       "layout": {
        "height": 600,
        "legend": {
         "x": 0.6,
         "y": 0.07
        },
        "margin": {
         "b": 80,
         "l": 180,
         "pad": 10,
         "r": 50,
         "t": 80
        },
        "paper_bgcolor": "rgb(244, 238, 225)",
        "plot_bgcolor": "rgb(244, 238, 225)",
        "template": {
         "data": {
          "bar": [
           {
            "error_x": {
             "color": "#2a3f5f"
            },
            "error_y": {
             "color": "#2a3f5f"
            },
            "marker": {
             "line": {
              "color": "#E5ECF6",
              "width": 0.5
             }
            },
            "type": "bar"
           }
          ],
          "barpolar": [
           {
            "marker": {
             "line": {
              "color": "#E5ECF6",
              "width": 0.5
             }
            },
            "type": "barpolar"
           }
          ],
          "carpet": [
           {
            "aaxis": {
             "endlinecolor": "#2a3f5f",
             "gridcolor": "white",
             "linecolor": "white",
             "minorgridcolor": "white",
             "startlinecolor": "#2a3f5f"
            },
            "baxis": {
             "endlinecolor": "#2a3f5f",
             "gridcolor": "white",
             "linecolor": "white",
             "minorgridcolor": "white",
             "startlinecolor": "#2a3f5f"
            },
            "type": "carpet"
           }
          ],
          "choropleth": [
           {
            "colorbar": {
             "outlinewidth": 0,
             "ticks": ""
            },
            "type": "choropleth"
           }
          ],
          "contour": [
           {
            "colorbar": {
             "outlinewidth": 0,
             "ticks": ""
            },
            "colorscale": [
             [
              0,
              "#0d0887"
             ],
             [
              0.1111111111111111,
              "#46039f"
             ],
             [
              0.2222222222222222,
              "#7201a8"
             ],
             [
              0.3333333333333333,
              "#9c179e"
             ],
             [
              0.4444444444444444,
              "#bd3786"
             ],
             [
              0.5555555555555556,
              "#d8576b"
             ],
             [
              0.6666666666666666,
              "#ed7953"
             ],
             [
              0.7777777777777778,
              "#fb9f3a"
             ],
             [
              0.8888888888888888,
              "#fdca26"
             ],
             [
              1,
              "#f0f921"
             ]
            ],
            "type": "contour"
           }
          ],
          "contourcarpet": [
           {
            "colorbar": {
             "outlinewidth": 0,
             "ticks": ""
            },
            "type": "contourcarpet"
           }
          ],
          "heatmap": [
           {
            "colorbar": {
             "outlinewidth": 0,
             "ticks": ""
            },
            "colorscale": [
             [
              0,
              "#0d0887"
             ],
             [
              0.1111111111111111,
              "#46039f"
             ],
             [
              0.2222222222222222,
              "#7201a8"
             ],
             [
              0.3333333333333333,
              "#9c179e"
             ],
             [
              0.4444444444444444,
              "#bd3786"
             ],
             [
              0.5555555555555556,
              "#d8576b"
             ],
             [
              0.6666666666666666,
              "#ed7953"
             ],
             [
              0.7777777777777778,
              "#fb9f3a"
             ],
             [
              0.8888888888888888,
              "#fdca26"
             ],
             [
              1,
              "#f0f921"
             ]
            ],
            "type": "heatmap"
           }
          ],
          "heatmapgl": [
           {
            "colorbar": {
             "outlinewidth": 0,
             "ticks": ""
            },
            "colorscale": [
             [
              0,
              "#0d0887"
             ],
             [
              0.1111111111111111,
              "#46039f"
             ],
             [
              0.2222222222222222,
              "#7201a8"
             ],
             [
              0.3333333333333333,
              "#9c179e"
             ],
             [
              0.4444444444444444,
              "#bd3786"
             ],
             [
              0.5555555555555556,
              "#d8576b"
             ],
             [
              0.6666666666666666,
              "#ed7953"
             ],
             [
              0.7777777777777778,
              "#fb9f3a"
             ],
             [
              0.8888888888888888,
              "#fdca26"
             ],
             [
              1,
              "#f0f921"
             ]
            ],
            "type": "heatmapgl"
           }
          ],
          "histogram": [
           {
            "marker": {
             "colorbar": {
              "outlinewidth": 0,
              "ticks": ""
             }
            },
            "type": "histogram"
           }
          ],
          "histogram2d": [
           {
            "colorbar": {
             "outlinewidth": 0,
             "ticks": ""
            },
            "colorscale": [
             [
              0,
              "#0d0887"
             ],
             [
              0.1111111111111111,
              "#46039f"
             ],
             [
              0.2222222222222222,
              "#7201a8"
             ],
             [
              0.3333333333333333,
              "#9c179e"
             ],
             [
              0.4444444444444444,
              "#bd3786"
             ],
             [
              0.5555555555555556,
              "#d8576b"
             ],
             [
              0.6666666666666666,
              "#ed7953"
             ],
             [
              0.7777777777777778,
              "#fb9f3a"
             ],
             [
              0.8888888888888888,
              "#fdca26"
             ],
             [
              1,
              "#f0f921"
             ]
            ],
            "type": "histogram2d"
           }
          ],
          "histogram2dcontour": [
           {
            "colorbar": {
             "outlinewidth": 0,
             "ticks": ""
            },
            "colorscale": [
             [
              0,
              "#0d0887"
             ],
             [
              0.1111111111111111,
              "#46039f"
             ],
             [
              0.2222222222222222,
              "#7201a8"
             ],
             [
              0.3333333333333333,
              "#9c179e"
             ],
             [
              0.4444444444444444,
              "#bd3786"
             ],
             [
              0.5555555555555556,
              "#d8576b"
             ],
             [
              0.6666666666666666,
              "#ed7953"
             ],
             [
              0.7777777777777778,
              "#fb9f3a"
             ],
             [
              0.8888888888888888,
              "#fdca26"
             ],
             [
              1,
              "#f0f921"
             ]
            ],
            "type": "histogram2dcontour"
           }
          ],
          "mesh3d": [
           {
            "colorbar": {
             "outlinewidth": 0,
             "ticks": ""
            },
            "type": "mesh3d"
           }
          ],
          "parcoords": [
           {
            "line": {
             "colorbar": {
              "outlinewidth": 0,
              "ticks": ""
             }
            },
            "type": "parcoords"
           }
          ],
          "pie": [
           {
            "automargin": true,
            "type": "pie"
           }
          ],
          "scatter": [
           {
            "marker": {
             "colorbar": {
              "outlinewidth": 0,
              "ticks": ""
             }
            },
            "type": "scatter"
           }
          ],
          "scatter3d": [
           {
            "line": {
             "colorbar": {
              "outlinewidth": 0,
              "ticks": ""
             }
            },
            "marker": {
             "colorbar": {
              "outlinewidth": 0,
              "ticks": ""
             }
            },
            "type": "scatter3d"
           }
          ],
          "scattercarpet": [
           {
            "marker": {
             "colorbar": {
              "outlinewidth": 0,
              "ticks": ""
             }
            },
            "type": "scattercarpet"
           }
          ],
          "scattergeo": [
           {
            "marker": {
             "colorbar": {
              "outlinewidth": 0,
              "ticks": ""
             }
            },
            "type": "scattergeo"
           }
          ],
          "scattergl": [
           {
            "marker": {
             "colorbar": {
              "outlinewidth": 0,
              "ticks": ""
             }
            },
            "type": "scattergl"
           }
          ],
          "scattermapbox": [
           {
            "marker": {
             "colorbar": {
              "outlinewidth": 0,
              "ticks": ""
             }
            },
            "type": "scattermapbox"
           }
          ],
          "scatterpolar": [
           {
            "marker": {
             "colorbar": {
              "outlinewidth": 0,
              "ticks": ""
             }
            },
            "type": "scatterpolar"
           }
          ],
          "scatterpolargl": [
           {
            "marker": {
             "colorbar": {
              "outlinewidth": 0,
              "ticks": ""
             }
            },
            "type": "scatterpolargl"
           }
          ],
          "scatterternary": [
           {
            "marker": {
             "colorbar": {
              "outlinewidth": 0,
              "ticks": ""
             }
            },
            "type": "scatterternary"
           }
          ],
          "surface": [
           {
            "colorbar": {
             "outlinewidth": 0,
             "ticks": ""
            },
            "colorscale": [
             [
              0,
              "#0d0887"
             ],
             [
              0.1111111111111111,
              "#46039f"
             ],
             [
              0.2222222222222222,
              "#7201a8"
             ],
             [
              0.3333333333333333,
              "#9c179e"
             ],
             [
              0.4444444444444444,
              "#bd3786"
             ],
             [
              0.5555555555555556,
              "#d8576b"
             ],
             [
              0.6666666666666666,
              "#ed7953"
             ],
             [
              0.7777777777777778,
              "#fb9f3a"
             ],
             [
              0.8888888888888888,
              "#fdca26"
             ],
             [
              1,
              "#f0f921"
             ]
            ],
            "type": "surface"
           }
          ],
          "table": [
           {
            "cells": {
             "fill": {
              "color": "#EBF0F8"
             },
             "line": {
              "color": "white"
             }
            },
            "header": {
             "fill": {
              "color": "#C8D4E3"
             },
             "line": {
              "color": "white"
             }
            },
            "type": "table"
           }
          ]
         },
         "layout": {
          "annotationdefaults": {
           "arrowcolor": "#2a3f5f",
           "arrowhead": 0,
           "arrowwidth": 1
          },
          "coloraxis": {
           "colorbar": {
            "outlinewidth": 0,
            "ticks": ""
           }
          },
          "colorscale": {
           "diverging": [
            [
             0,
             "#8e0152"
            ],
            [
             0.1,
             "#c51b7d"
            ],
            [
             0.2,
             "#de77ae"
            ],
            [
             0.3,
             "#f1b6da"
            ],
            [
             0.4,
             "#fde0ef"
            ],
            [
             0.5,
             "#f7f7f7"
            ],
            [
             0.6,
             "#e6f5d0"
            ],
            [
             0.7,
             "#b8e186"
            ],
            [
             0.8,
             "#7fbc41"
            ],
            [
             0.9,
             "#4d9221"
            ],
            [
             1,
             "#276419"
            ]
           ],
           "sequential": [
            [
             0,
             "#0d0887"
            ],
            [
             0.1111111111111111,
             "#46039f"
            ],
            [
             0.2222222222222222,
             "#7201a8"
            ],
            [
             0.3333333333333333,
             "#9c179e"
            ],
            [
             0.4444444444444444,
             "#bd3786"
            ],
            [
             0.5555555555555556,
             "#d8576b"
            ],
            [
             0.6666666666666666,
             "#ed7953"
            ],
            [
             0.7777777777777778,
             "#fb9f3a"
            ],
            [
             0.8888888888888888,
             "#fdca26"
            ],
            [
             1,
             "#f0f921"
            ]
           ],
           "sequentialminus": [
            [
             0,
             "#0d0887"
            ],
            [
             0.1111111111111111,
             "#46039f"
            ],
            [
             0.2222222222222222,
             "#7201a8"
            ],
            [
             0.3333333333333333,
             "#9c179e"
            ],
            [
             0.4444444444444444,
             "#bd3786"
            ],
            [
             0.5555555555555556,
             "#d8576b"
            ],
            [
             0.6666666666666666,
             "#ed7953"
            ],
            [
             0.7777777777777778,
             "#fb9f3a"
            ],
            [
             0.8888888888888888,
             "#fdca26"
            ],
            [
             1,
             "#f0f921"
            ]
           ]
          },
          "colorway": [
           "#636efa",
           "#EF553B",
           "#00cc96",
           "#ab63fa",
           "#FFA15A",
           "#19d3f3",
           "#FF6692",
           "#B6E880",
           "#FF97FF",
           "#FECB52"
          ],
          "font": {
           "color": "#2a3f5f"
          },
          "geo": {
           "bgcolor": "white",
           "lakecolor": "white",
           "landcolor": "#E5ECF6",
           "showlakes": true,
           "showland": true,
           "subunitcolor": "white"
          },
          "hoverlabel": {
           "align": "left"
          },
          "hovermode": "closest",
          "mapbox": {
           "style": "light"
          },
          "paper_bgcolor": "white",
          "plot_bgcolor": "#E5ECF6",
          "polar": {
           "angularaxis": {
            "gridcolor": "white",
            "linecolor": "white",
            "ticks": ""
           },
           "bgcolor": "#E5ECF6",
           "radialaxis": {
            "gridcolor": "white",
            "linecolor": "white",
            "ticks": ""
           }
          },
          "scene": {
           "xaxis": {
            "backgroundcolor": "#E5ECF6",
            "gridcolor": "white",
            "gridwidth": 2,
            "linecolor": "white",
            "showbackground": true,
            "ticks": "",
            "zerolinecolor": "white"
           },
           "yaxis": {
            "backgroundcolor": "#E5ECF6",
            "gridcolor": "white",
            "gridwidth": 2,
            "linecolor": "white",
            "showbackground": true,
            "ticks": "",
            "zerolinecolor": "white"
           },
           "zaxis": {
            "backgroundcolor": "#E5ECF6",
            "gridcolor": "white",
            "gridwidth": 2,
            "linecolor": "white",
            "showbackground": true,
            "ticks": "",
            "zerolinecolor": "white"
           }
          },
          "shapedefaults": {
           "line": {
            "color": "#2a3f5f"
           }
          },
          "ternary": {
           "aaxis": {
            "gridcolor": "white",
            "linecolor": "white",
            "ticks": ""
           },
           "baxis": {
            "gridcolor": "white",
            "linecolor": "white",
            "ticks": ""
           },
           "bgcolor": "#E5ECF6",
           "caxis": {
            "gridcolor": "white",
            "linecolor": "white",
            "ticks": ""
           }
          },
          "title": {
           "x": 0.05
          },
          "xaxis": {
           "automargin": true,
           "gridcolor": "white",
           "linecolor": "white",
           "ticks": "",
           "title": {
            "standoff": 15
           },
           "zerolinecolor": "white",
           "zerolinewidth": 2
          },
          "yaxis": {
           "automargin": true,
           "gridcolor": "white",
           "linecolor": "white",
           "ticks": "",
           "title": {
            "standoff": 15
           },
           "zerolinecolor": "white",
           "zerolinewidth": 2
          }
         }
        },
        "title": {
         "text": "Most influential creators"
        },
        "width": 900,
        "xaxis": {
         "anchor": "x",
         "rangemode": "tozero",
         "title": {
          "text": "Number of times video made by creator got trending"
         }
        },
        "yaxis": {
         "anchor": "x",
         "rangemode": "tozero",
         "tickfont": {
          "size": 10
         },
         "ticklen": 1
        }
       }
      },
      "text/html": [
       "<div>\n",
       "        \n",
       "        \n",
       "            <div id=\"78e9f84f-d908-4f3a-9d28-eb3eb3878737\" class=\"plotly-graph-div\" style=\"height:600px; width:900px;\"></div>\n",
       "            <script type=\"text/javascript\">\n",
       "                require([\"plotly\"], function(Plotly) {\n",
       "                    window.PLOTLYENV=window.PLOTLYENV || {};\n",
       "                    \n",
       "                if (document.getElementById(\"78e9f84f-d908-4f3a-9d28-eb3eb3878737\")) {\n",
       "                    Plotly.newPlot(\n",
       "                        '78e9f84f-d908-4f3a-9d28-eb3eb3878737',\n",
       "                        [{\"marker\": {\"color\": \"rgba(55, 128, 191, 0.7)\", \"line\": {\"color\": \"rgba(55, 128, 191, 1.0)\", \"width\": 2}}, \"name\": \"Top creators\", \"orientation\": \"h\", \"type\": \"bar\", \"x\": [193, 196, 197, 198, 212, 213, 215, 220, 221, 223, 231, 234, 238, 238, 243, 244, 253, 270, 282, 284], \"y\": [\"zeetvtelugu\", \"SunTV Tamil\", \"Speed Records\", \"zeetv\", \"V6 News Telugu\", \"Study IQ education\", \"Technical Guruji\", \"Mazhavil Manorama\", \"T-Series\", \"Tarang TV\", \"Vijay Television\", \"ETV Jabardasth\", \"SET India\", \"mallemalatv\", \"RadaanMedia\", \"SAB TV\", \"ETV Plus India\", \"Flowers Comedy\", \"etvteluguindia\", \"VikatanTV\"]}],\n",
       "                        {\"height\": 600, \"legend\": {\"x\": 0.6, \"y\": 0.07}, \"margin\": {\"b\": 80, \"l\": 180, \"pad\": 10, \"r\": 50, \"t\": 80}, \"paper_bgcolor\": \"rgb(244, 238, 225)\", \"plot_bgcolor\": \"rgb(244, 238, 225)\", \"template\": {\"data\": {\"bar\": [{\"error_x\": {\"color\": \"#2a3f5f\"}, \"error_y\": {\"color\": \"#2a3f5f\"}, \"marker\": {\"line\": {\"color\": \"#E5ECF6\", \"width\": 0.5}}, \"type\": \"bar\"}], \"barpolar\": [{\"marker\": {\"line\": {\"color\": \"#E5ECF6\", \"width\": 0.5}}, \"type\": \"barpolar\"}], \"carpet\": [{\"aaxis\": {\"endlinecolor\": \"#2a3f5f\", \"gridcolor\": \"white\", \"linecolor\": \"white\", \"minorgridcolor\": \"white\", \"startlinecolor\": \"#2a3f5f\"}, \"baxis\": {\"endlinecolor\": \"#2a3f5f\", \"gridcolor\": \"white\", \"linecolor\": \"white\", \"minorgridcolor\": \"white\", \"startlinecolor\": \"#2a3f5f\"}, \"type\": \"carpet\"}], \"choropleth\": [{\"colorbar\": {\"outlinewidth\": 0, \"ticks\": \"\"}, \"type\": \"choropleth\"}], \"contour\": [{\"colorbar\": {\"outlinewidth\": 0, \"ticks\": \"\"}, \"colorscale\": [[0.0, \"#0d0887\"], [0.1111111111111111, \"#46039f\"], [0.2222222222222222, \"#7201a8\"], [0.3333333333333333, \"#9c179e\"], [0.4444444444444444, \"#bd3786\"], [0.5555555555555556, \"#d8576b\"], [0.6666666666666666, \"#ed7953\"], [0.7777777777777778, \"#fb9f3a\"], [0.8888888888888888, \"#fdca26\"], [1.0, \"#f0f921\"]], \"type\": \"contour\"}], \"contourcarpet\": [{\"colorbar\": {\"outlinewidth\": 0, \"ticks\": \"\"}, \"type\": \"contourcarpet\"}], \"heatmap\": [{\"colorbar\": {\"outlinewidth\": 0, \"ticks\": \"\"}, \"colorscale\": [[0.0, \"#0d0887\"], [0.1111111111111111, \"#46039f\"], [0.2222222222222222, \"#7201a8\"], [0.3333333333333333, \"#9c179e\"], [0.4444444444444444, \"#bd3786\"], [0.5555555555555556, \"#d8576b\"], [0.6666666666666666, \"#ed7953\"], [0.7777777777777778, \"#fb9f3a\"], [0.8888888888888888, \"#fdca26\"], [1.0, \"#f0f921\"]], \"type\": \"heatmap\"}], \"heatmapgl\": [{\"colorbar\": {\"outlinewidth\": 0, \"ticks\": \"\"}, \"colorscale\": [[0.0, \"#0d0887\"], [0.1111111111111111, \"#46039f\"], [0.2222222222222222, \"#7201a8\"], [0.3333333333333333, \"#9c179e\"], [0.4444444444444444, \"#bd3786\"], [0.5555555555555556, \"#d8576b\"], [0.6666666666666666, \"#ed7953\"], [0.7777777777777778, \"#fb9f3a\"], [0.8888888888888888, \"#fdca26\"], [1.0, \"#f0f921\"]], \"type\": \"heatmapgl\"}], \"histogram\": [{\"marker\": {\"colorbar\": {\"outlinewidth\": 0, \"ticks\": \"\"}}, \"type\": \"histogram\"}], \"histogram2d\": [{\"colorbar\": {\"outlinewidth\": 0, \"ticks\": \"\"}, \"colorscale\": [[0.0, \"#0d0887\"], [0.1111111111111111, \"#46039f\"], [0.2222222222222222, \"#7201a8\"], [0.3333333333333333, \"#9c179e\"], [0.4444444444444444, \"#bd3786\"], [0.5555555555555556, \"#d8576b\"], [0.6666666666666666, \"#ed7953\"], [0.7777777777777778, \"#fb9f3a\"], [0.8888888888888888, \"#fdca26\"], [1.0, \"#f0f921\"]], \"type\": \"histogram2d\"}], \"histogram2dcontour\": [{\"colorbar\": {\"outlinewidth\": 0, \"ticks\": \"\"}, \"colorscale\": [[0.0, \"#0d0887\"], [0.1111111111111111, \"#46039f\"], [0.2222222222222222, \"#7201a8\"], [0.3333333333333333, \"#9c179e\"], [0.4444444444444444, \"#bd3786\"], [0.5555555555555556, \"#d8576b\"], [0.6666666666666666, \"#ed7953\"], [0.7777777777777778, \"#fb9f3a\"], [0.8888888888888888, \"#fdca26\"], [1.0, \"#f0f921\"]], \"type\": \"histogram2dcontour\"}], \"mesh3d\": [{\"colorbar\": {\"outlinewidth\": 0, \"ticks\": \"\"}, \"type\": \"mesh3d\"}], \"parcoords\": [{\"line\": {\"colorbar\": {\"outlinewidth\": 0, \"ticks\": \"\"}}, \"type\": \"parcoords\"}], \"pie\": [{\"automargin\": true, \"type\": \"pie\"}], \"scatter\": [{\"marker\": {\"colorbar\": {\"outlinewidth\": 0, \"ticks\": \"\"}}, \"type\": \"scatter\"}], \"scatter3d\": [{\"line\": {\"colorbar\": {\"outlinewidth\": 0, \"ticks\": \"\"}}, \"marker\": {\"colorbar\": {\"outlinewidth\": 0, \"ticks\": \"\"}}, \"type\": \"scatter3d\"}], \"scattercarpet\": [{\"marker\": {\"colorbar\": {\"outlinewidth\": 0, \"ticks\": \"\"}}, \"type\": \"scattercarpet\"}], \"scattergeo\": [{\"marker\": {\"colorbar\": {\"outlinewidth\": 0, \"ticks\": \"\"}}, \"type\": \"scattergeo\"}], \"scattergl\": [{\"marker\": {\"colorbar\": {\"outlinewidth\": 0, \"ticks\": \"\"}}, \"type\": \"scattergl\"}], \"scattermapbox\": [{\"marker\": {\"colorbar\": {\"outlinewidth\": 0, \"ticks\": \"\"}}, \"type\": \"scattermapbox\"}], \"scatterpolar\": [{\"marker\": {\"colorbar\": {\"outlinewidth\": 0, \"ticks\": \"\"}}, \"type\": \"scatterpolar\"}], \"scatterpolargl\": [{\"marker\": {\"colorbar\": {\"outlinewidth\": 0, \"ticks\": \"\"}}, \"type\": \"scatterpolargl\"}], \"scatterternary\": [{\"marker\": {\"colorbar\": {\"outlinewidth\": 0, \"ticks\": \"\"}}, \"type\": \"scatterternary\"}], \"surface\": [{\"colorbar\": {\"outlinewidth\": 0, \"ticks\": \"\"}, \"colorscale\": [[0.0, \"#0d0887\"], [0.1111111111111111, \"#46039f\"], [0.2222222222222222, \"#7201a8\"], [0.3333333333333333, \"#9c179e\"], [0.4444444444444444, \"#bd3786\"], [0.5555555555555556, \"#d8576b\"], [0.6666666666666666, \"#ed7953\"], [0.7777777777777778, \"#fb9f3a\"], [0.8888888888888888, \"#fdca26\"], [1.0, \"#f0f921\"]], \"type\": \"surface\"}], \"table\": [{\"cells\": {\"fill\": {\"color\": \"#EBF0F8\"}, \"line\": {\"color\": \"white\"}}, \"header\": {\"fill\": {\"color\": \"#C8D4E3\"}, \"line\": {\"color\": \"white\"}}, \"type\": \"table\"}]}, \"layout\": {\"annotationdefaults\": {\"arrowcolor\": \"#2a3f5f\", \"arrowhead\": 0, \"arrowwidth\": 1}, \"coloraxis\": {\"colorbar\": {\"outlinewidth\": 0, \"ticks\": \"\"}}, \"colorscale\": {\"diverging\": [[0, \"#8e0152\"], [0.1, \"#c51b7d\"], [0.2, \"#de77ae\"], [0.3, \"#f1b6da\"], [0.4, \"#fde0ef\"], [0.5, \"#f7f7f7\"], [0.6, \"#e6f5d0\"], [0.7, \"#b8e186\"], [0.8, \"#7fbc41\"], [0.9, \"#4d9221\"], [1, \"#276419\"]], \"sequential\": [[0.0, \"#0d0887\"], [0.1111111111111111, \"#46039f\"], [0.2222222222222222, \"#7201a8\"], [0.3333333333333333, \"#9c179e\"], [0.4444444444444444, \"#bd3786\"], [0.5555555555555556, \"#d8576b\"], [0.6666666666666666, \"#ed7953\"], [0.7777777777777778, \"#fb9f3a\"], [0.8888888888888888, \"#fdca26\"], [1.0, \"#f0f921\"]], \"sequentialminus\": [[0.0, \"#0d0887\"], [0.1111111111111111, \"#46039f\"], [0.2222222222222222, \"#7201a8\"], [0.3333333333333333, \"#9c179e\"], [0.4444444444444444, \"#bd3786\"], [0.5555555555555556, \"#d8576b\"], [0.6666666666666666, \"#ed7953\"], [0.7777777777777778, \"#fb9f3a\"], [0.8888888888888888, \"#fdca26\"], [1.0, \"#f0f921\"]]}, \"colorway\": [\"#636efa\", \"#EF553B\", \"#00cc96\", \"#ab63fa\", \"#FFA15A\", \"#19d3f3\", \"#FF6692\", \"#B6E880\", \"#FF97FF\", \"#FECB52\"], \"font\": {\"color\": \"#2a3f5f\"}, \"geo\": {\"bgcolor\": \"white\", \"lakecolor\": \"white\", \"landcolor\": \"#E5ECF6\", \"showlakes\": true, \"showland\": true, \"subunitcolor\": \"white\"}, \"hoverlabel\": {\"align\": \"left\"}, \"hovermode\": \"closest\", \"mapbox\": {\"style\": \"light\"}, \"paper_bgcolor\": \"white\", \"plot_bgcolor\": \"#E5ECF6\", \"polar\": {\"angularaxis\": {\"gridcolor\": \"white\", \"linecolor\": \"white\", \"ticks\": \"\"}, \"bgcolor\": \"#E5ECF6\", \"radialaxis\": {\"gridcolor\": \"white\", \"linecolor\": \"white\", \"ticks\": \"\"}}, \"scene\": {\"xaxis\": {\"backgroundcolor\": \"#E5ECF6\", \"gridcolor\": \"white\", \"gridwidth\": 2, \"linecolor\": \"white\", \"showbackground\": true, \"ticks\": \"\", \"zerolinecolor\": \"white\"}, \"yaxis\": {\"backgroundcolor\": \"#E5ECF6\", \"gridcolor\": \"white\", \"gridwidth\": 2, \"linecolor\": \"white\", \"showbackground\": true, \"ticks\": \"\", \"zerolinecolor\": \"white\"}, \"zaxis\": {\"backgroundcolor\": \"#E5ECF6\", \"gridcolor\": \"white\", \"gridwidth\": 2, \"linecolor\": \"white\", \"showbackground\": true, \"ticks\": \"\", \"zerolinecolor\": \"white\"}}, \"shapedefaults\": {\"line\": {\"color\": \"#2a3f5f\"}}, \"ternary\": {\"aaxis\": {\"gridcolor\": \"white\", \"linecolor\": \"white\", \"ticks\": \"\"}, \"baxis\": {\"gridcolor\": \"white\", \"linecolor\": \"white\", \"ticks\": \"\"}, \"bgcolor\": \"#E5ECF6\", \"caxis\": {\"gridcolor\": \"white\", \"linecolor\": \"white\", \"ticks\": \"\"}}, \"title\": {\"x\": 0.05}, \"xaxis\": {\"automargin\": true, \"gridcolor\": \"white\", \"linecolor\": \"white\", \"ticks\": \"\", \"title\": {\"standoff\": 15}, \"zerolinecolor\": \"white\", \"zerolinewidth\": 2}, \"yaxis\": {\"automargin\": true, \"gridcolor\": \"white\", \"linecolor\": \"white\", \"ticks\": \"\", \"title\": {\"standoff\": 15}, \"zerolinecolor\": \"white\", \"zerolinewidth\": 2}}}, \"title\": {\"text\": \"Most influential creators\"}, \"width\": 900, \"xaxis\": {\"anchor\": \"x\", \"rangemode\": \"tozero\", \"title\": {\"text\": \"Number of times video made by creator got trending\"}}, \"yaxis\": {\"anchor\": \"x\", \"rangemode\": \"tozero\", \"tickfont\": {\"size\": 10}, \"ticklen\": 1}},\n",
       "                        {\"responsive\": true}\n",
       "                    ).then(function(){\n",
       "                            \n",
       "var gd = document.getElementById('78e9f84f-d908-4f3a-9d28-eb3eb3878737');\n",
       "var x = new MutationObserver(function (mutations, observer) {{\n",
       "        var display = window.getComputedStyle(gd).display;\n",
       "        if (!display || display === 'none') {{\n",
       "            console.log([gd, 'removed!']);\n",
       "            Plotly.purge(gd);\n",
       "            observer.disconnect();\n",
       "        }}\n",
       "}});\n",
       "\n",
       "// Listen for the removal of the full notebook cells\n",
       "var notebookContainer = gd.closest('#notebook-container');\n",
       "if (notebookContainer) {{\n",
       "    x.observe(notebookContainer, {childList: true});\n",
       "}}\n",
       "\n",
       "// Listen for the clearing of the current output cell\n",
       "var outputEl = gd.closest('.output');\n",
       "if (outputEl) {{\n",
       "    x.observe(outputEl, {childList: true});\n",
       "}}\n",
       "\n",
       "                        })\n",
       "                };\n",
       "                });\n",
       "            </script>\n",
       "        </div>"
      ]
     },
     "metadata": {},
     "output_type": "display_data"
    }
   ],
   "source": [
    "max_title_length = 20\n",
    "number_of_creators = 20\n",
    "\n",
    "top_creators = in_videos.groupby(['channel_title'])['channel_title'].agg(\n",
    "    {\"code_count\": len}).sort_values(\n",
    "    \"code_count\", ascending=False\n",
    ").head(number_of_creators).reset_index()\n",
    "\n",
    "trace1 = go.Bar(\n",
    "    y = [(x if len(x) <= max_title_length else x[:max_title_length] + \"...\") for x in top_creators.channel_title.values][::-1],\n",
    "    x = top_creators['code_count'].tolist()[::-1],\n",
    "    name = \"Top creators\",\n",
    "    orientation = 'h',\n",
    "    marker=dict(\n",
    "        color='rgba(55, 128, 191, 0.7)',\n",
    "        line=dict(\n",
    "            color='rgba(55, 128, 191, 1.0)',\n",
    "            width=2,\n",
    "        )\n",
    "    ),\n",
    ")\n",
    "\n",
    "data = [trace1]\n",
    "\n",
    "layout = go.Layout(\n",
    "    title = 'Most influential creators',\n",
    "    width=900,\n",
    "    height=600,\n",
    "    margin=go.Margin(\n",
    "        l=180,\n",
    "        r=50,\n",
    "        b=80,\n",
    "        t=80,\n",
    "        pad=10\n",
    "    ),\n",
    "    paper_bgcolor='rgb(244, 238, 225)',\n",
    "    plot_bgcolor='rgb(244, 238, 225)',\n",
    "    yaxis = dict(\n",
    "        anchor = 'x',\n",
    "        rangemode='tozero',\n",
    "        tickfont=dict(\n",
    "            size=10\n",
    "        ),\n",
    "        ticklen=1\n",
    "    ), \n",
    "    xaxis = dict(\n",
    "        title= 'Number of times video made by creator got trending',\n",
    "        anchor = 'x',\n",
    "        rangemode='tozero'\n",
    "    ), \n",
    "    legend=dict(x=0.6, y=0.07)\n",
    ")\n",
    "\n",
    "fig = go.Figure(data=data, layout=layout)\n",
    "py.iplot(fig)"
   ]
  },
  {
   "cell_type": "markdown",
   "metadata": {},
   "source": [
    "- In the above graph, we have displayed **20 most** influential creators in accordance of number of trending videos created by them.\n",
    "\n",
    "- We can see that Vikatan Tv is at the **top** of the list with **284** trending videos.\n",
    "\n",
    "- Etv Telugu India stands at **2nd position** as a good competitor with **282** trending videos.\n",
    "\n",
    "- at last their is  zee tv telugu with **lowest number** of trending videos which is **193** videos."
   ]
  },
  {
   "cell_type": "markdown",
   "metadata": {},
   "source": [
    " [Back](#2.7)"
   ]
  },
  {
   "cell_type": "markdown",
   "metadata": {
    "_cell_guid": "12e14dcd-ced2-4d41-80a8-c276fa902470",
    "_uuid": "df5753a9f04cc72c44a11a232ca20b9dc200625b"
   },
   "source": [
    "## 2.8. Variety of topics\n",
    "<a id=\"variety_of_topics\"></a>"
   ]
  },
  {
   "cell_type": "code",
   "execution_count": 39,
   "metadata": {
    "_cell_guid": "c4e05960-0ef4-4e6c-b876-13832abb63a3",
    "_kg_hide-input": true,
    "_uuid": "9a5ad5737044317cf96d482ef3aae2971dd37221"
   },
   "outputs": [
    {
     "name": "stderr",
     "output_type": "stream",
     "text": [
      "E:\\setups\\WINDOWS\\winpy\\WPy64-3760\\python-3.7.6.amd64\\lib\\site-packages\\ipykernel_launcher.py:5: FutureWarning:\n",
      "\n",
      "using a dict on a Series for aggregation\n",
      "is deprecated and will be removed in a future version. Use                 named aggregation instead.\n",
      "\n",
      "    >>> grouper.agg(name_1=func_1, name_2=func_2)\n",
      "\n",
      "\n"
     ]
    },
    {
     "data": {
      "application/vnd.plotly.v1+json": {
       "config": {
        "linkText": "Export to plot.ly",
        "plotlyServerURL": "https://plot.ly",
        "showLink": false
       },
       "data": [
        {
         "marker": {
          "color": "rgba(55, 128, 191, 0.7)",
          "line": {
           "color": "rgba(55, 128, 191, 1.0)",
           "width": 2
          }
         },
         "name": "Top categories",
         "orientation": "h",
         "type": "bar",
         "x": [
          105,
          205,
          552,
          731,
          845,
          1227,
          1658,
          2624,
          3429,
          3858,
          5240,
          16712
         ],
         "y": [
          "Nonprofits & Activism",
          "Shows",
          "Science & Technology",
          "Sports",
          "Howto & Style",
          "Education",
          "Film & Animation",
          "People & Blogs",
          "Comedy",
          "Music",
          "News & Politics",
          "Entertainment"
         ]
        }
       ],
       "layout": {
        "height": 600,
        "legend": {
         "x": 0.6,
         "y": 0.07
        },
        "margin": {
         "b": 80,
         "l": 180,
         "pad": 10,
         "r": 50,
         "t": 80
        },
        "paper_bgcolor": "rgb(244, 238, 225)",
        "plot_bgcolor": "rgb(244, 238, 225)",
        "template": {
         "data": {
          "bar": [
           {
            "error_x": {
             "color": "#2a3f5f"
            },
            "error_y": {
             "color": "#2a3f5f"
            },
            "marker": {
             "line": {
              "color": "#E5ECF6",
              "width": 0.5
             }
            },
            "type": "bar"
           }
          ],
          "barpolar": [
           {
            "marker": {
             "line": {
              "color": "#E5ECF6",
              "width": 0.5
             }
            },
            "type": "barpolar"
           }
          ],
          "carpet": [
           {
            "aaxis": {
             "endlinecolor": "#2a3f5f",
             "gridcolor": "white",
             "linecolor": "white",
             "minorgridcolor": "white",
             "startlinecolor": "#2a3f5f"
            },
            "baxis": {
             "endlinecolor": "#2a3f5f",
             "gridcolor": "white",
             "linecolor": "white",
             "minorgridcolor": "white",
             "startlinecolor": "#2a3f5f"
            },
            "type": "carpet"
           }
          ],
          "choropleth": [
           {
            "colorbar": {
             "outlinewidth": 0,
             "ticks": ""
            },
            "type": "choropleth"
           }
          ],
          "contour": [
           {
            "colorbar": {
             "outlinewidth": 0,
             "ticks": ""
            },
            "colorscale": [
             [
              0,
              "#0d0887"
             ],
             [
              0.1111111111111111,
              "#46039f"
             ],
             [
              0.2222222222222222,
              "#7201a8"
             ],
             [
              0.3333333333333333,
              "#9c179e"
             ],
             [
              0.4444444444444444,
              "#bd3786"
             ],
             [
              0.5555555555555556,
              "#d8576b"
             ],
             [
              0.6666666666666666,
              "#ed7953"
             ],
             [
              0.7777777777777778,
              "#fb9f3a"
             ],
             [
              0.8888888888888888,
              "#fdca26"
             ],
             [
              1,
              "#f0f921"
             ]
            ],
            "type": "contour"
           }
          ],
          "contourcarpet": [
           {
            "colorbar": {
             "outlinewidth": 0,
             "ticks": ""
            },
            "type": "contourcarpet"
           }
          ],
          "heatmap": [
           {
            "colorbar": {
             "outlinewidth": 0,
             "ticks": ""
            },
            "colorscale": [
             [
              0,
              "#0d0887"
             ],
             [
              0.1111111111111111,
              "#46039f"
             ],
             [
              0.2222222222222222,
              "#7201a8"
             ],
             [
              0.3333333333333333,
              "#9c179e"
             ],
             [
              0.4444444444444444,
              "#bd3786"
             ],
             [
              0.5555555555555556,
              "#d8576b"
             ],
             [
              0.6666666666666666,
              "#ed7953"
             ],
             [
              0.7777777777777778,
              "#fb9f3a"
             ],
             [
              0.8888888888888888,
              "#fdca26"
             ],
             [
              1,
              "#f0f921"
             ]
            ],
            "type": "heatmap"
           }
          ],
          "heatmapgl": [
           {
            "colorbar": {
             "outlinewidth": 0,
             "ticks": ""
            },
            "colorscale": [
             [
              0,
              "#0d0887"
             ],
             [
              0.1111111111111111,
              "#46039f"
             ],
             [
              0.2222222222222222,
              "#7201a8"
             ],
             [
              0.3333333333333333,
              "#9c179e"
             ],
             [
              0.4444444444444444,
              "#bd3786"
             ],
             [
              0.5555555555555556,
              "#d8576b"
             ],
             [
              0.6666666666666666,
              "#ed7953"
             ],
             [
              0.7777777777777778,
              "#fb9f3a"
             ],
             [
              0.8888888888888888,
              "#fdca26"
             ],
             [
              1,
              "#f0f921"
             ]
            ],
            "type": "heatmapgl"
           }
          ],
          "histogram": [
           {
            "marker": {
             "colorbar": {
              "outlinewidth": 0,
              "ticks": ""
             }
            },
            "type": "histogram"
           }
          ],
          "histogram2d": [
           {
            "colorbar": {
             "outlinewidth": 0,
             "ticks": ""
            },
            "colorscale": [
             [
              0,
              "#0d0887"
             ],
             [
              0.1111111111111111,
              "#46039f"
             ],
             [
              0.2222222222222222,
              "#7201a8"
             ],
             [
              0.3333333333333333,
              "#9c179e"
             ],
             [
              0.4444444444444444,
              "#bd3786"
             ],
             [
              0.5555555555555556,
              "#d8576b"
             ],
             [
              0.6666666666666666,
              "#ed7953"
             ],
             [
              0.7777777777777778,
              "#fb9f3a"
             ],
             [
              0.8888888888888888,
              "#fdca26"
             ],
             [
              1,
              "#f0f921"
             ]
            ],
            "type": "histogram2d"
           }
          ],
          "histogram2dcontour": [
           {
            "colorbar": {
             "outlinewidth": 0,
             "ticks": ""
            },
            "colorscale": [
             [
              0,
              "#0d0887"
             ],
             [
              0.1111111111111111,
              "#46039f"
             ],
             [
              0.2222222222222222,
              "#7201a8"
             ],
             [
              0.3333333333333333,
              "#9c179e"
             ],
             [
              0.4444444444444444,
              "#bd3786"
             ],
             [
              0.5555555555555556,
              "#d8576b"
             ],
             [
              0.6666666666666666,
              "#ed7953"
             ],
             [
              0.7777777777777778,
              "#fb9f3a"
             ],
             [
              0.8888888888888888,
              "#fdca26"
             ],
             [
              1,
              "#f0f921"
             ]
            ],
            "type": "histogram2dcontour"
           }
          ],
          "mesh3d": [
           {
            "colorbar": {
             "outlinewidth": 0,
             "ticks": ""
            },
            "type": "mesh3d"
           }
          ],
          "parcoords": [
           {
            "line": {
             "colorbar": {
              "outlinewidth": 0,
              "ticks": ""
             }
            },
            "type": "parcoords"
           }
          ],
          "pie": [
           {
            "automargin": true,
            "type": "pie"
           }
          ],
          "scatter": [
           {
            "marker": {
             "colorbar": {
              "outlinewidth": 0,
              "ticks": ""
             }
            },
            "type": "scatter"
           }
          ],
          "scatter3d": [
           {
            "line": {
             "colorbar": {
              "outlinewidth": 0,
              "ticks": ""
             }
            },
            "marker": {
             "colorbar": {
              "outlinewidth": 0,
              "ticks": ""
             }
            },
            "type": "scatter3d"
           }
          ],
          "scattercarpet": [
           {
            "marker": {
             "colorbar": {
              "outlinewidth": 0,
              "ticks": ""
             }
            },
            "type": "scattercarpet"
           }
          ],
          "scattergeo": [
           {
            "marker": {
             "colorbar": {
              "outlinewidth": 0,
              "ticks": ""
             }
            },
            "type": "scattergeo"
           }
          ],
          "scattergl": [
           {
            "marker": {
             "colorbar": {
              "outlinewidth": 0,
              "ticks": ""
             }
            },
            "type": "scattergl"
           }
          ],
          "scattermapbox": [
           {
            "marker": {
             "colorbar": {
              "outlinewidth": 0,
              "ticks": ""
             }
            },
            "type": "scattermapbox"
           }
          ],
          "scatterpolar": [
           {
            "marker": {
             "colorbar": {
              "outlinewidth": 0,
              "ticks": ""
             }
            },
            "type": "scatterpolar"
           }
          ],
          "scatterpolargl": [
           {
            "marker": {
             "colorbar": {
              "outlinewidth": 0,
              "ticks": ""
             }
            },
            "type": "scatterpolargl"
           }
          ],
          "scatterternary": [
           {
            "marker": {
             "colorbar": {
              "outlinewidth": 0,
              "ticks": ""
             }
            },
            "type": "scatterternary"
           }
          ],
          "surface": [
           {
            "colorbar": {
             "outlinewidth": 0,
             "ticks": ""
            },
            "colorscale": [
             [
              0,
              "#0d0887"
             ],
             [
              0.1111111111111111,
              "#46039f"
             ],
             [
              0.2222222222222222,
              "#7201a8"
             ],
             [
              0.3333333333333333,
              "#9c179e"
             ],
             [
              0.4444444444444444,
              "#bd3786"
             ],
             [
              0.5555555555555556,
              "#d8576b"
             ],
             [
              0.6666666666666666,
              "#ed7953"
             ],
             [
              0.7777777777777778,
              "#fb9f3a"
             ],
             [
              0.8888888888888888,
              "#fdca26"
             ],
             [
              1,
              "#f0f921"
             ]
            ],
            "type": "surface"
           }
          ],
          "table": [
           {
            "cells": {
             "fill": {
              "color": "#EBF0F8"
             },
             "line": {
              "color": "white"
             }
            },
            "header": {
             "fill": {
              "color": "#C8D4E3"
             },
             "line": {
              "color": "white"
             }
            },
            "type": "table"
           }
          ]
         },
         "layout": {
          "annotationdefaults": {
           "arrowcolor": "#2a3f5f",
           "arrowhead": 0,
           "arrowwidth": 1
          },
          "coloraxis": {
           "colorbar": {
            "outlinewidth": 0,
            "ticks": ""
           }
          },
          "colorscale": {
           "diverging": [
            [
             0,
             "#8e0152"
            ],
            [
             0.1,
             "#c51b7d"
            ],
            [
             0.2,
             "#de77ae"
            ],
            [
             0.3,
             "#f1b6da"
            ],
            [
             0.4,
             "#fde0ef"
            ],
            [
             0.5,
             "#f7f7f7"
            ],
            [
             0.6,
             "#e6f5d0"
            ],
            [
             0.7,
             "#b8e186"
            ],
            [
             0.8,
             "#7fbc41"
            ],
            [
             0.9,
             "#4d9221"
            ],
            [
             1,
             "#276419"
            ]
           ],
           "sequential": [
            [
             0,
             "#0d0887"
            ],
            [
             0.1111111111111111,
             "#46039f"
            ],
            [
             0.2222222222222222,
             "#7201a8"
            ],
            [
             0.3333333333333333,
             "#9c179e"
            ],
            [
             0.4444444444444444,
             "#bd3786"
            ],
            [
             0.5555555555555556,
             "#d8576b"
            ],
            [
             0.6666666666666666,
             "#ed7953"
            ],
            [
             0.7777777777777778,
             "#fb9f3a"
            ],
            [
             0.8888888888888888,
             "#fdca26"
            ],
            [
             1,
             "#f0f921"
            ]
           ],
           "sequentialminus": [
            [
             0,
             "#0d0887"
            ],
            [
             0.1111111111111111,
             "#46039f"
            ],
            [
             0.2222222222222222,
             "#7201a8"
            ],
            [
             0.3333333333333333,
             "#9c179e"
            ],
            [
             0.4444444444444444,
             "#bd3786"
            ],
            [
             0.5555555555555556,
             "#d8576b"
            ],
            [
             0.6666666666666666,
             "#ed7953"
            ],
            [
             0.7777777777777778,
             "#fb9f3a"
            ],
            [
             0.8888888888888888,
             "#fdca26"
            ],
            [
             1,
             "#f0f921"
            ]
           ]
          },
          "colorway": [
           "#636efa",
           "#EF553B",
           "#00cc96",
           "#ab63fa",
           "#FFA15A",
           "#19d3f3",
           "#FF6692",
           "#B6E880",
           "#FF97FF",
           "#FECB52"
          ],
          "font": {
           "color": "#2a3f5f"
          },
          "geo": {
           "bgcolor": "white",
           "lakecolor": "white",
           "landcolor": "#E5ECF6",
           "showlakes": true,
           "showland": true,
           "subunitcolor": "white"
          },
          "hoverlabel": {
           "align": "left"
          },
          "hovermode": "closest",
          "mapbox": {
           "style": "light"
          },
          "paper_bgcolor": "white",
          "plot_bgcolor": "#E5ECF6",
          "polar": {
           "angularaxis": {
            "gridcolor": "white",
            "linecolor": "white",
            "ticks": ""
           },
           "bgcolor": "#E5ECF6",
           "radialaxis": {
            "gridcolor": "white",
            "linecolor": "white",
            "ticks": ""
           }
          },
          "scene": {
           "xaxis": {
            "backgroundcolor": "#E5ECF6",
            "gridcolor": "white",
            "gridwidth": 2,
            "linecolor": "white",
            "showbackground": true,
            "ticks": "",
            "zerolinecolor": "white"
           },
           "yaxis": {
            "backgroundcolor": "#E5ECF6",
            "gridcolor": "white",
            "gridwidth": 2,
            "linecolor": "white",
            "showbackground": true,
            "ticks": "",
            "zerolinecolor": "white"
           },
           "zaxis": {
            "backgroundcolor": "#E5ECF6",
            "gridcolor": "white",
            "gridwidth": 2,
            "linecolor": "white",
            "showbackground": true,
            "ticks": "",
            "zerolinecolor": "white"
           }
          },
          "shapedefaults": {
           "line": {
            "color": "#2a3f5f"
           }
          },
          "ternary": {
           "aaxis": {
            "gridcolor": "white",
            "linecolor": "white",
            "ticks": ""
           },
           "baxis": {
            "gridcolor": "white",
            "linecolor": "white",
            "ticks": ""
           },
           "bgcolor": "#E5ECF6",
           "caxis": {
            "gridcolor": "white",
            "linecolor": "white",
            "ticks": ""
           }
          },
          "title": {
           "x": 0.05
          },
          "xaxis": {
           "automargin": true,
           "gridcolor": "white",
           "linecolor": "white",
           "ticks": "",
           "title": {
            "standoff": 15
           },
           "zerolinecolor": "white",
           "zerolinewidth": 2
          },
          "yaxis": {
           "automargin": true,
           "gridcolor": "white",
           "linecolor": "white",
           "ticks": "",
           "title": {
            "standoff": 15
           },
           "zerolinecolor": "white",
           "zerolinewidth": 2
          }
         }
        },
        "title": {
         "text": "Most popular categories"
        },
        "width": 900,
        "xaxis": {
         "anchor": "x",
         "rangemode": "tozero",
         "title": {
          "text": "The number of times the video of a given category was trending"
         }
        },
        "yaxis": {
         "anchor": "x",
         "rangemode": "tozero",
         "tickfont": {
          "size": 10
         },
         "ticklen": 1
        }
       }
      },
      "text/html": [
       "<div>\n",
       "        \n",
       "        \n",
       "            <div id=\"bbf22eb1-9e90-4995-bed2-75f29b2ec7c1\" class=\"plotly-graph-div\" style=\"height:600px; width:900px;\"></div>\n",
       "            <script type=\"text/javascript\">\n",
       "                require([\"plotly\"], function(Plotly) {\n",
       "                    window.PLOTLYENV=window.PLOTLYENV || {};\n",
       "                    \n",
       "                if (document.getElementById(\"bbf22eb1-9e90-4995-bed2-75f29b2ec7c1\")) {\n",
       "                    Plotly.newPlot(\n",
       "                        'bbf22eb1-9e90-4995-bed2-75f29b2ec7c1',\n",
       "                        [{\"marker\": {\"color\": \"rgba(55, 128, 191, 0.7)\", \"line\": {\"color\": \"rgba(55, 128, 191, 1.0)\", \"width\": 2}}, \"name\": \"Top categories\", \"orientation\": \"h\", \"type\": \"bar\", \"x\": [105, 205, 552, 731, 845, 1227, 1658, 2624, 3429, 3858, 5240, 16712], \"y\": [\"Nonprofits & Activism\", \"Shows\", \"Science & Technology\", \"Sports\", \"Howto & Style\", \"Education\", \"Film & Animation\", \"People & Blogs\", \"Comedy\", \"Music\", \"News & Politics\", \"Entertainment\"]}],\n",
       "                        {\"height\": 600, \"legend\": {\"x\": 0.6, \"y\": 0.07}, \"margin\": {\"b\": 80, \"l\": 180, \"pad\": 10, \"r\": 50, \"t\": 80}, \"paper_bgcolor\": \"rgb(244, 238, 225)\", \"plot_bgcolor\": \"rgb(244, 238, 225)\", \"template\": {\"data\": {\"bar\": [{\"error_x\": {\"color\": \"#2a3f5f\"}, \"error_y\": {\"color\": \"#2a3f5f\"}, \"marker\": {\"line\": {\"color\": \"#E5ECF6\", \"width\": 0.5}}, \"type\": \"bar\"}], \"barpolar\": [{\"marker\": {\"line\": {\"color\": \"#E5ECF6\", \"width\": 0.5}}, \"type\": \"barpolar\"}], \"carpet\": [{\"aaxis\": {\"endlinecolor\": \"#2a3f5f\", \"gridcolor\": \"white\", \"linecolor\": \"white\", \"minorgridcolor\": \"white\", \"startlinecolor\": \"#2a3f5f\"}, \"baxis\": {\"endlinecolor\": \"#2a3f5f\", \"gridcolor\": \"white\", \"linecolor\": \"white\", \"minorgridcolor\": \"white\", \"startlinecolor\": \"#2a3f5f\"}, \"type\": \"carpet\"}], \"choropleth\": [{\"colorbar\": {\"outlinewidth\": 0, \"ticks\": \"\"}, \"type\": \"choropleth\"}], \"contour\": [{\"colorbar\": {\"outlinewidth\": 0, \"ticks\": \"\"}, \"colorscale\": [[0.0, \"#0d0887\"], [0.1111111111111111, \"#46039f\"], [0.2222222222222222, \"#7201a8\"], [0.3333333333333333, \"#9c179e\"], [0.4444444444444444, \"#bd3786\"], [0.5555555555555556, \"#d8576b\"], [0.6666666666666666, \"#ed7953\"], [0.7777777777777778, \"#fb9f3a\"], [0.8888888888888888, \"#fdca26\"], [1.0, \"#f0f921\"]], \"type\": \"contour\"}], \"contourcarpet\": [{\"colorbar\": {\"outlinewidth\": 0, \"ticks\": \"\"}, \"type\": \"contourcarpet\"}], \"heatmap\": [{\"colorbar\": {\"outlinewidth\": 0, \"ticks\": \"\"}, \"colorscale\": [[0.0, \"#0d0887\"], [0.1111111111111111, \"#46039f\"], [0.2222222222222222, \"#7201a8\"], [0.3333333333333333, \"#9c179e\"], [0.4444444444444444, \"#bd3786\"], [0.5555555555555556, \"#d8576b\"], [0.6666666666666666, \"#ed7953\"], [0.7777777777777778, \"#fb9f3a\"], [0.8888888888888888, \"#fdca26\"], [1.0, \"#f0f921\"]], \"type\": \"heatmap\"}], \"heatmapgl\": [{\"colorbar\": {\"outlinewidth\": 0, \"ticks\": \"\"}, \"colorscale\": [[0.0, \"#0d0887\"], [0.1111111111111111, \"#46039f\"], [0.2222222222222222, \"#7201a8\"], [0.3333333333333333, \"#9c179e\"], [0.4444444444444444, \"#bd3786\"], [0.5555555555555556, \"#d8576b\"], [0.6666666666666666, \"#ed7953\"], [0.7777777777777778, \"#fb9f3a\"], [0.8888888888888888, \"#fdca26\"], [1.0, \"#f0f921\"]], \"type\": \"heatmapgl\"}], \"histogram\": [{\"marker\": {\"colorbar\": {\"outlinewidth\": 0, \"ticks\": \"\"}}, \"type\": \"histogram\"}], \"histogram2d\": [{\"colorbar\": {\"outlinewidth\": 0, \"ticks\": \"\"}, \"colorscale\": [[0.0, \"#0d0887\"], [0.1111111111111111, \"#46039f\"], [0.2222222222222222, \"#7201a8\"], [0.3333333333333333, \"#9c179e\"], [0.4444444444444444, \"#bd3786\"], [0.5555555555555556, \"#d8576b\"], [0.6666666666666666, \"#ed7953\"], [0.7777777777777778, \"#fb9f3a\"], [0.8888888888888888, \"#fdca26\"], [1.0, \"#f0f921\"]], \"type\": \"histogram2d\"}], \"histogram2dcontour\": [{\"colorbar\": {\"outlinewidth\": 0, \"ticks\": \"\"}, \"colorscale\": [[0.0, \"#0d0887\"], [0.1111111111111111, \"#46039f\"], [0.2222222222222222, \"#7201a8\"], [0.3333333333333333, \"#9c179e\"], [0.4444444444444444, \"#bd3786\"], [0.5555555555555556, \"#d8576b\"], [0.6666666666666666, \"#ed7953\"], [0.7777777777777778, \"#fb9f3a\"], [0.8888888888888888, \"#fdca26\"], [1.0, \"#f0f921\"]], \"type\": \"histogram2dcontour\"}], \"mesh3d\": [{\"colorbar\": {\"outlinewidth\": 0, \"ticks\": \"\"}, \"type\": \"mesh3d\"}], \"parcoords\": [{\"line\": {\"colorbar\": {\"outlinewidth\": 0, \"ticks\": \"\"}}, \"type\": \"parcoords\"}], \"pie\": [{\"automargin\": true, \"type\": \"pie\"}], \"scatter\": [{\"marker\": {\"colorbar\": {\"outlinewidth\": 0, \"ticks\": \"\"}}, \"type\": \"scatter\"}], \"scatter3d\": [{\"line\": {\"colorbar\": {\"outlinewidth\": 0, \"ticks\": \"\"}}, \"marker\": {\"colorbar\": {\"outlinewidth\": 0, \"ticks\": \"\"}}, \"type\": \"scatter3d\"}], \"scattercarpet\": [{\"marker\": {\"colorbar\": {\"outlinewidth\": 0, \"ticks\": \"\"}}, \"type\": \"scattercarpet\"}], \"scattergeo\": [{\"marker\": {\"colorbar\": {\"outlinewidth\": 0, \"ticks\": \"\"}}, \"type\": \"scattergeo\"}], \"scattergl\": [{\"marker\": {\"colorbar\": {\"outlinewidth\": 0, \"ticks\": \"\"}}, \"type\": \"scattergl\"}], \"scattermapbox\": [{\"marker\": {\"colorbar\": {\"outlinewidth\": 0, \"ticks\": \"\"}}, \"type\": \"scattermapbox\"}], \"scatterpolar\": [{\"marker\": {\"colorbar\": {\"outlinewidth\": 0, \"ticks\": \"\"}}, \"type\": \"scatterpolar\"}], \"scatterpolargl\": [{\"marker\": {\"colorbar\": {\"outlinewidth\": 0, \"ticks\": \"\"}}, \"type\": \"scatterpolargl\"}], \"scatterternary\": [{\"marker\": {\"colorbar\": {\"outlinewidth\": 0, \"ticks\": \"\"}}, \"type\": \"scatterternary\"}], \"surface\": [{\"colorbar\": {\"outlinewidth\": 0, \"ticks\": \"\"}, \"colorscale\": [[0.0, \"#0d0887\"], [0.1111111111111111, \"#46039f\"], [0.2222222222222222, \"#7201a8\"], [0.3333333333333333, \"#9c179e\"], [0.4444444444444444, \"#bd3786\"], [0.5555555555555556, \"#d8576b\"], [0.6666666666666666, \"#ed7953\"], [0.7777777777777778, \"#fb9f3a\"], [0.8888888888888888, \"#fdca26\"], [1.0, \"#f0f921\"]], \"type\": \"surface\"}], \"table\": [{\"cells\": {\"fill\": {\"color\": \"#EBF0F8\"}, \"line\": {\"color\": \"white\"}}, \"header\": {\"fill\": {\"color\": \"#C8D4E3\"}, \"line\": {\"color\": \"white\"}}, \"type\": \"table\"}]}, \"layout\": {\"annotationdefaults\": {\"arrowcolor\": \"#2a3f5f\", \"arrowhead\": 0, \"arrowwidth\": 1}, \"coloraxis\": {\"colorbar\": {\"outlinewidth\": 0, \"ticks\": \"\"}}, \"colorscale\": {\"diverging\": [[0, \"#8e0152\"], [0.1, \"#c51b7d\"], [0.2, \"#de77ae\"], [0.3, \"#f1b6da\"], [0.4, \"#fde0ef\"], [0.5, \"#f7f7f7\"], [0.6, \"#e6f5d0\"], [0.7, \"#b8e186\"], [0.8, \"#7fbc41\"], [0.9, \"#4d9221\"], [1, \"#276419\"]], \"sequential\": [[0.0, \"#0d0887\"], [0.1111111111111111, \"#46039f\"], [0.2222222222222222, \"#7201a8\"], [0.3333333333333333, \"#9c179e\"], [0.4444444444444444, \"#bd3786\"], [0.5555555555555556, \"#d8576b\"], [0.6666666666666666, \"#ed7953\"], [0.7777777777777778, \"#fb9f3a\"], [0.8888888888888888, \"#fdca26\"], [1.0, \"#f0f921\"]], \"sequentialminus\": [[0.0, \"#0d0887\"], [0.1111111111111111, \"#46039f\"], [0.2222222222222222, \"#7201a8\"], [0.3333333333333333, \"#9c179e\"], [0.4444444444444444, \"#bd3786\"], [0.5555555555555556, \"#d8576b\"], [0.6666666666666666, \"#ed7953\"], [0.7777777777777778, \"#fb9f3a\"], [0.8888888888888888, \"#fdca26\"], [1.0, \"#f0f921\"]]}, \"colorway\": [\"#636efa\", \"#EF553B\", \"#00cc96\", \"#ab63fa\", \"#FFA15A\", \"#19d3f3\", \"#FF6692\", \"#B6E880\", \"#FF97FF\", \"#FECB52\"], \"font\": {\"color\": \"#2a3f5f\"}, \"geo\": {\"bgcolor\": \"white\", \"lakecolor\": \"white\", \"landcolor\": \"#E5ECF6\", \"showlakes\": true, \"showland\": true, \"subunitcolor\": \"white\"}, \"hoverlabel\": {\"align\": \"left\"}, \"hovermode\": \"closest\", \"mapbox\": {\"style\": \"light\"}, \"paper_bgcolor\": \"white\", \"plot_bgcolor\": \"#E5ECF6\", \"polar\": {\"angularaxis\": {\"gridcolor\": \"white\", \"linecolor\": \"white\", \"ticks\": \"\"}, \"bgcolor\": \"#E5ECF6\", \"radialaxis\": {\"gridcolor\": \"white\", \"linecolor\": \"white\", \"ticks\": \"\"}}, \"scene\": {\"xaxis\": {\"backgroundcolor\": \"#E5ECF6\", \"gridcolor\": \"white\", \"gridwidth\": 2, \"linecolor\": \"white\", \"showbackground\": true, \"ticks\": \"\", \"zerolinecolor\": \"white\"}, \"yaxis\": {\"backgroundcolor\": \"#E5ECF6\", \"gridcolor\": \"white\", \"gridwidth\": 2, \"linecolor\": \"white\", \"showbackground\": true, \"ticks\": \"\", \"zerolinecolor\": \"white\"}, \"zaxis\": {\"backgroundcolor\": \"#E5ECF6\", \"gridcolor\": \"white\", \"gridwidth\": 2, \"linecolor\": \"white\", \"showbackground\": true, \"ticks\": \"\", \"zerolinecolor\": \"white\"}}, \"shapedefaults\": {\"line\": {\"color\": \"#2a3f5f\"}}, \"ternary\": {\"aaxis\": {\"gridcolor\": \"white\", \"linecolor\": \"white\", \"ticks\": \"\"}, \"baxis\": {\"gridcolor\": \"white\", \"linecolor\": \"white\", \"ticks\": \"\"}, \"bgcolor\": \"#E5ECF6\", \"caxis\": {\"gridcolor\": \"white\", \"linecolor\": \"white\", \"ticks\": \"\"}}, \"title\": {\"x\": 0.05}, \"xaxis\": {\"automargin\": true, \"gridcolor\": \"white\", \"linecolor\": \"white\", \"ticks\": \"\", \"title\": {\"standoff\": 15}, \"zerolinecolor\": \"white\", \"zerolinewidth\": 2}, \"yaxis\": {\"automargin\": true, \"gridcolor\": \"white\", \"linecolor\": \"white\", \"ticks\": \"\", \"title\": {\"standoff\": 15}, \"zerolinecolor\": \"white\", \"zerolinewidth\": 2}}}, \"title\": {\"text\": \"Most popular categories\"}, \"width\": 900, \"xaxis\": {\"anchor\": \"x\", \"rangemode\": \"tozero\", \"title\": {\"text\": \"The number of times the video of a given category was trending\"}}, \"yaxis\": {\"anchor\": \"x\", \"rangemode\": \"tozero\", \"tickfont\": {\"size\": 10}, \"ticklen\": 1}},\n",
       "                        {\"responsive\": true}\n",
       "                    ).then(function(){\n",
       "                            \n",
       "var gd = document.getElementById('bbf22eb1-9e90-4995-bed2-75f29b2ec7c1');\n",
       "var x = new MutationObserver(function (mutations, observer) {{\n",
       "        var display = window.getComputedStyle(gd).display;\n",
       "        if (!display || display === 'none') {{\n",
       "            console.log([gd, 'removed!']);\n",
       "            Plotly.purge(gd);\n",
       "            observer.disconnect();\n",
       "        }}\n",
       "}});\n",
       "\n",
       "// Listen for the removal of the full notebook cells\n",
       "var notebookContainer = gd.closest('#notebook-container');\n",
       "if (notebookContainer) {{\n",
       "    x.observe(notebookContainer, {childList: true});\n",
       "}}\n",
       "\n",
       "// Listen for the clearing of the current output cell\n",
       "var outputEl = gd.closest('.output');\n",
       "if (outputEl) {{\n",
       "    x.observe(outputEl, {childList: true});\n",
       "}}\n",
       "\n",
       "                        })\n",
       "                };\n",
       "                });\n",
       "            </script>\n",
       "        </div>"
      ]
     },
     "metadata": {},
     "output_type": "display_data"
    }
   ],
   "source": [
    "max_title_length = 30\n",
    "number_of_creators = 12\n",
    "\n",
    "top_creators = in_videos.groupby(['category'])['category'].agg(\n",
    "    {\"code_count\": len}).sort_values(\n",
    "    \"code_count\", ascending=False\n",
    ").head(number_of_creators).reset_index()\n",
    "\n",
    "trace1 = go.Bar(\n",
    "    y = [(x if len(x) <= max_title_length else x[:max_title_length] + \"...\") for x in top_creators.category.values][::-1],\n",
    "    x = top_creators['code_count'].tolist()[::-1],\n",
    "    name = \"Top categories\",\n",
    "    orientation = 'h',\n",
    "    marker=dict(\n",
    "        color='rgba(55, 128, 191, 0.7)',\n",
    "        line=dict(\n",
    "            color='rgba(55, 128, 191, 1.0)',\n",
    "            width=2,\n",
    "        )\n",
    "    ),\n",
    ")\n",
    "\n",
    "data = [trace1]\n",
    "\n",
    "layout = go.Layout(\n",
    "    title = 'Most popular categories',\n",
    "    width=900,\n",
    "    height=600,\n",
    "    margin=go.Margin(\n",
    "        l=180,\n",
    "        r=50,\n",
    "        b=80,\n",
    "        t=80,\n",
    "        pad=10\n",
    "    ),\n",
    "    paper_bgcolor='rgb(244, 238, 225)',\n",
    "    plot_bgcolor='rgb(244, 238, 225)',\n",
    "    yaxis = dict(\n",
    "        anchor = 'x',\n",
    "        rangemode='tozero',\n",
    "        tickfont=dict(\n",
    "            size=10\n",
    "        ),\n",
    "        ticklen=1\n",
    "    ), \n",
    "    xaxis = dict(\n",
    "        title= 'The number of times the video of a given category was trending',\n",
    "        anchor = 'x',\n",
    "        rangemode='tozero'\n",
    "    ), \n",
    "    legend=dict(x=0.6, y=0.07)\n",
    ")\n",
    "\n",
    "fig = go.Figure(data=data, layout=layout)\n",
    "py.iplot(fig)"
   ]
  },
  {
   "cell_type": "markdown",
   "metadata": {},
   "source": [
    "* Here the graph shows that the category **`Entertainment`** is the most trending video category with **`16.712k`** trending videos. \n",
    "\n",
    "* The second most trending video categogy is **`News & Politics`** with **`5240`** trending videos. \n",
    "\n",
    "* Whereas, the least trending video categories are **`Nonprofits & Activism`**  and  **`Shows`** with **`105`** and **`205`** trending videos respectively."
   ]
  },
  {
   "cell_type": "markdown",
   "metadata": {},
   "source": [
    " [Back](#2.8)"
   ]
  },
  {
   "cell_type": "markdown",
   "metadata": {},
   "source": [
    "## 2.9. Average time interval\n",
    "<a id=\"avg_time_interval\"></a>\n",
    "The average time interval for each category describes on average how fast a video can show up on the trending board. This is also a important criterion that which need to be cared about, because the longer time interval is, the larger the time cost will be."
   ]
  },
  {
   "cell_type": "code",
   "execution_count": 40,
   "metadata": {},
   "outputs": [
    {
     "data": {
      "image/png": "[encoded data removed]",
      "text/plain": [
       "<Figure size 3024x864 with 1 Axes>"
      ]
     },
     "metadata": {
      "needs_background": "light"
     },
     "output_type": "display_data"
    }
   ],
   "source": [
    "# Average time interval between published and trending\n",
    "in_videos['interval'] = (pd.to_datetime(in_videos['trending_date']).dt.date - pd.to_datetime(in_videos['publish_date']).dt.date).astype('timedelta64[D]')\n",
    "df_t = pd.DataFrame(in_videos['interval'].groupby(in_videos['category']).mean())\n",
    "plt.figure(figsize = (42,12))\n",
    "plt.plot(df_t, color='blue', linewidth=2)\n",
    "plt.title(\"Average Days to be trending video\", fontsize=28)\n",
    "plt.xlabel('Category',fontsize=25)\n",
    "plt.ylabel('Average Time Interval',fontsize=25)\n",
    "plt.tick_params(labelsize=14)\n",
    "plt.show();\n"
   ]
  },
  {
   "cell_type": "markdown",
   "metadata": {},
   "source": [
    " [Back](#2.8)"
   ]
  },
  {
   "cell_type": "markdown",
   "metadata": {
    "_cell_guid": "0521f2f4-7cc2-4fc6-8ccd-923dc21528a1",
    "_uuid": "2acbb4d63e33f12a3502c6519480463b2dd8f9c1"
   },
   "source": [
    "## 2.10. Late bloomers\n",
    "<a id=\"late_bloomers\"></a>\n",
    "This section dedicated to videos that waited the longest before they became trending. I also checked how many views they had when they hit the YouTube home page."
   ]
  },
  {
   "cell_type": "code",
   "execution_count": 41,
   "metadata": {},
   "outputs": [
    {
     "name": "stdout",
     "output_type": "stream",
     "text": [
      "<class 'pandas.core.series.Series'>\n"
     ]
    }
   ],
   "source": [
    "print(type(in_videos[\"video_id\"]))"
   ]
  },
  {
   "cell_type": "code",
   "execution_count": 42,
   "metadata": {
    "_cell_guid": "15c892cc-740b-4b70-9d7d-04d0ed0d0059",
    "_kg_hide-input": true,
    "_uuid": "c6e6e898bc4f53a12183947e0ef518b44dfe868e",
    "scrolled": false
   },
   "outputs": [
    {
     "data": {
      "application/vnd.plotly.v1+json": {
       "config": {
        "linkText": "Export to plot.ly",
        "plotlyServerURL": "https://plot.ly",
        "showLink": false
       },
       "data": [
        {
         "marker": {
          "color": "rgba(55, 128, 191, 0.7)",
          "line": {
           "color": "rgba(55, 128, 191, 1.0)",
           "width": 2
          }
         },
         "name": "Number of days",
         "type": "bar",
         "x": [
          "Drunk and Drive Test...",
          "viva harsha Intervie...",
          "Super Dancer - Chapt...",
          "Juliet Lover Of Idio...",
          "ముద్దుతో పాటు ఈ చిన్...",
          "Gramos Shabani  - Dy...",
          "Google I/O'18: Googl...",
          "మ‌హిళ‌లు శృంగారం  త‌...",
          "Sapna Choudhary Live...",
          "Truth Behind Sudigal...",
          "ఈ వీడియో చూస్తే మళ్ళ...",
          "Rakul Preet Singh Op...",
          "Hatem Al Iraqi ... Y...",
          "నన్ను అనుభవించండి నా...",
          "MAGGI Masala-ae-Magi..."
         ],
         "y": [
          220,
          49,
          33,
          18,
          15,
          15,
          15,
          14,
          12,
          11,
          11,
          11,
          11,
          10,
          10
         ]
        },
        {
         "marker": {
          "color": "rgba(219, 64, 82, 0.7)",
          "line": {
           "color": "rgba(219, 64, 82, 1.0)",
           "width": 2
          }
         },
         "name": "total views",
         "type": "bar",
         "x": [
          "Drunk and Drive Test...",
          "viva harsha Intervie...",
          "Super Dancer - Chapt...",
          "Juliet Lover Of Idio...",
          "ముద్దుతో పాటు ఈ చిన్...",
          "Gramos Shabani  - Dy...",
          "Google I/O'18: Googl...",
          "మ‌హిళ‌లు శృంగారం  త‌...",
          "Sapna Choudhary Live...",
          "Truth Behind Sudigal...",
          "ఈ వీడియో చూస్తే మళ్ళ...",
          "Rakul Preet Singh Op...",
          "Hatem Al Iraqi ... Y...",
          "నన్ను అనుభవించండి నా...",
          "MAGGI Masala-ae-Magi..."
         ],
         "y": [
          38068,
          117023,
          689272,
          17135,
          50497,
          75003,
          853051,
          157897,
          441950,
          71475,
          256058,
          323414,
          434470,
          187018,
          384763
         ],
         "yaxis": "y2"
        }
       ],
       "layout": {
        "barmode": "group",
        "height": 500,
        "legend": {
         "x": 0.1,
         "y": 0.05
        },
        "margin": {
         "b": 120,
         "l": 75,
         "pad": 10,
         "r": 75,
         "t": 80
        },
        "paper_bgcolor": "rgb(244, 238, 225)",
        "plot_bgcolor": "rgb(244, 238, 225)",
        "template": {
         "data": {
          "bar": [
           {
            "error_x": {
             "color": "#2a3f5f"
            },
            "error_y": {
             "color": "#2a3f5f"
            },
            "marker": {
             "line": {
              "color": "#E5ECF6",
              "width": 0.5
             }
            },
            "type": "bar"
           }
          ],
          "barpolar": [
           {
            "marker": {
             "line": {
              "color": "#E5ECF6",
              "width": 0.5
             }
            },
            "type": "barpolar"
           }
          ],
          "carpet": [
           {
            "aaxis": {
             "endlinecolor": "#2a3f5f",
             "gridcolor": "white",
             "linecolor": "white",
             "minorgridcolor": "white",
             "startlinecolor": "#2a3f5f"
            },
            "baxis": {
             "endlinecolor": "#2a3f5f",
             "gridcolor": "white",
             "linecolor": "white",
             "minorgridcolor": "white",
             "startlinecolor": "#2a3f5f"
            },
            "type": "carpet"
           }
          ],
          "choropleth": [
           {
            "colorbar": {
             "outlinewidth": 0,
             "ticks": ""
            },
            "type": "choropleth"
           }
          ],
          "contour": [
           {
            "colorbar": {
             "outlinewidth": 0,
             "ticks": ""
            },
            "colorscale": [
             [
              0,
              "#0d0887"
             ],
             [
              0.1111111111111111,
              "#46039f"
             ],
             [
              0.2222222222222222,
              "#7201a8"
             ],
             [
              0.3333333333333333,
              "#9c179e"
             ],
             [
              0.4444444444444444,
              "#bd3786"
             ],
             [
              0.5555555555555556,
              "#d8576b"
             ],
             [
              0.6666666666666666,
              "#ed7953"
             ],
             [
              0.7777777777777778,
              "#fb9f3a"
             ],
             [
              0.8888888888888888,
              "#fdca26"
             ],
             [
              1,
              "#f0f921"
             ]
            ],
            "type": "contour"
           }
          ],
          "contourcarpet": [
           {
            "colorbar": {
             "outlinewidth": 0,
             "ticks": ""
            },
            "type": "contourcarpet"
           }
          ],
          "heatmap": [
           {
            "colorbar": {
             "outlinewidth": 0,
             "ticks": ""
            },
            "colorscale": [
             [
              0,
              "#0d0887"
             ],
             [
              0.1111111111111111,
              "#46039f"
             ],
             [
              0.2222222222222222,
              "#7201a8"
             ],
             [
              0.3333333333333333,
              "#9c179e"
             ],
             [
              0.4444444444444444,
              "#bd3786"
             ],
             [
              0.5555555555555556,
              "#d8576b"
             ],
             [
              0.6666666666666666,
              "#ed7953"
             ],
             [
              0.7777777777777778,
              "#fb9f3a"
             ],
             [
              0.8888888888888888,
              "#fdca26"
             ],
             [
              1,
              "#f0f921"
             ]
            ],
            "type": "heatmap"
           }
          ],
          "heatmapgl": [
           {
            "colorbar": {
             "outlinewidth": 0,
             "ticks": ""
            },
            "colorscale": [
             [
              0,
              "#0d0887"
             ],
             [
              0.1111111111111111,
              "#46039f"
             ],
             [
              0.2222222222222222,
              "#7201a8"
             ],
             [
              0.3333333333333333,
              "#9c179e"
             ],
             [
              0.4444444444444444,
              "#bd3786"
             ],
             [
              0.5555555555555556,
              "#d8576b"
             ],
             [
              0.6666666666666666,
              "#ed7953"
             ],
             [
              0.7777777777777778,
              "#fb9f3a"
             ],
             [
              0.8888888888888888,
              "#fdca26"
             ],
             [
              1,
              "#f0f921"
             ]
            ],
            "type": "heatmapgl"
           }
          ],
          "histogram": [
           {
            "marker": {
             "colorbar": {
              "outlinewidth": 0,
              "ticks": ""
             }
            },
            "type": "histogram"
           }
          ],
          "histogram2d": [
           {
            "colorbar": {
             "outlinewidth": 0,
             "ticks": ""
            },
            "colorscale": [
             [
              0,
              "#0d0887"
             ],
             [
              0.1111111111111111,
              "#46039f"
             ],
             [
              0.2222222222222222,
              "#7201a8"
             ],
             [
              0.3333333333333333,
              "#9c179e"
             ],
             [
              0.4444444444444444,
              "#bd3786"
             ],
             [
              0.5555555555555556,
              "#d8576b"
             ],
             [
              0.6666666666666666,
              "#ed7953"
             ],
             [
              0.7777777777777778,
              "#fb9f3a"
             ],
             [
              0.8888888888888888,
              "#fdca26"
             ],
             [
              1,
              "#f0f921"
             ]
            ],
            "type": "histogram2d"
           }
          ],
          "histogram2dcontour": [
           {
            "colorbar": {
             "outlinewidth": 0,
             "ticks": ""
            },
            "colorscale": [
             [
              0,
              "#0d0887"
             ],
             [
              0.1111111111111111,
              "#46039f"
             ],
             [
              0.2222222222222222,
              "#7201a8"
             ],
             [
              0.3333333333333333,
              "#9c179e"
             ],
             [
              0.4444444444444444,
              "#bd3786"
             ],
             [
              0.5555555555555556,
              "#d8576b"
             ],
             [
              0.6666666666666666,
              "#ed7953"
             ],
             [
              0.7777777777777778,
              "#fb9f3a"
             ],
             [
              0.8888888888888888,
              "#fdca26"
             ],
             [
              1,
              "#f0f921"
             ]
            ],
            "type": "histogram2dcontour"
           }
          ],
          "mesh3d": [
           {
            "colorbar": {
             "outlinewidth": 0,
             "ticks": ""
            },
            "type": "mesh3d"
           }
          ],
          "parcoords": [
           {
            "line": {
             "colorbar": {
              "outlinewidth": 0,
              "ticks": ""
             }
            },
            "type": "parcoords"
           }
          ],
          "pie": [
           {
            "automargin": true,
            "type": "pie"
           }
          ],
          "scatter": [
           {
            "marker": {
             "colorbar": {
              "outlinewidth": 0,
              "ticks": ""
             }
            },
            "type": "scatter"
           }
          ],
          "scatter3d": [
           {
            "line": {
             "colorbar": {
              "outlinewidth": 0,
              "ticks": ""
             }
            },
            "marker": {
             "colorbar": {
              "outlinewidth": 0,
              "ticks": ""
             }
            },
            "type": "scatter3d"
           }
          ],
          "scattercarpet": [
           {
            "marker": {
             "colorbar": {
              "outlinewidth": 0,
              "ticks": ""
             }
            },
            "type": "scattercarpet"
           }
          ],
          "scattergeo": [
           {
            "marker": {
             "colorbar": {
              "outlinewidth": 0,
              "ticks": ""
             }
            },
            "type": "scattergeo"
           }
          ],
          "scattergl": [
           {
            "marker": {
             "colorbar": {
              "outlinewidth": 0,
              "ticks": ""
             }
            },
            "type": "scattergl"
           }
          ],
          "scattermapbox": [
           {
            "marker": {
             "colorbar": {
              "outlinewidth": 0,
              "ticks": ""
             }
            },
            "type": "scattermapbox"
           }
          ],
          "scatterpolar": [
           {
            "marker": {
             "colorbar": {
              "outlinewidth": 0,
              "ticks": ""
             }
            },
            "type": "scatterpolar"
           }
          ],
          "scatterpolargl": [
           {
            "marker": {
             "colorbar": {
              "outlinewidth": 0,
              "ticks": ""
             }
            },
            "type": "scatterpolargl"
           }
          ],
          "scatterternary": [
           {
            "marker": {
             "colorbar": {
              "outlinewidth": 0,
              "ticks": ""
             }
            },
            "type": "scatterternary"
           }
          ],
          "surface": [
           {
            "colorbar": {
             "outlinewidth": 0,
             "ticks": ""
            },
            "colorscale": [
             [
              0,
              "#0d0887"
             ],
             [
              0.1111111111111111,
              "#46039f"
             ],
             [
              0.2222222222222222,
              "#7201a8"
             ],
             [
              0.3333333333333333,
              "#9c179e"
             ],
             [
              0.4444444444444444,
              "#bd3786"
             ],
             [
              0.5555555555555556,
              "#d8576b"
             ],
             [
              0.6666666666666666,
              "#ed7953"
             ],
             [
              0.7777777777777778,
              "#fb9f3a"
             ],
             [
              0.8888888888888888,
              "#fdca26"
             ],
             [
              1,
              "#f0f921"
             ]
            ],
            "type": "surface"
           }
          ],
          "table": [
           {
            "cells": {
             "fill": {
              "color": "#EBF0F8"
             },
             "line": {
              "color": "white"
             }
            },
            "header": {
             "fill": {
              "color": "#C8D4E3"
             },
             "line": {
              "color": "white"
             }
            },
            "type": "table"
           }
          ]
         },
         "layout": {
          "annotationdefaults": {
           "arrowcolor": "#2a3f5f",
           "arrowhead": 0,
           "arrowwidth": 1
          },
          "coloraxis": {
           "colorbar": {
            "outlinewidth": 0,
            "ticks": ""
           }
          },
          "colorscale": {
           "diverging": [
            [
             0,
             "#8e0152"
            ],
            [
             0.1,
             "#c51b7d"
            ],
            [
             0.2,
             "#de77ae"
            ],
            [
             0.3,
             "#f1b6da"
            ],
            [
             0.4,
             "#fde0ef"
            ],
            [
             0.5,
             "#f7f7f7"
            ],
            [
             0.6,
             "#e6f5d0"
            ],
            [
             0.7,
             "#b8e186"
            ],
            [
             0.8,
             "#7fbc41"
            ],
            [
             0.9,
             "#4d9221"
            ],
            [
             1,
             "#276419"
            ]
           ],
           "sequential": [
            [
             0,
             "#0d0887"
            ],
            [
             0.1111111111111111,
             "#46039f"
            ],
            [
             0.2222222222222222,
             "#7201a8"
            ],
            [
             0.3333333333333333,
             "#9c179e"
            ],
            [
             0.4444444444444444,
             "#bd3786"
            ],
            [
             0.5555555555555556,
             "#d8576b"
            ],
            [
             0.6666666666666666,
             "#ed7953"
            ],
            [
             0.7777777777777778,
             "#fb9f3a"
            ],
            [
             0.8888888888888888,
             "#fdca26"
            ],
            [
             1,
             "#f0f921"
            ]
           ],
           "sequentialminus": [
            [
             0,
             "#0d0887"
            ],
            [
             0.1111111111111111,
             "#46039f"
            ],
            [
             0.2222222222222222,
             "#7201a8"
            ],
            [
             0.3333333333333333,
             "#9c179e"
            ],
            [
             0.4444444444444444,
             "#bd3786"
            ],
            [
             0.5555555555555556,
             "#d8576b"
            ],
            [
             0.6666666666666666,
             "#ed7953"
            ],
            [
             0.7777777777777778,
             "#fb9f3a"
            ],
            [
             0.8888888888888888,
             "#fdca26"
            ],
            [
             1,
             "#f0f921"
            ]
           ]
          },
          "colorway": [
           "#636efa",
           "#EF553B",
           "#00cc96",
           "#ab63fa",
           "#FFA15A",
           "#19d3f3",
           "#FF6692",
           "#B6E880",
           "#FF97FF",
           "#FECB52"
          ],
          "font": {
           "color": "#2a3f5f"
          },
          "geo": {
           "bgcolor": "white",
           "lakecolor": "white",
           "landcolor": "#E5ECF6",
           "showlakes": true,
           "showland": true,
           "subunitcolor": "white"
          },
          "hoverlabel": {
           "align": "left"
          },
          "hovermode": "closest",
          "mapbox": {
           "style": "light"
          },
          "paper_bgcolor": "white",
          "plot_bgcolor": "#E5ECF6",
          "polar": {
           "angularaxis": {
            "gridcolor": "white",
            "linecolor": "white",
            "ticks": ""
           },
           "bgcolor": "#E5ECF6",
           "radialaxis": {
            "gridcolor": "white",
            "linecolor": "white",
            "ticks": ""
           }
          },
          "scene": {
           "xaxis": {
            "backgroundcolor": "#E5ECF6",
            "gridcolor": "white",
            "gridwidth": 2,
            "linecolor": "white",
            "showbackground": true,
            "ticks": "",
            "zerolinecolor": "white"
           },
           "yaxis": {
            "backgroundcolor": "#E5ECF6",
            "gridcolor": "white",
            "gridwidth": 2,
            "linecolor": "white",
            "showbackground": true,
            "ticks": "",
            "zerolinecolor": "white"
           },
           "zaxis": {
            "backgroundcolor": "#E5ECF6",
            "gridcolor": "white",
            "gridwidth": 2,
            "linecolor": "white",
            "showbackground": true,
            "ticks": "",
            "zerolinecolor": "white"
           }
          },
          "shapedefaults": {
           "line": {
            "color": "#2a3f5f"
           }
          },
          "ternary": {
           "aaxis": {
            "gridcolor": "white",
            "linecolor": "white",
            "ticks": ""
           },
           "baxis": {
            "gridcolor": "white",
            "linecolor": "white",
            "ticks": ""
           },
           "bgcolor": "#E5ECF6",
           "caxis": {
            "gridcolor": "white",
            "linecolor": "white",
            "ticks": ""
           }
          },
          "title": {
           "x": 0.05
          },
          "xaxis": {
           "automargin": true,
           "gridcolor": "white",
           "linecolor": "white",
           "ticks": "",
           "title": {
            "standoff": 15
           },
           "zerolinecolor": "white",
           "zerolinewidth": 2
          },
          "yaxis": {
           "automargin": true,
           "gridcolor": "white",
           "linecolor": "white",
           "ticks": "",
           "title": {
            "standoff": 15
           },
           "zerolinecolor": "white",
           "zerolinewidth": 2
          }
         }
        },
        "title": {
         "text": "Late bloomers"
        },
        "width": 900,
        "yaxis": {
         "anchor": "x",
         "rangemode": "tozero",
         "title": {
          "text": "Number of days until becoming trending"
         }
        },
        "yaxis2": {
         "anchor": "x",
         "dtick": 61000,
         "overlaying": "y",
         "rangemode": "tozero",
         "side": "right",
         "tickfont": {
          "color": "rgb(148, 103, 189)"
         },
         "title": {
          "font": {
           "color": "rgb(148, 103, 189)"
          },
          "text": "Total number of views"
         }
        }
       }
      },
      "text/html": [
       "<div>\n",
       "        \n",
       "        \n",
       "            <div id=\"1b3f03f6-ee4a-4713-a217-baa134cb4d87\" class=\"plotly-graph-div\" style=\"height:500px; width:900px;\"></div>\n",
       "            <script type=\"text/javascript\">\n",
       "                require([\"plotly\"], function(Plotly) {\n",
       "                    window.PLOTLYENV=window.PLOTLYENV || {};\n",
       "                    \n",
       "                if (document.getElementById(\"1b3f03f6-ee4a-4713-a217-baa134cb4d87\")) {\n",
       "                    Plotly.newPlot(\n",
       "                        '1b3f03f6-ee4a-4713-a217-baa134cb4d87',\n",
       "                        [{\"marker\": {\"color\": \"rgba(55, 128, 191, 0.7)\", \"line\": {\"color\": \"rgba(55, 128, 191, 1.0)\", \"width\": 2}}, \"name\": \"Number of days\", \"type\": \"bar\", \"x\": [\"Drunk and Drive Test...\", \"viva harsha Intervie...\", \"Super Dancer - Chapt...\", \"Juliet Lover Of Idio...\", \"\\u0c2e\\u0c41\\u0c26\\u0c4d\\u0c26\\u0c41\\u0c24\\u0c4b \\u0c2a\\u0c3e\\u0c1f\\u0c41 \\u0c08 \\u0c1a\\u0c3f\\u0c28\\u0c4d...\", \"Gramos Shabani  - Dy...\", \"Google I/O'18: Googl...\", \"\\u0c2e\\u200c\\u0c39\\u0c3f\\u0c33\\u200c\\u0c32\\u0c41 \\u0c36\\u0c43\\u0c02\\u0c17\\u0c3e\\u0c30\\u0c02  \\u0c24\\u200c...\", \"Sapna Choudhary Live...\", \"Truth Behind Sudigal...\", \"\\u0c08 \\u0c35\\u0c40\\u0c21\\u0c3f\\u0c2f\\u0c4b \\u0c1a\\u0c42\\u0c38\\u0c4d\\u0c24\\u0c47 \\u0c2e\\u0c33\\u0c4d\\u0c33...\", \"Rakul Preet Singh Op...\", \"Hatem Al Iraqi ... Y...\", \"\\u0c28\\u0c28\\u0c4d\\u0c28\\u0c41 \\u0c05\\u0c28\\u0c41\\u0c2d\\u0c35\\u0c3f\\u0c02\\u0c1a\\u0c02\\u0c21\\u0c3f \\u0c28\\u0c3e...\", \"MAGGI Masala-ae-Magi...\"], \"y\": [220.0, 49.0, 33.0, 18.0, 15.0, 15.0, 15.0, 14.0, 12.0, 11.0, 11.0, 11.0, 11.0, 10.0, 10.0]}, {\"marker\": {\"color\": \"rgba(219, 64, 82, 0.7)\", \"line\": {\"color\": \"rgba(219, 64, 82, 1.0)\", \"width\": 2}}, \"name\": \"total views\", \"type\": \"bar\", \"x\": [\"Drunk and Drive Test...\", \"viva harsha Intervie...\", \"Super Dancer - Chapt...\", \"Juliet Lover Of Idio...\", \"\\u0c2e\\u0c41\\u0c26\\u0c4d\\u0c26\\u0c41\\u0c24\\u0c4b \\u0c2a\\u0c3e\\u0c1f\\u0c41 \\u0c08 \\u0c1a\\u0c3f\\u0c28\\u0c4d...\", \"Gramos Shabani  - Dy...\", \"Google I/O'18: Googl...\", \"\\u0c2e\\u200c\\u0c39\\u0c3f\\u0c33\\u200c\\u0c32\\u0c41 \\u0c36\\u0c43\\u0c02\\u0c17\\u0c3e\\u0c30\\u0c02  \\u0c24\\u200c...\", \"Sapna Choudhary Live...\", \"Truth Behind Sudigal...\", \"\\u0c08 \\u0c35\\u0c40\\u0c21\\u0c3f\\u0c2f\\u0c4b \\u0c1a\\u0c42\\u0c38\\u0c4d\\u0c24\\u0c47 \\u0c2e\\u0c33\\u0c4d\\u0c33...\", \"Rakul Preet Singh Op...\", \"Hatem Al Iraqi ... Y...\", \"\\u0c28\\u0c28\\u0c4d\\u0c28\\u0c41 \\u0c05\\u0c28\\u0c41\\u0c2d\\u0c35\\u0c3f\\u0c02\\u0c1a\\u0c02\\u0c21\\u0c3f \\u0c28\\u0c3e...\", \"MAGGI Masala-ae-Magi...\"], \"y\": [38068, 117023, 689272, 17135, 50497, 75003, 853051, 157897, 441950, 71475, 256058, 323414, 434470, 187018, 384763], \"yaxis\": \"y2\"}],\n",
       "                        {\"barmode\": \"group\", \"height\": 500, \"legend\": {\"x\": 0.1, \"y\": 0.05}, \"margin\": {\"b\": 120, \"l\": 75, \"pad\": 10, \"r\": 75, \"t\": 80}, \"paper_bgcolor\": \"rgb(244, 238, 225)\", \"plot_bgcolor\": \"rgb(244, 238, 225)\", \"template\": {\"data\": {\"bar\": [{\"error_x\": {\"color\": \"#2a3f5f\"}, \"error_y\": {\"color\": \"#2a3f5f\"}, \"marker\": {\"line\": {\"color\": \"#E5ECF6\", \"width\": 0.5}}, \"type\": \"bar\"}], \"barpolar\": [{\"marker\": {\"line\": {\"color\": \"#E5ECF6\", \"width\": 0.5}}, \"type\": \"barpolar\"}], \"carpet\": [{\"aaxis\": {\"endlinecolor\": \"#2a3f5f\", \"gridcolor\": \"white\", \"linecolor\": \"white\", \"minorgridcolor\": \"white\", \"startlinecolor\": \"#2a3f5f\"}, \"baxis\": {\"endlinecolor\": \"#2a3f5f\", \"gridcolor\": \"white\", \"linecolor\": \"white\", \"minorgridcolor\": \"white\", \"startlinecolor\": \"#2a3f5f\"}, \"type\": \"carpet\"}], \"choropleth\": [{\"colorbar\": {\"outlinewidth\": 0, \"ticks\": \"\"}, \"type\": \"choropleth\"}], \"contour\": [{\"colorbar\": {\"outlinewidth\": 0, \"ticks\": \"\"}, \"colorscale\": [[0.0, \"#0d0887\"], [0.1111111111111111, \"#46039f\"], [0.2222222222222222, \"#7201a8\"], [0.3333333333333333, \"#9c179e\"], [0.4444444444444444, \"#bd3786\"], [0.5555555555555556, \"#d8576b\"], [0.6666666666666666, \"#ed7953\"], [0.7777777777777778, \"#fb9f3a\"], [0.8888888888888888, \"#fdca26\"], [1.0, \"#f0f921\"]], \"type\": \"contour\"}], \"contourcarpet\": [{\"colorbar\": {\"outlinewidth\": 0, \"ticks\": \"\"}, \"type\": \"contourcarpet\"}], \"heatmap\": [{\"colorbar\": {\"outlinewidth\": 0, \"ticks\": \"\"}, \"colorscale\": [[0.0, \"#0d0887\"], [0.1111111111111111, \"#46039f\"], [0.2222222222222222, \"#7201a8\"], [0.3333333333333333, \"#9c179e\"], [0.4444444444444444, \"#bd3786\"], [0.5555555555555556, \"#d8576b\"], [0.6666666666666666, \"#ed7953\"], [0.7777777777777778, \"#fb9f3a\"], [0.8888888888888888, \"#fdca26\"], [1.0, \"#f0f921\"]], \"type\": \"heatmap\"}], \"heatmapgl\": [{\"colorbar\": {\"outlinewidth\": 0, \"ticks\": \"\"}, \"colorscale\": [[0.0, \"#0d0887\"], [0.1111111111111111, \"#46039f\"], [0.2222222222222222, \"#7201a8\"], [0.3333333333333333, \"#9c179e\"], [0.4444444444444444, \"#bd3786\"], [0.5555555555555556, \"#d8576b\"], [0.6666666666666666, \"#ed7953\"], [0.7777777777777778, \"#fb9f3a\"], [0.8888888888888888, \"#fdca26\"], [1.0, \"#f0f921\"]], \"type\": \"heatmapgl\"}], \"histogram\": [{\"marker\": {\"colorbar\": {\"outlinewidth\": 0, \"ticks\": \"\"}}, \"type\": \"histogram\"}], \"histogram2d\": [{\"colorbar\": {\"outlinewidth\": 0, \"ticks\": \"\"}, \"colorscale\": [[0.0, \"#0d0887\"], [0.1111111111111111, \"#46039f\"], [0.2222222222222222, \"#7201a8\"], [0.3333333333333333, \"#9c179e\"], [0.4444444444444444, \"#bd3786\"], [0.5555555555555556, \"#d8576b\"], [0.6666666666666666, \"#ed7953\"], [0.7777777777777778, \"#fb9f3a\"], [0.8888888888888888, \"#fdca26\"], [1.0, \"#f0f921\"]], \"type\": \"histogram2d\"}], \"histogram2dcontour\": [{\"colorbar\": {\"outlinewidth\": 0, \"ticks\": \"\"}, \"colorscale\": [[0.0, \"#0d0887\"], [0.1111111111111111, \"#46039f\"], [0.2222222222222222, \"#7201a8\"], [0.3333333333333333, \"#9c179e\"], [0.4444444444444444, \"#bd3786\"], [0.5555555555555556, \"#d8576b\"], [0.6666666666666666, \"#ed7953\"], [0.7777777777777778, \"#fb9f3a\"], [0.8888888888888888, \"#fdca26\"], [1.0, \"#f0f921\"]], \"type\": \"histogram2dcontour\"}], \"mesh3d\": [{\"colorbar\": {\"outlinewidth\": 0, \"ticks\": \"\"}, \"type\": \"mesh3d\"}], \"parcoords\": [{\"line\": {\"colorbar\": {\"outlinewidth\": 0, \"ticks\": \"\"}}, \"type\": \"parcoords\"}], \"pie\": [{\"automargin\": true, \"type\": \"pie\"}], \"scatter\": [{\"marker\": {\"colorbar\": {\"outlinewidth\": 0, \"ticks\": \"\"}}, \"type\": \"scatter\"}], \"scatter3d\": [{\"line\": {\"colorbar\": {\"outlinewidth\": 0, \"ticks\": \"\"}}, \"marker\": {\"colorbar\": {\"outlinewidth\": 0, \"ticks\": \"\"}}, \"type\": \"scatter3d\"}], \"scattercarpet\": [{\"marker\": {\"colorbar\": {\"outlinewidth\": 0, \"ticks\": \"\"}}, \"type\": \"scattercarpet\"}], \"scattergeo\": [{\"marker\": {\"colorbar\": {\"outlinewidth\": 0, \"ticks\": \"\"}}, \"type\": \"scattergeo\"}], \"scattergl\": [{\"marker\": {\"colorbar\": {\"outlinewidth\": 0, \"ticks\": \"\"}}, \"type\": \"scattergl\"}], \"scattermapbox\": [{\"marker\": {\"colorbar\": {\"outlinewidth\": 0, \"ticks\": \"\"}}, \"type\": \"scattermapbox\"}], \"scatterpolar\": [{\"marker\": {\"colorbar\": {\"outlinewidth\": 0, \"ticks\": \"\"}}, \"type\": \"scatterpolar\"}], \"scatterpolargl\": [{\"marker\": {\"colorbar\": {\"outlinewidth\": 0, \"ticks\": \"\"}}, \"type\": \"scatterpolargl\"}], \"scatterternary\": [{\"marker\": {\"colorbar\": {\"outlinewidth\": 0, \"ticks\": \"\"}}, \"type\": \"scatterternary\"}], \"surface\": [{\"colorbar\": {\"outlinewidth\": 0, \"ticks\": \"\"}, \"colorscale\": [[0.0, \"#0d0887\"], [0.1111111111111111, \"#46039f\"], [0.2222222222222222, \"#7201a8\"], [0.3333333333333333, \"#9c179e\"], [0.4444444444444444, \"#bd3786\"], [0.5555555555555556, \"#d8576b\"], [0.6666666666666666, \"#ed7953\"], [0.7777777777777778, \"#fb9f3a\"], [0.8888888888888888, \"#fdca26\"], [1.0, \"#f0f921\"]], \"type\": \"surface\"}], \"table\": [{\"cells\": {\"fill\": {\"color\": \"#EBF0F8\"}, \"line\": {\"color\": \"white\"}}, \"header\": {\"fill\": {\"color\": \"#C8D4E3\"}, \"line\": {\"color\": \"white\"}}, \"type\": \"table\"}]}, \"layout\": {\"annotationdefaults\": {\"arrowcolor\": \"#2a3f5f\", \"arrowhead\": 0, \"arrowwidth\": 1}, \"coloraxis\": {\"colorbar\": {\"outlinewidth\": 0, \"ticks\": \"\"}}, \"colorscale\": {\"diverging\": [[0, \"#8e0152\"], [0.1, \"#c51b7d\"], [0.2, \"#de77ae\"], [0.3, \"#f1b6da\"], [0.4, \"#fde0ef\"], [0.5, \"#f7f7f7\"], [0.6, \"#e6f5d0\"], [0.7, \"#b8e186\"], [0.8, \"#7fbc41\"], [0.9, \"#4d9221\"], [1, \"#276419\"]], \"sequential\": [[0.0, \"#0d0887\"], [0.1111111111111111, \"#46039f\"], [0.2222222222222222, \"#7201a8\"], [0.3333333333333333, \"#9c179e\"], [0.4444444444444444, \"#bd3786\"], [0.5555555555555556, \"#d8576b\"], [0.6666666666666666, \"#ed7953\"], [0.7777777777777778, \"#fb9f3a\"], [0.8888888888888888, \"#fdca26\"], [1.0, \"#f0f921\"]], \"sequentialminus\": [[0.0, \"#0d0887\"], [0.1111111111111111, \"#46039f\"], [0.2222222222222222, \"#7201a8\"], [0.3333333333333333, \"#9c179e\"], [0.4444444444444444, \"#bd3786\"], [0.5555555555555556, \"#d8576b\"], [0.6666666666666666, \"#ed7953\"], [0.7777777777777778, \"#fb9f3a\"], [0.8888888888888888, \"#fdca26\"], [1.0, \"#f0f921\"]]}, \"colorway\": [\"#636efa\", \"#EF553B\", \"#00cc96\", \"#ab63fa\", \"#FFA15A\", \"#19d3f3\", \"#FF6692\", \"#B6E880\", \"#FF97FF\", \"#FECB52\"], \"font\": {\"color\": \"#2a3f5f\"}, \"geo\": {\"bgcolor\": \"white\", \"lakecolor\": \"white\", \"landcolor\": \"#E5ECF6\", \"showlakes\": true, \"showland\": true, \"subunitcolor\": \"white\"}, \"hoverlabel\": {\"align\": \"left\"}, \"hovermode\": \"closest\", \"mapbox\": {\"style\": \"light\"}, \"paper_bgcolor\": \"white\", \"plot_bgcolor\": \"#E5ECF6\", \"polar\": {\"angularaxis\": {\"gridcolor\": \"white\", \"linecolor\": \"white\", \"ticks\": \"\"}, \"bgcolor\": \"#E5ECF6\", \"radialaxis\": {\"gridcolor\": \"white\", \"linecolor\": \"white\", \"ticks\": \"\"}}, \"scene\": {\"xaxis\": {\"backgroundcolor\": \"#E5ECF6\", \"gridcolor\": \"white\", \"gridwidth\": 2, \"linecolor\": \"white\", \"showbackground\": true, \"ticks\": \"\", \"zerolinecolor\": \"white\"}, \"yaxis\": {\"backgroundcolor\": \"#E5ECF6\", \"gridcolor\": \"white\", \"gridwidth\": 2, \"linecolor\": \"white\", \"showbackground\": true, \"ticks\": \"\", \"zerolinecolor\": \"white\"}, \"zaxis\": {\"backgroundcolor\": \"#E5ECF6\", \"gridcolor\": \"white\", \"gridwidth\": 2, \"linecolor\": \"white\", \"showbackground\": true, \"ticks\": \"\", \"zerolinecolor\": \"white\"}}, \"shapedefaults\": {\"line\": {\"color\": \"#2a3f5f\"}}, \"ternary\": {\"aaxis\": {\"gridcolor\": \"white\", \"linecolor\": \"white\", \"ticks\": \"\"}, \"baxis\": {\"gridcolor\": \"white\", \"linecolor\": \"white\", \"ticks\": \"\"}, \"bgcolor\": \"#E5ECF6\", \"caxis\": {\"gridcolor\": \"white\", \"linecolor\": \"white\", \"ticks\": \"\"}}, \"title\": {\"x\": 0.05}, \"xaxis\": {\"automargin\": true, \"gridcolor\": \"white\", \"linecolor\": \"white\", \"ticks\": \"\", \"title\": {\"standoff\": 15}, \"zerolinecolor\": \"white\", \"zerolinewidth\": 2}, \"yaxis\": {\"automargin\": true, \"gridcolor\": \"white\", \"linecolor\": \"white\", \"ticks\": \"\", \"title\": {\"standoff\": 15}, \"zerolinecolor\": \"white\", \"zerolinewidth\": 2}}}, \"title\": {\"text\": \"Late bloomers\"}, \"width\": 900, \"yaxis\": {\"anchor\": \"x\", \"rangemode\": \"tozero\", \"title\": {\"text\": \"Number of days until becoming trending\"}}, \"yaxis2\": {\"anchor\": \"x\", \"dtick\": 61000, \"overlaying\": \"y\", \"rangemode\": \"tozero\", \"side\": \"right\", \"tickfont\": {\"color\": \"rgb(148, 103, 189)\"}, \"title\": {\"font\": {\"color\": \"rgb(148, 103, 189)\"}, \"text\": \"Total number of views\"}}},\n",
       "                        {\"responsive\": true}\n",
       "                    ).then(function(){\n",
       "                            \n",
       "var gd = document.getElementById('1b3f03f6-ee4a-4713-a217-baa134cb4d87');\n",
       "var x = new MutationObserver(function (mutations, observer) {{\n",
       "        var display = window.getComputedStyle(gd).display;\n",
       "        if (!display || display === 'none') {{\n",
       "            console.log([gd, 'removed!']);\n",
       "            Plotly.purge(gd);\n",
       "            observer.disconnect();\n",
       "        }}\n",
       "}});\n",
       "\n",
       "// Listen for the removal of the full notebook cells\n",
       "var notebookContainer = gd.closest('#notebook-container');\n",
       "if (notebookContainer) {{\n",
       "    x.observe(notebookContainer, {childList: true});\n",
       "}}\n",
       "\n",
       "// Listen for the clearing of the current output cell\n",
       "var outputEl = gd.closest('.output');\n",
       "if (outputEl) {{\n",
       "    x.observe(outputEl, {childList: true});\n",
       "}}\n",
       "\n",
       "                        })\n",
       "                };\n",
       "                });\n",
       "            </script>\n",
       "        </div>"
      ]
     },
     "metadata": {},
     "output_type": "display_data"
    }
   ],
   "source": [
    "# dropping passed values \n",
    "\n",
    "#in_videos.drop(in_videos.video_id == '\"zUZ1z7FwLc8\",\"CLl1RbxDRAs\",\"z3V9LUA6VQM\", \"jElRtesCnlA\", \"qP67alYxSiU\", \"JSkOecmAFFo\", \"l3fRny54z4U\", \"UTVFNrRwL1o\", \"K6JyjjNnTlg\", \"4tEqzEo5uKY\", \"8vBjlhp73hU\", \"KskjXRkmJW4\", \"NTiSvK7c810\", \"sOwXjFMy17Y\", \"h6Z9mmSNJcw\"'), inplace = True) \n",
    "max_title_length = 20\n",
    "number_of_late_bloomers = 15\n",
    "in_videos_first[\"days_before_trend\"]= in_videos[\"days_before_trend\"].astype(float)\n",
    "late_bloomers = in_videos_first.sort_values([\"days_before_trend\"], ascending=False).head(number_of_late_bloomers)\n",
    "late_bloomers_title = [(x if len(x) <= max_title_length else x[:max_title_length] + \"...\") for x in late_bloomers.title.values]\n",
    "late_bloomers_days = late_bloomers.days_before_trend.values\n",
    "late_bloomers_views = late_bloomers.views.values\n",
    "\n",
    "trace1 = go.Bar(\n",
    "    x = late_bloomers_title,\n",
    "    y = late_bloomers_days,\n",
    "    name='Number of days',\n",
    "    marker=dict(\n",
    "        color='rgba(55, 128, 191, 0.7)',\n",
    "        line=dict(\n",
    "            color='rgba(55, 128, 191, 1.0)',\n",
    "            width=2,\n",
    "        )\n",
    "    )\n",
    ")\n",
    "trace2 = go.Bar(\n",
    "    x = late_bloomers_title,\n",
    "    y = late_bloomers_views,\n",
    "    name='total views',\n",
    "    marker=dict(\n",
    "        color='rgba(219, 64, 82, 0.7)',\n",
    "        line=dict(\n",
    "            color='rgba(219, 64, 82, 1.0)',\n",
    "            width=2,\n",
    "        )\n",
    "    ),\n",
    "    yaxis='y2'\n",
    ")\n",
    "\n",
    "\n",
    "data = [trace1, trace2]\n",
    "layout = go.Layout(\n",
    "    barmode='group',\n",
    "    title = 'Late bloomers',\n",
    "    width=900,\n",
    "    height=500,\n",
    "    margin=go.Margin(\n",
    "        l=75,\n",
    "        r=75,\n",
    "        b=120,\n",
    "        t=80,\n",
    "        pad=10\n",
    "    ),\n",
    "    paper_bgcolor='rgb(244, 238, 225)',\n",
    "    plot_bgcolor='rgb(244, 238, 225)',\n",
    "    yaxis = dict(\n",
    "        title= 'Number of days until becoming trending',\n",
    "        anchor = 'x',\n",
    "        rangemode='tozero'\n",
    "    ),   \n",
    "    yaxis2=dict(\n",
    "        title='Total number of views',\n",
    "        titlefont=dict(\n",
    "            color='rgb(148, 103, 189)'\n",
    "        ),\n",
    "        tickfont=dict(\n",
    "            color='rgb(148, 103, 189)'\n",
    "        ),\n",
    "        overlaying='y',\n",
    "        side='right',\n",
    "        anchor = 'x',\n",
    "        rangemode = 'tozero',\n",
    "        dtick = 61000\n",
    "    ),\n",
    "    #legend=dict(x=-.1, y=1.2)\n",
    "    legend=dict(x=0.1, y=0.05)\n",
    ")\n",
    "\n",
    "fig = go.Figure(data=data, layout=layout)\n",
    "py.iplot(fig)"
   ]
  },
  {
   "cell_type": "markdown",
   "metadata": {},
   "source": [
    "- The above graph displays the data regarding those videos which waited the longest before they became trending. \n",
    "\n",
    "- It can be seen that the video titled **`Drunk and Drive Test`** took **`220 days`** to reach the trending videos list with around **`38k views`**.\n",
    "\n",
    "- The video titled **`MAGGI Masala-ae-magic`** took **`10 days`** to reach the trending videos list with around **`384k views`**.\n",
    "\n",
    "- On the contrary, the video **` Google I/O'18`** had around **`853k views`** in the time span of **`15 days`**."
   ]
  },
  {
   "cell_type": "markdown",
   "metadata": {},
   "source": [
    " [Back](#2.10)"
   ]
  },
  {
   "cell_type": "markdown",
   "metadata": {
    "_cell_guid": "8dad2506-94ae-4ea6-a6f5-44a1c128cfa6",
    "_uuid": "a308395a3fc499b17367d0af06e628de37a63f36"
   },
   "source": [
    "## 2.11. Non-Reactor Viewers\n",
    "<a id=\"non_reactor_viewers\"></a>"
   ]
  },
  {
   "cell_type": "code",
   "execution_count": 43,
   "metadata": {},
   "outputs": [
    {
     "data": {
      "image/png": "[encoded data removed]",
      "text/plain": [
       "<Figure size 432x288 with 1 Axes>"
      ]
     },
     "metadata": {},
     "output_type": "display_data"
    }
   ],
   "source": [
    "in_videos_first['likes_log'] = np.log(in_videos['likes'] + 1)\n",
    "in_videos_first['dislikes_log'] = np.log(in_videos['dislikes'] + 1)\n",
    "in_videos_first['comment_log'] = np.log(in_videos['comment_count'] + 1)\n",
    "in_videos_first['non-reactors'] = np.log(in_videos['non-reactors'] + 1)\n",
    "\n",
    "likes = in_videos_first['likes_log'].sum() / in_videos_first['likes_log'].count()\n",
    "#print(likes)\n",
    "dislikes = in_videos_first['dislikes_log'].sum() / in_videos_first['dislikes_log'].count()\n",
    "#print(dislikes)\n",
    "comments = in_videos_first['comment_log'].sum() / in_videos_first['comment_log'].count()\n",
    "#print(comments)\n",
    "non_reactors = in_videos_first['non-reactors'].sum() / in_videos_first['non-reactors'].count()\n",
    "#print(non_reactors)\n",
    "\n",
    "x = 'Likes', 'Dislikes', 'Comments' , 'Non-Reactors'\n",
    "y = [likes,dislikes,comments,non_reactors]\n",
    "colors = [\"#1f77b4\", \"#ff7f0e\", \"#2ca02c\", \"#d62728\"]\n",
    "plt.pie(y, labels=x,colors=colors,autopct='%1.1f%%', startangle=140)\n",
    "plt.show()"
   ]
  },
  {
   "cell_type": "markdown",
   "metadata": {},
   "source": [
    "Trending videos that have **`40.9%`** Non-Reactors Viewers, **`24.9%`** Likes, **`17.1%`** Dislikes, **`17.0%`** Comments"
   ]
  },
  {
   "cell_type": "markdown",
   "metadata": {},
   "source": [
    " [Back](#2.11)"
   ]
  },
  {
   "cell_type": "markdown",
   "metadata": {},
   "source": [
    "## 2.12. Tags wordcloud\n",
    "<a id=\"tags_wordcloud\"></a>\n",
    "This section dedicated to tags that support the videos to reach the trending list."
   ]
  },
  {
   "cell_type": "code",
   "execution_count": 44,
   "metadata": {},
   "outputs": [
    {
     "data": {
      "image/png": "[encoded data removed]",
      "text/plain": [
       "<Figure size 720x576 with 1 Axes>"
      ]
     },
     "metadata": {},
     "output_type": "display_data"
    }
   ],
   "source": [
    "from wordcloud import WordCloud, STOPWORDS\n",
    "from PIL import Image\n",
    "import urllib\n",
    "import requests\n",
    "import numpy as np\n",
    "import matplotlib.pyplot as plt\n",
    "\n",
    "\n",
    "mask = np.array(Image.open(requests.get('http://www.clker.com/cliparts/O/i/x/Y/q/P/yellow-house-hi.png', stream=True).raw))\n",
    "\n",
    "# This function takes in your text and your mask and generates a wordcloud. \n",
    "def generate_wordcloud(mask):\n",
    "    word_cloud = WordCloud(width = 512, height = 512, background_color='white', stopwords=STOPWORDS, mask=mask).generate(str(in_videos[\"tags\"]))\n",
    "    plt.figure(figsize=(10,8),facecolor = 'white', edgecolor='blue')\n",
    "    plt.imshow(word_cloud)\n",
    "    plt.axis('off')\n",
    "    plt.tight_layout(pad=0)\n",
    "    plt.show()\n",
    "    \n",
    "#Run the following to generate your wordcloud\n",
    "generate_wordcloud(mask)"
   ]
  },
  {
   "cell_type": "markdown",
   "metadata": {},
   "source": [
    " [Back](#2.12)"
   ]
  },
  {
   "cell_type": "markdown",
   "metadata": {
    "_cell_guid": "8dad2506-94ae-4ea6-a6f5-44a1c128cfa6",
    "_uuid": "a308395a3fc499b17367d0af06e628de37a63f36"
   },
   "source": [
    "## 2.13. Videos have both comments and ratings disabled\n",
    "<a id=\"comments_and_ratings_disabled\"></a>"
   ]
  },
  {
   "cell_type": "code",
   "execution_count": 45,
   "metadata": {},
   "outputs": [
    {
     "data": {
      "text/plain": [
       "360"
      ]
     },
     "execution_count": 45,
     "metadata": {},
     "output_type": "execute_result"
    }
   ],
   "source": [
    "len(in_videos[(in_videos[\"comments_disabled\"] == True) & (in_videos[\"ratings_disabled\"] == True)].index)"
   ]
  },
  {
   "cell_type": "markdown",
   "metadata": {
    "_cell_guid": "8dad2506-94ae-4ea6-a6f5-44a1c128cfa6",
    "_uuid": "a308395a3fc499b17367d0af06e628de37a63f36"
   },
   "source": [
    "So there are just **360** trending videos that have both comments and ratings disabled"
   ]
  },
  {
   "cell_type": "markdown",
   "metadata": {},
   "source": [
    " [Back](#2.13)"
   ]
  },
  {
   "cell_type": "markdown",
   "metadata": {},
   "source": [
    "# 3. Conclusions\n",
    "<a id=\"Conclusions\"></a>"
   ]
  },
  {
   "cell_type": "markdown",
   "metadata": {},
   "source": [
    "Here are the some of the results we extracted from the analysis:\n",
    "\n",
    "* We analyzed a dataset that contains information about YouTube trending videos for **213 days**. The dataset was collected in **2017 and 2018**. It contains **37351** video entry.\n",
    "* Trending videos that have **40.9%** Non-Reactors Viewers, **24.9%** Likes, **17.1%** Dislikes, **17.0%** Comments\n",
    "* Some videos may appear on the trending videos list on more than one day. Our dataset contains **37351** entries but for **16307** unique videos.\n",
    "* Trending videos that have **40,000,000** views and more have title length between **55 and 60** characters approximately.\n",
    "* The words **'Comedy', 'Local', 'Wedding', 'Movie', and 'twinkle'** were common also in trending video tags.\n",
    "* There is a strong positive correlation between the number of views and the number of likes of trending videos: As one of them increases, the other increases, and vice versa.\n",
    "* There is a strong positive correlation also between the number of **likes and the number of comments**, and a slightly weaker one between the number of **dislikes and the number of comments**.\n",
    "* The category that has the largest number of trending videos is **'Entertainment' with 16.712k videos**, followed by **'News & Politics' category with 5,240 videos**, followed by **'Music' category with 3858 videos**.\n",
    "* On the opposite side, the category that has the smallest number of trending videos is **'Nonprofits & Activisim' with 105 videos**, followed by **'Shows' with 205 videos**, followed by **'Science & Technology' with 552 videos**."
   ]
  },
  {
   "cell_type": "markdown",
   "metadata": {},
   "source": [
    " [Back](#3)"
   ]
  }
 ],
 "metadata": {
  "kernelspec": {
   "display_name": "Python 3",
   "language": "python",
   "name": "python3"
  },
  "language_info": {
   "codemirror_mode": {
    "name": "ipython",
    "version": 3
   },
   "file_extension": ".py",
   "mimetype": "text/x-python",
   "name": "python",
   "nbconvert_exporter": "python",
   "pygments_lexer": "ipython3",
   "version": "3.7.6"
  }
 },
 "nbformat": 4,
 "nbformat_minor": 1
}
